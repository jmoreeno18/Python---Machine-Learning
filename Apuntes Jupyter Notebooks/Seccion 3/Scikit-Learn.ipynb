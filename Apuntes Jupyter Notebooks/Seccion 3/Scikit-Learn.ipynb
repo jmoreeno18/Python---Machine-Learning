{
 "cells": [
  {
   "cell_type": "markdown",
   "id": "casual-partnership",
   "metadata": {},
   "source": [
    "<br>\n",
    "<img align=\"center\" src=\"imagenes/logo.png\"  width=\"200\" height=\"141\">\n",
    "<font size=36><center> Machine Learning con Python </center> </font>\n",
    "<br>"
   ]
  },
  {
   "cell_type": "markdown",
   "id": "convenient-infrastructure",
   "metadata": {},
   "source": [
    "<h1 align='center'> Modulo III: Procesamiento y visualización de Datos </h1>\n",
    "<h2 align='center'>  Introducción a la librería Scikit-Learn </h2>  "
   ]
  },
  {
   "cell_type": "markdown",
   "id": "steady-jewelry",
   "metadata": {},
   "source": [
    "---"
   ]
  },
  {
   "cell_type": "markdown",
   "id": "center-domestic",
   "metadata": {},
   "source": [
    "## ¿Qué es Scikit-Learn (Sklearn)?\n",
    "\n",
    "Scikit-learn (sklearn) una de las más completas y robustas librerías para machine learning con Python. Esta contiene un conjunto de eficientes herramientas para el machine learning y el modelas estadístico que incluyen:\n",
    "* **Clasificación.**\n",
    "* **Regresión.**\n",
    "* **Clusterización**\n",
    "* **Reducción de la dimensionalidad**\n",
    "\n",
    "Está librería está escrita en gran parte en Python, está construida sobre **Numpy**, **Scipy** y **Matplotlib**."
   ]
  },
  {
   "cell_type": "markdown",
   "id": "charitable-mozambique",
   "metadata": {},
   "source": [
    "## Instalación"
   ]
  },
  {
   "cell_type": "markdown",
   "id": "commercial-business",
   "metadata": {},
   "source": [
    "La instalación de esta librería es muy fácilse puede instalar via pip:\n",
    "\n",
    "<font><center> pip install -U scikit-learn </center> </font>\n",
    "\n",
    "Como también se puede instalar usando conda:\n",
    "\n",
    "<font><center> conda install -U scikit-learn </center> </font>"
   ]
  },
  {
   "cell_type": "markdown",
   "id": "solar-sharing",
   "metadata": {},
   "source": [
    "## Características\n",
    "\n",
    "Scikit-learn está enfocado al modelado de datos, algunos de los grupos de modelos más populares que ofrece son los siguientes:\n",
    "\n",
    "* **Algoritmos de Aprendizaje Supervisado:** Los algoritmos más usados en esta área son: \n",
    "    * Regresión Lineal.\n",
    "    * Regresión Logistica.\n",
    "    * Máquinas de Soporte Vectorial (SVM).\n",
    "    * Árboles de Decisión.\n",
    "    * Redes Neuronales.\n",
    "    * Estos son algunos de muchos.\n",
    "    \n",
    "* **Algorítmos de Aprendizaje no Supervisado:** Entre los algorítmos que podemos mencionar en esta área están:\n",
    "    * Análisis de Componentes Principales (PCA) .\n",
    "    * K-Means\n",
    "    * \n",
    "* **Clustering:** Estos modelos son usados para agrupar data no etiquetada.\n",
    "\n",
    "* **Validación Cruzada:** La validación cruzada es para la tasa de acierto en los modelos supervisados.\n",
    "\n",
    "* **Reducción de Dimensionalidad:** Es usado para reducir el número de atributos en un conjunto de datos para resumir, visualizar y seleccionar características.\n",
    "\n",
    "* **Ensamblaje de métodos:** Es usado para combinar las predicciones de multiples modelos supervisados."
   ]
  },
  {
   "cell_type": "markdown",
   "id": "latin-fight",
   "metadata": {},
   "source": [
    "## Procesos de Modelado"
   ]
  },
  {
   "cell_type": "markdown",
   "id": "rotary-posting",
   "metadata": {},
   "source": [
    "### Dataset de pruebas\n",
    "\n",
    "Scikit-Learn dispone de varios conjuntos de dataset con el que podemos poner en práctica el desarrollo de modelos de regresión o de clasificación."
   ]
  },
  {
   "cell_type": "markdown",
   "id": "underlying-world",
   "metadata": {},
   "source": [
    "### Preprocesamiento\n",
    "\n",
    "Una fase muy importante en el desarrollo de cualquier modelo es el preprocesamiento de los datos. Scikit-Learn no ayuda con herramientas para:\n",
    "* Separación de los datos para el entrenamiento y el test.\n",
    "* Normalización y estandarización de los datos.\n",
    "* Binarización.\n",
    "* Etiquetado.\n",
    "* etc."
   ]
  },
  {
   "cell_type": "markdown",
   "id": "educated-setup",
   "metadata": {},
   "source": [
    "### Representación.\n",
    "\n",
    "Existen herramientas en scikit-learn que nos permite convertir el conjunto de datos a tablas o matrices."
   ]
  },
  {
   "cell_type": "markdown",
   "id": "wrapped-advisory",
   "metadata": {},
   "source": [
    "### Predición y validación de modelos\n",
    "\n",
    "Con Scikit-Learn podremos hacer validación cuzadas, comparar diferentes modelos, ajustar hiperparámetros de los modelos, generar reportes y un largo etc de opciones."
   ]
  },
  {
   "cell_type": "markdown",
   "id": "caroline-compensation",
   "metadata": {},
   "source": [
    "### Persistencia de los modelos\n",
    "\n",
    "Scikit-learn nos permite guardar los modelos entrenados en diferentes formato para luego ser utilizados posteriormente o ser utilizados en el desarrollo de proyectos."
   ]
  },
  {
   "cell_type": "markdown",
   "id": "differential-violin",
   "metadata": {},
   "source": [
    "### Sitio web\n",
    "\n",
    "Es muy recomendable visitar el sitio web, ya que dispone de multiples secciones e información extensa con ejemplos y una amplia documentación. Es un sitio que ees obligatorio visitar para todo aquel que quiera aprender sobre Machine Learning.\n",
    "\n",
    "\n",
    " <div align='center'>\n",
    "    <a href='http:www.scikit-learn.org'> Sitio web de scikit-learn </a>       \n",
    " </div>"
   ]
  }
 ],
 "metadata": {
  "kernelspec": {
   "display_name": "Python 3",
   "language": "python",
   "name": "python3"
  },
  "language_info": {
   "codemirror_mode": {
    "name": "ipython",
    "version": 3
   },
   "file_extension": ".py",
   "mimetype": "text/x-python",
   "name": "python",
   "nbconvert_exporter": "python",
   "pygments_lexer": "ipython3",
   "version": "3.8.5"
  }
 },
 "nbformat": 4,
 "nbformat_minor": 5
}
