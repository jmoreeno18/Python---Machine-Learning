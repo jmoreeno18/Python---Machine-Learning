{
 "cells": [
  {
   "cell_type": "markdown",
   "id": "arctic-henry",
   "metadata": {},
   "source": [
    "<br>\n",
    "<img align=\"center\" src=\"imagenes/logo.png\"  width=\"200\" height=\"141\">\n",
    "<font size=36><center> Machine Learning con Python </center> </font>\n",
    "<br>"
   ]
  },
  {
   "cell_type": "markdown",
   "id": "knowing-windsor",
   "metadata": {},
   "source": [
    "<h1 align='center'> Modulo IV: Machine Learning </h1>\n",
    "<h2 align='center'>  K-Means </h2> "
   ]
  },
  {
   "cell_type": "markdown",
   "id": "billion-carry",
   "metadata": {},
   "source": [
    "---"
   ]
  },
  {
   "cell_type": "markdown",
   "id": "decent-emission",
   "metadata": {},
   "source": [
    "# Aspectos teóricos"
   ]
  },
  {
   "cell_type": "markdown",
   "id": "exclusive-junior",
   "metadata": {},
   "source": [
    "## Introducción\n",
    "\n",
    "El algoritmo **K-Means** divide un conjunto de $N$ muestras de $X$ en $K$  clusters disjuntos, cada uno descrito por la media $\\mu_j$ de las muestras del clúster. Las medias se denominan comúnmente los **\"centroides\" de los clusters**; note que no son, en general, puntos de $X$ , aunque vivan en el mismo espacio. El algoritmo K-means tiene como objetivo elegir los centroides que minimicen la inercia, o la suma de cuadrados dentro del clúster:\n",
    "\n",
    "$$\\sum_{i=0}^{n} \\min_{\\mu_j \\in C} (||x_j-\\mu_i||^2)$$\n",
    "\n"
   ]
  },
  {
   "cell_type": "markdown",
   "id": "swiss-japanese",
   "metadata": {},
   "source": [
    "## Algoritmo\n",
    "\n",
    "El algoritmo dde K-means usa un refinamiento iterativo que produce el resultado final. La entrada al algoritmo son el número de cluster $K$ y el dataset. El dataset es un conjunto de características de cada punto. El algoritmo comienza con una estomación de los $K$ centroides, los cuales pueden ser generados aleatoriamente o seleccionados aleatoriamente del dataset. El algoritmo entonces itera entre los siguientes dos pasos:\n",
    "\n",
    "**Paso de asignación de datos:** Cada centroide define uno de los clusters. En este paso, cada punto es asignado a su centroide más cercado, basándose en la distancia euclídea al cuadrado. Más formalmente, si $c_i$ es del conjunto de centroides $C$, entonces cada punto $x$ se asigna a un cluster $C$ basado en:\n",
    "\n",
    "$$arg\\min_{c_i \\in C}  dist(c_i, x)^2$$\n",
    "\n",
    "donde $dist(.)$ es la distancia Euclídea. Este conjunto de puntos es asignado al conjunto $S_i$. \n",
    "\n",
    "**Paso de actualización de Centroides:** En este paso los centroides son recalculados. Para ello, se toma la media de todos los puntos de datos asignados al cluster de ese centroide.\n",
    "\n",
    "$$c_i = \\frac{1}{|S_i|} \\sum_{x_i \\in S_i} x_i$$\n",
    "\n",
    "El algoritmo itera entre los pasos uno y dos hasta que se cumpla un criterio de parada (es decir, que ningún punto de datos cambie de cluster, que la suma de las distancias se minimice o que se alcance un número máximo de iteraciones).\n",
    "\n",
    "Se garantiza que este algoritmo converge a un resultado. El resultado puede ser un óptimo local (es decir, no necesariamente el mejor resultado posible), lo que significa que evaluar más de una ejecución del algoritmo con centros de partida aleatorios puede dar un mejor resultado.\n",
    "\n",
    "<img align=\"center\" src=\"imagenes/kmeans.gif\"  width=\"400\" height=\"400\">"
   ]
  },
  {
   "cell_type": "markdown",
   "id": "imported-liechtenstein",
   "metadata": {},
   "source": [
    "# Práctica"
   ]
  },
  {
   "cell_type": "code",
   "execution_count": 17,
   "id": "embedded-closer",
   "metadata": {},
   "outputs": [],
   "source": [
    "import pandas as pd\n",
    "import numpy as np\n",
    "from matplotlib import pyplot as plt\n",
    "from sklearn.cluster import KMeans"
   ]
  },
  {
   "cell_type": "code",
   "execution_count": 12,
   "id": "toxic-wallpaper",
   "metadata": {},
   "outputs": [],
   "source": [
    "data = pd.read_csv('datos/kmeans.csv', sep = '\\t', names =['x1','x2'])"
   ]
  },
  {
   "cell_type": "code",
   "execution_count": 13,
   "id": "smaller-american",
   "metadata": {},
   "outputs": [
    {
     "data": {
      "text/html": [
       "<div>\n",
       "<style scoped>\n",
       "    .dataframe tbody tr th:only-of-type {\n",
       "        vertical-align: middle;\n",
       "    }\n",
       "\n",
       "    .dataframe tbody tr th {\n",
       "        vertical-align: top;\n",
       "    }\n",
       "\n",
       "    .dataframe thead th {\n",
       "        text-align: right;\n",
       "    }\n",
       "</style>\n",
       "<table border=\"1\" class=\"dataframe\">\n",
       "  <thead>\n",
       "    <tr style=\"text-align: right;\">\n",
       "      <th></th>\n",
       "      <th>x1</th>\n",
       "      <th>x2</th>\n",
       "    </tr>\n",
       "  </thead>\n",
       "  <tbody>\n",
       "    <tr>\n",
       "      <th>0</th>\n",
       "      <td>1.842080</td>\n",
       "      <td>4.607572</td>\n",
       "    </tr>\n",
       "    <tr>\n",
       "      <th>1</th>\n",
       "      <td>5.658583</td>\n",
       "      <td>4.799964</td>\n",
       "    </tr>\n",
       "    <tr>\n",
       "      <th>2</th>\n",
       "      <td>6.352579</td>\n",
       "      <td>3.290854</td>\n",
       "    </tr>\n",
       "    <tr>\n",
       "      <th>3</th>\n",
       "      <td>2.904017</td>\n",
       "      <td>4.612204</td>\n",
       "    </tr>\n",
       "    <tr>\n",
       "      <th>4</th>\n",
       "      <td>3.231979</td>\n",
       "      <td>4.939894</td>\n",
       "    </tr>\n",
       "  </tbody>\n",
       "</table>\n",
       "</div>"
      ],
      "text/plain": [
       "         x1        x2\n",
       "0  1.842080  4.607572\n",
       "1  5.658583  4.799964\n",
       "2  6.352579  3.290854\n",
       "3  2.904017  4.612204\n",
       "4  3.231979  4.939894"
      ]
     },
     "execution_count": 13,
     "metadata": {},
     "output_type": "execute_result"
    }
   ],
   "source": [
    "data.head()"
   ]
  },
  {
   "cell_type": "code",
   "execution_count": 14,
   "id": "level-necessity",
   "metadata": {},
   "outputs": [],
   "source": [
    "X = np.array(data)"
   ]
  },
  {
   "cell_type": "markdown",
   "id": "raised-witch",
   "metadata": {},
   "source": [
    "### Creamos el modelo y entrenamos"
   ]
  },
  {
   "cell_type": "code",
   "execution_count": 18,
   "id": "complicated-deployment",
   "metadata": {},
   "outputs": [
    {
     "data": {
      "text/plain": [
       "KMeans(n_clusters=3)"
      ]
     },
     "execution_count": 18,
     "metadata": {},
     "output_type": "execute_result"
    }
   ],
   "source": [
    "# Creamos el modelo para K = 3\n",
    "kmeans = KMeans(n_clusters=3)\n",
    "kmeans.fit(X)"
   ]
  },
  {
   "cell_type": "code",
   "execution_count": 19,
   "id": "radio-breakdown",
   "metadata": {},
   "outputs": [],
   "source": [
    "# Obtenemos los centroides\n",
    "centroids = kmeans.cluster_centers_\n",
    "\n",
    "# Obtenemos los clusters\n",
    "assignments = kmeans.labels_"
   ]
  },
  {
   "cell_type": "code",
   "execution_count": 21,
   "id": "complicated-herald",
   "metadata": {},
   "outputs": [
    {
     "data": {
      "image/png": "[encoded data removed]",
      "text/plain": [
       "<Figure size 432x288 with 1 Axes>"
      ]
     },
     "metadata": {
      "needs_background": "light"
     },
     "output_type": "display_data"
    }
   ],
   "source": [
    "def plot_cluster(X, centroids, assignments, cluster, color):\n",
    "    '''Se grafica los centroides y cada cluster.'''\n",
    "    plt.plot(X[assignments == cluster, 0], X[assignments == cluster, 1], f'{color}o', label=f'Cluster {cluster}')\n",
    "    plt.plot(centroids[cluster, 0], centroids[cluster, 1], 'kx', ms=20, mew=4)\n",
    "    \n",
    "# se grafica los clusters de colores distintos\n",
    "for i, color in enumerate('rgb'):\n",
    "    plot_cluster(X, centroids, assignments, i, color)    \n",
    "\n",
    "plt.title('K-means Clustering')\n",
    "plt.legend();"
   ]
  }
 ],
 "metadata": {
  "kernelspec": {
   "display_name": "Python 3",
   "language": "python",
   "name": "python3"
  },
  "language_info": {
   "codemirror_mode": {
    "name": "ipython",
    "version": 3
   },
   "file_extension": ".py",
   "mimetype": "text/x-python",
   "name": "python",
   "nbconvert_exporter": "python",
   "pygments_lexer": "ipython3",
   "version": "3.8.5"
  }
 },
 "nbformat": 4,
 "nbformat_minor": 5
}
