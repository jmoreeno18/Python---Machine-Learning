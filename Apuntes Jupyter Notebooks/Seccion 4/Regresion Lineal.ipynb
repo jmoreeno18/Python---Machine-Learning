{
 "cells": [
  {
   "cell_type": "markdown",
   "id": "9e3fc88c",
   "metadata": {},
   "source": [
    "<br>\n",
    "<img align=\"center\" src=\"imagenes/logo.png\"  width=\"200\" height=\"141\">\n",
    "<font size=36><center> Machine Learning con Python </center> </font>\n",
    "<br>"
   ]
  },
  {
   "cell_type": "markdown",
   "id": "6ad8b803",
   "metadata": {},
   "source": [
    "<h1 align='center'> Modulo IV: Machine Learning </h1>\n",
    "<h2 align='center'>  Regresión Lineal </h2> "
   ]
  },
  {
   "cell_type": "markdown",
   "id": "e8f86e64",
   "metadata": {},
   "source": [
    "---"
   ]
  },
  {
   "cell_type": "markdown",
   "id": "8789ef66",
   "metadata": {},
   "source": [
    "# Aspectos teóricos"
   ]
  },
  {
   "cell_type": "markdown",
   "id": "39453f1f",
   "metadata": {},
   "source": [
    "## Introducción\n",
    "\n",
    "La **regresión lineal**, es un modelo matemático que busca establecer la relación de dependencia entre un conjunto de variables explicativas $x_1,x_2,\\ldots,x_n$ y una variable respuesta continua $y$.\n",
    "\n",
    "En el caso de una variable (**regresión lineal simple**), esta ecuación corresponde al de una recta:\n",
    "$$y = \\beta_0 + \\beta_1 x $$\n",
    "\n",
    "Aquí, el peso $\\beta_0$ representa la intersección con respecto al eje $y$, y $\\beta_1$ el coeficiente de la variable explicatoria $x$. La meta es que el modelo aprenda los valores de los pesos de la ecuación lineal que describe la relación entre la variable explicativa y la variable objetivo. Esto nos permitirá predecir la respuesta de nuevos valores de la variable explicativa para valores que no se encuentran en el conjunto de datos de entrenamiento."
   ]
  },
  {
   "cell_type": "markdown",
   "id": "53e935ca",
   "metadata": {},
   "source": [
    "<img align=\"center\" src=\"imagenes/Linear_regression.png\"  width=\"400\" height=\"550\">"
   ]
  },
  {
   "cell_type": "markdown",
   "id": "5c4c1651",
   "metadata": {},
   "source": [
    "## Modelo General\n",
    "\n",
    "Un modelo de **regresión lineal múltiple** tiene la siguiente forma:\n",
    "$$y = \\beta_0 + \\beta_1 x_1 + \\beta_2 x_2 + \\ldots + \\beta_n x_n + \\epsilon$$\n",
    "\n",
    "donde:\n",
    "\n",
    "* $y$ es la variable objetivo, target o respuesta.\n",
    "* $x_1, x_2,\\ldots, x_n$, son las variables independientes, explicativas, o regresoras.\n",
    "* $\\beta_0,\\beta_1,\\beta_2,\\ldots, \\beta_n$, son los parámetros a determinar en el modelo y miden la influencia de cada una de las variables asociadas.\n",
    "* $\\epsilon$ representa el error que se genera en el modelo"
   ]
  },
  {
   "cell_type": "markdown",
   "id": "67e86bfe",
   "metadata": {},
   "source": [
    "## Hipótesis del modelo\n",
    "\n",
    "1. **Linealidad**. Los valores de la variable dependiente están generados por el modelo lineal: \n",
    "\n",
    "$$y = \\beta_0 + \\beta_1 x_1 + \\beta_2 x_2 + \\ldots + \\beta_n x_n + \\epsilon$$\n",
    "\n",
    "\n",
    "2. **Independencia lineal**. No existe relación entre las variables explicativas.\n",
    "\n",
    "\n",
    "3. **Homocedasticidad**. Todas las perturbaciones tienen las misma varianza, $Var(\\epsilon_i)=\\sigma^2$\n",
    "\n",
    "\n",
    "4. **Normalidad**. Los errores tienen una distribución normal, $\\epsilon \\approx N(0,\\sigma^2)$"
   ]
  },
  {
   "cell_type": "markdown",
   "id": "6cc5ef45",
   "metadata": {},
   "source": [
    "## Método clásico para la estimación de los coeficientes o parámetros del modelo.\n",
    "\n",
    "El método de **mínimos cuadrados ordinario**, por sus siglas en inglés (OLS), consiste en minimizar el error de los cuadrados de los errores que se comenten al aproximar los valores de $y$ por $\\hat y$. Esto seria de la siguiente forma:\n",
    "$$ L(\\hat\\beta_0, \\hat \\beta_1) = \\min_{\\hat\\beta_0, \\hat \\beta_1} = \\sum_{i = 1}^{n} \\epsilon_{i}^2 = \\sum_{i = 1}^{n} (y_i - \\hat y_i)^2 = \\sum_{i = 1}^{n} (y_i -\\hat\\beta_0 - \\hat\\beta_1 x_i)^2$$"
   ]
  },
  {
   "attachments": {
    "regresion1.jpg": {
     "image/jpeg": "[encoded data removed]"
    }
   },
   "cell_type": "markdown",
   "id": "c49734be",
   "metadata": {},
   "source": [
    "![regresion1.jpg](attachment:regresion1.jpg)\n",
    "\n",
    "<div style=\"text-align: right\"> Fuente: Raschka, Sebastian. Python Machine Learning </div>"
   ]
  },
  {
   "cell_type": "markdown",
   "id": "39a4c9b3",
   "metadata": {},
   "source": [
    "### 1. Función objetivo:\n",
    "$$ \\min L(\\hat\\beta_0, \\hat \\beta_1) = \\sum_{i = 1}^{n} (y_i -\\hat\\beta_0 - \\hat\\beta_1 x_i)^2$$"
   ]
  },
  {
   "cell_type": "markdown",
   "id": "f9037dae",
   "metadata": {},
   "source": [
    "### 2. Condiciones:\n",
    "\n",
    "$$\\left\\{\n",
    "\\begin{array}{rcl}\n",
    "     \\displaystyle\\frac{\\partial L}{\\partial \\hat\\beta_0} & = &  \\displaystyle -2 \\sum_{i=1}^{n} (y_i -\\hat\\beta_0 -\\hat\\beta_1 x_i) = 0\n",
    "   \\\\  \\displaystyle\\frac{\\partial L}{\\partial \\hat\\beta_1} & = &  \\displaystyle-2 \\sum_{i=1}^{n} (y_i -\\hat\\beta_0 -\\hat\\beta_1 x_i)x_i =0\n",
    "\\end{array}\n",
    "\\right.$$"
   ]
  },
  {
   "cell_type": "markdown",
   "id": "48f2db80",
   "metadata": {},
   "source": [
    "### 3. Solución:\n",
    "\n",
    "$$\\left\\{\n",
    "\\begin{array}{rcl}\n",
    "     \\displaystyle\\hat \\beta_0  & = &  \\displaystyle\\bar y - \\hat\\beta_1 \\bar x\n",
    "   \\\\  \\displaystyle\\hat \\beta_1  & = & \\displaystyle\\frac{\\sum_{i=1}^{n}(y_i - \\bar y)(x_i - \\bar x)}{\\sum_{i=1}^{n}(x_i - \\bar x)^2}= \\frac{Cov(x,y)}{Var(x)} = (X^{t}X)^{-1}X^{t}y\n",
    "\\end{array}\n",
    "\\right. $$\n",
    "\n"
   ]
  },
  {
   "cell_type": "markdown",
   "id": "d0c011e2",
   "metadata": {},
   "source": [
    "# Práctica"
   ]
  },
  {
   "cell_type": "code",
   "execution_count": 3,
   "id": "extraordinary-panel",
   "metadata": {},
   "outputs": [],
   "source": [
    "import pandas as pd\n",
    "import numpy as np\n",
    "from matplotlib import pyplot as plt"
   ]
  },
  {
   "cell_type": "markdown",
   "id": "prescription-requirement",
   "metadata": {},
   "source": [
    "### Problema\n",
    "\n",
    "AL revisar los datos de una compañia de venta de equipos se observa que parece haber una relación entre el número de llamadas de ventas y el número unidades vendidas. Es decir, los veendedores que hicieron más llamadas de ventas, hicieron un mayor número de ventas. Sin embargo la relación no es perfecta o exacta, hay algunos casos donde no se mantuvo esta relación. \n",
    "\n",
    "Ajustar un modelo de **regresión lineal simple** que relaciones el número de ventas con el número de equipos vendidos."
   ]
  },
  {
   "cell_type": "markdown",
   "id": "periodic-textbook",
   "metadata": {},
   "source": [
    "### Dataset del problema"
   ]
  },
  {
   "cell_type": "code",
   "execution_count": 4,
   "id": "6f84a8b5",
   "metadata": {},
   "outputs": [],
   "source": [
    "df = pd.read_csv('datos/dataset.csv')"
   ]
  },
  {
   "cell_type": "code",
   "execution_count": 5,
   "id": "9f5fec80",
   "metadata": {},
   "outputs": [
    {
     "data": {
      "text/html": [
       "<div>\n",
       "<style scoped>\n",
       "    .dataframe tbody tr th:only-of-type {\n",
       "        vertical-align: middle;\n",
       "    }\n",
       "\n",
       "    .dataframe tbody tr th {\n",
       "        vertical-align: top;\n",
       "    }\n",
       "\n",
       "    .dataframe thead th {\n",
       "        text-align: right;\n",
       "    }\n",
       "</style>\n",
       "<table border=\"1\" class=\"dataframe\">\n",
       "  <thead>\n",
       "    <tr style=\"text-align: right;\">\n",
       "      <th></th>\n",
       "      <th>llamadas</th>\n",
       "      <th>ventas</th>\n",
       "    </tr>\n",
       "  </thead>\n",
       "  <tbody>\n",
       "    <tr>\n",
       "      <th>0</th>\n",
       "      <td>10.0</td>\n",
       "      <td>18.0</td>\n",
       "    </tr>\n",
       "    <tr>\n",
       "      <th>1</th>\n",
       "      <td>11.0</td>\n",
       "      <td>27.0</td>\n",
       "    </tr>\n",
       "    <tr>\n",
       "      <th>2</th>\n",
       "      <td>12.0</td>\n",
       "      <td>28.0</td>\n",
       "    </tr>\n",
       "    <tr>\n",
       "      <th>3</th>\n",
       "      <td>12.0</td>\n",
       "      <td>19.0</td>\n",
       "    </tr>\n",
       "    <tr>\n",
       "      <th>4</th>\n",
       "      <td>13.0</td>\n",
       "      <td>29.0</td>\n",
       "    </tr>\n",
       "    <tr>\n",
       "      <th>5</th>\n",
       "      <td>14.0</td>\n",
       "      <td>24.0</td>\n",
       "    </tr>\n",
       "    <tr>\n",
       "      <th>6</th>\n",
       "      <td>14.0</td>\n",
       "      <td>25.0</td>\n",
       "    </tr>\n",
       "    <tr>\n",
       "      <th>7</th>\n",
       "      <td>15.0</td>\n",
       "      <td>27.0</td>\n",
       "    </tr>\n",
       "    <tr>\n",
       "      <th>8</th>\n",
       "      <td>15.0</td>\n",
       "      <td>31.0</td>\n",
       "    </tr>\n",
       "    <tr>\n",
       "      <th>9</th>\n",
       "      <td>16.0</td>\n",
       "      <td>31.0</td>\n",
       "    </tr>\n",
       "    <tr>\n",
       "      <th>10</th>\n",
       "      <td>17.0</td>\n",
       "      <td>29.0</td>\n",
       "    </tr>\n",
       "    <tr>\n",
       "      <th>11</th>\n",
       "      <td>17.0</td>\n",
       "      <td>36.0</td>\n",
       "    </tr>\n",
       "  </tbody>\n",
       "</table>\n",
       "</div>"
      ],
      "text/plain": [
       "    llamadas  ventas\n",
       "0       10.0    18.0\n",
       "1       11.0    27.0\n",
       "2       12.0    28.0\n",
       "3       12.0    19.0\n",
       "4       13.0    29.0\n",
       "5       14.0    24.0\n",
       "6       14.0    25.0\n",
       "7       15.0    27.0\n",
       "8       15.0    31.0\n",
       "9       16.0    31.0\n",
       "10      17.0    29.0\n",
       "11      17.0    36.0"
      ]
     },
     "execution_count": 5,
     "metadata": {},
     "output_type": "execute_result"
    }
   ],
   "source": [
    "df.head(12)"
   ]
  },
  {
   "cell_type": "markdown",
   "id": "constitutional-surveillance",
   "metadata": {},
   "source": [
    "### Gráfica de los datos"
   ]
  },
  {
   "cell_type": "code",
   "execution_count": 6,
   "id": "fourth-safety",
   "metadata": {},
   "outputs": [
    {
     "data": {
      "image/png": "[encoded data removed]",
      "text/plain": [
       "<Figure size 432x288 with 1 Axes>"
      ]
     },
     "metadata": {
      "needs_background": "light"
     },
     "output_type": "display_data"
    }
   ],
   "source": [
    "plt.scatter(df['llamadas'], df['ventas'])\n",
    "plt.xlabel('Llamadas')\n",
    "plt.ylabel('Ventas')\n",
    "plt.title('Datos')\n",
    "plt.show()"
   ]
  },
  {
   "cell_type": "markdown",
   "id": "functional-romance",
   "metadata": {},
   "source": [
    "## Modelo a ajustar\n",
    "$$\\mbox{nro_ventas} = \\beta_0 + \\beta_1\\mbox{(nro_llamadas)}$$"
   ]
  },
  {
   "cell_type": "markdown",
   "id": "alien-ensemble",
   "metadata": {},
   "source": [
    "#### Datos de entrenamiento"
   ]
  },
  {
   "cell_type": "code",
   "execution_count": 7,
   "id": "ordered-curve",
   "metadata": {},
   "outputs": [],
   "source": [
    "frac = 0.7 # Proporción de datos para el entrenamiento\n",
    "datos_train = df.sample(frac=frac,random_state=42)"
   ]
  },
  {
   "cell_type": "code",
   "execution_count": 8,
   "id": "adverse-prison",
   "metadata": {},
   "outputs": [
    {
     "data": {
      "text/html": [
       "<div>\n",
       "<style scoped>\n",
       "    .dataframe tbody tr th:only-of-type {\n",
       "        vertical-align: middle;\n",
       "    }\n",
       "\n",
       "    .dataframe tbody tr th {\n",
       "        vertical-align: top;\n",
       "    }\n",
       "\n",
       "    .dataframe thead th {\n",
       "        text-align: right;\n",
       "    }\n",
       "</style>\n",
       "<table border=\"1\" class=\"dataframe\">\n",
       "  <thead>\n",
       "    <tr style=\"text-align: right;\">\n",
       "      <th></th>\n",
       "      <th>llamadas</th>\n",
       "      <th>ventas</th>\n",
       "    </tr>\n",
       "  </thead>\n",
       "  <tbody>\n",
       "    <tr>\n",
       "      <th>13</th>\n",
       "      <td>18.0</td>\n",
       "      <td>42.0</td>\n",
       "    </tr>\n",
       "    <tr>\n",
       "      <th>39</th>\n",
       "      <td>34.0</td>\n",
       "      <td>72.0</td>\n",
       "    </tr>\n",
       "    <tr>\n",
       "      <th>30</th>\n",
       "      <td>29.0</td>\n",
       "      <td>51.0</td>\n",
       "    </tr>\n",
       "    <tr>\n",
       "      <th>45</th>\n",
       "      <td>38.0</td>\n",
       "      <td>78.0</td>\n",
       "    </tr>\n",
       "    <tr>\n",
       "      <th>17</th>\n",
       "      <td>21.0</td>\n",
       "      <td>44.0</td>\n",
       "    </tr>\n",
       "    <tr>\n",
       "      <th>48</th>\n",
       "      <td>40.0</td>\n",
       "      <td>77.0</td>\n",
       "    </tr>\n",
       "    <tr>\n",
       "      <th>26</th>\n",
       "      <td>26.0</td>\n",
       "      <td>51.0</td>\n",
       "    </tr>\n",
       "    <tr>\n",
       "      <th>25</th>\n",
       "      <td>26.0</td>\n",
       "      <td>53.0</td>\n",
       "    </tr>\n",
       "    <tr>\n",
       "      <th>32</th>\n",
       "      <td>30.0</td>\n",
       "      <td>62.0</td>\n",
       "    </tr>\n",
       "    <tr>\n",
       "      <th>19</th>\n",
       "      <td>22.0</td>\n",
       "      <td>45.0</td>\n",
       "    </tr>\n",
       "  </tbody>\n",
       "</table>\n",
       "</div>"
      ],
      "text/plain": [
       "    llamadas  ventas\n",
       "13      18.0    42.0\n",
       "39      34.0    72.0\n",
       "30      29.0    51.0\n",
       "45      38.0    78.0\n",
       "17      21.0    44.0\n",
       "48      40.0    77.0\n",
       "26      26.0    51.0\n",
       "25      26.0    53.0\n",
       "32      30.0    62.0\n",
       "19      22.0    45.0"
      ]
     },
     "execution_count": 8,
     "metadata": {},
     "output_type": "execute_result"
    }
   ],
   "source": [
    "datos_train.head(10)"
   ]
  },
  {
   "cell_type": "code",
   "execution_count": 9,
   "id": "further-slovenia",
   "metadata": {},
   "outputs": [],
   "source": [
    "datos_test = df[~df.index.isin(datos_train.index)]"
   ]
  },
  {
   "cell_type": "markdown",
   "id": "promising-junction",
   "metadata": {},
   "source": [
    "#### Datos de test"
   ]
  },
  {
   "cell_type": "code",
   "execution_count": 10,
   "id": "documented-riverside",
   "metadata": {},
   "outputs": [
    {
     "data": {
      "text/html": [
       "<div>\n",
       "<style scoped>\n",
       "    .dataframe tbody tr th:only-of-type {\n",
       "        vertical-align: middle;\n",
       "    }\n",
       "\n",
       "    .dataframe tbody tr th {\n",
       "        vertical-align: top;\n",
       "    }\n",
       "\n",
       "    .dataframe thead th {\n",
       "        text-align: right;\n",
       "    }\n",
       "</style>\n",
       "<table border=\"1\" class=\"dataframe\">\n",
       "  <thead>\n",
       "    <tr style=\"text-align: right;\">\n",
       "      <th></th>\n",
       "      <th>llamadas</th>\n",
       "      <th>ventas</th>\n",
       "    </tr>\n",
       "  </thead>\n",
       "  <tbody>\n",
       "    <tr>\n",
       "      <th>2</th>\n",
       "      <td>12.0</td>\n",
       "      <td>28.0</td>\n",
       "    </tr>\n",
       "    <tr>\n",
       "      <th>7</th>\n",
       "      <td>15.0</td>\n",
       "      <td>27.0</td>\n",
       "    </tr>\n",
       "    <tr>\n",
       "      <th>10</th>\n",
       "      <td>17.0</td>\n",
       "      <td>29.0</td>\n",
       "    </tr>\n",
       "    <tr>\n",
       "      <th>14</th>\n",
       "      <td>19.0</td>\n",
       "      <td>38.0</td>\n",
       "    </tr>\n",
       "    <tr>\n",
       "      <th>18</th>\n",
       "      <td>22.0</td>\n",
       "      <td>41.0</td>\n",
       "    </tr>\n",
       "    <tr>\n",
       "      <th>20</th>\n",
       "      <td>23.0</td>\n",
       "      <td>47.0</td>\n",
       "    </tr>\n",
       "    <tr>\n",
       "      <th>22</th>\n",
       "      <td>24.0</td>\n",
       "      <td>53.0</td>\n",
       "    </tr>\n",
       "    <tr>\n",
       "      <th>23</th>\n",
       "      <td>25.0</td>\n",
       "      <td>55.0</td>\n",
       "    </tr>\n",
       "    <tr>\n",
       "      <th>28</th>\n",
       "      <td>28.0</td>\n",
       "      <td>52.0</td>\n",
       "    </tr>\n",
       "    <tr>\n",
       "      <th>35</th>\n",
       "      <td>32.0</td>\n",
       "      <td>57.0</td>\n",
       "    </tr>\n",
       "  </tbody>\n",
       "</table>\n",
       "</div>"
      ],
      "text/plain": [
       "    llamadas  ventas\n",
       "2       12.0    28.0\n",
       "7       15.0    27.0\n",
       "10      17.0    29.0\n",
       "14      19.0    38.0\n",
       "18      22.0    41.0\n",
       "20      23.0    47.0\n",
       "22      24.0    53.0\n",
       "23      25.0    55.0\n",
       "28      28.0    52.0\n",
       "35      32.0    57.0"
      ]
     },
     "execution_count": 10,
     "metadata": {},
     "output_type": "execute_result"
    }
   ],
   "source": [
    "datos_test.head(10)"
   ]
  },
  {
   "cell_type": "code",
   "execution_count": 11,
   "id": "radio-newton",
   "metadata": {},
   "outputs": [],
   "source": [
    "X = np.array(datos_train['llamadas'])\n",
    "Y = np.array(datos_train['ventas'])"
   ]
  },
  {
   "cell_type": "code",
   "execution_count": 12,
   "id": "armed-messaging",
   "metadata": {},
   "outputs": [],
   "source": [
    "X = X[:,np.newaxis]"
   ]
  },
  {
   "cell_type": "code",
   "execution_count": 13,
   "id": "minor-surfing",
   "metadata": {},
   "outputs": [],
   "source": [
    "Y = Y[:,np.newaxis]"
   ]
  },
  {
   "cell_type": "markdown",
   "id": "convenient-treat",
   "metadata": {},
   "source": [
    "### Calculo de coeficiente\n",
    "\n",
    "$$\\left\\{\n",
    "\\begin{array}{rcl}\n",
    "     \\displaystyle\\hat \\beta_0  & = &  \\displaystyle\\bar y - \\hat\\beta_1 \\bar x\n",
    "   \\\\  \\displaystyle\\hat \\beta_1  & = &  (X^{t}X)^{-1}X^{t}y\n",
    "\\end{array}\n",
    "\\right. $$"
   ]
  },
  {
   "cell_type": "code",
   "execution_count": 37,
   "id": "electoral-thinking",
   "metadata": {},
   "outputs": [],
   "source": [
    "beta1 = float(np.linalg.inv(X.T@X)@X.T@Y)"
   ]
  },
  {
   "cell_type": "code",
   "execution_count": 38,
   "id": "regular-playback",
   "metadata": {},
   "outputs": [
    {
     "data": {
      "text/plain": [
       "1.9605705717874946"
      ]
     },
     "execution_count": 38,
     "metadata": {},
     "output_type": "execute_result"
    }
   ],
   "source": [
    "beta1"
   ]
  },
  {
   "cell_type": "code",
   "execution_count": 39,
   "id": "silver-tanzania",
   "metadata": {},
   "outputs": [
    {
     "data": {
      "text/plain": [
       "0.2714499910269197"
      ]
     },
     "execution_count": 39,
     "metadata": {},
     "output_type": "execute_result"
    }
   ],
   "source": [
    "beta0 = float(Y.mean() - beta1*X.mean())\n",
    "beta0"
   ]
  },
  {
   "cell_type": "markdown",
   "id": "major-shower",
   "metadata": {},
   "source": [
    "### Grafica de la recta de regresión ajustada"
   ]
  },
  {
   "cell_type": "code",
   "execution_count": 40,
   "id": "earlier-sheep",
   "metadata": {},
   "outputs": [],
   "source": [
    "u = np.linspace(10,40)\n",
    "v = beta0 + beta1*u"
   ]
  },
  {
   "cell_type": "code",
   "execution_count": 41,
   "id": "capable-application",
   "metadata": {},
   "outputs": [
    {
     "data": {
      "image/png": "[encoded data removed]",
      "text/plain": [
       "<Figure size 432x288 with 1 Axes>"
      ]
     },
     "metadata": {
      "needs_background": "light"
     },
     "output_type": "display_data"
    }
   ],
   "source": [
    "plt.plot(u,v,'r',label='recta_regresion')\n",
    "plt.scatter(datos_train['llamadas'], datos_train['ventas'],label='puntos_train')\n",
    "plt.scatter(datos_test['llamadas'], datos_test['ventas'],label='puntos_test')\n",
    "plt.xlabel('Llamadas')\n",
    "plt.ylabel('Ventas')\n",
    "plt.title('Datos')\n",
    "plt.legend()\n",
    "plt.show()"
   ]
  },
  {
   "cell_type": "markdown",
   "id": "wanted-juice",
   "metadata": {},
   "source": [
    "### Predicción y Error"
   ]
  },
  {
   "cell_type": "code",
   "execution_count": 19,
   "id": "comic-jonathan",
   "metadata": {},
   "outputs": [],
   "source": [
    "def prediccion(val):\n",
    "    return beta0 + beta1*val"
   ]
  },
  {
   "cell_type": "code",
   "execution_count": 20,
   "id": "concerned-closer",
   "metadata": {},
   "outputs": [],
   "source": [
    "predicho = prediccion(datos_test['llamadas'])"
   ]
  },
  {
   "cell_type": "code",
   "execution_count": 21,
   "id": "significant-profession",
   "metadata": {},
   "outputs": [
    {
     "data": {
      "text/html": [
       "<div>\n",
       "<style scoped>\n",
       "    .dataframe tbody tr th:only-of-type {\n",
       "        vertical-align: middle;\n",
       "    }\n",
       "\n",
       "    .dataframe tbody tr th {\n",
       "        vertical-align: top;\n",
       "    }\n",
       "\n",
       "    .dataframe thead th {\n",
       "        text-align: right;\n",
       "    }\n",
       "</style>\n",
       "<table border=\"1\" class=\"dataframe\">\n",
       "  <thead>\n",
       "    <tr style=\"text-align: right;\">\n",
       "      <th></th>\n",
       "      <th>valor_real</th>\n",
       "      <th>prediccion</th>\n",
       "    </tr>\n",
       "  </thead>\n",
       "  <tbody>\n",
       "    <tr>\n",
       "      <th>2</th>\n",
       "      <td>28.0</td>\n",
       "      <td>23.798297</td>\n",
       "    </tr>\n",
       "    <tr>\n",
       "      <th>7</th>\n",
       "      <td>27.0</td>\n",
       "      <td>29.680009</td>\n",
       "    </tr>\n",
       "    <tr>\n",
       "      <th>10</th>\n",
       "      <td>29.0</td>\n",
       "      <td>33.601150</td>\n",
       "    </tr>\n",
       "    <tr>\n",
       "      <th>14</th>\n",
       "      <td>38.0</td>\n",
       "      <td>37.522291</td>\n",
       "    </tr>\n",
       "    <tr>\n",
       "      <th>18</th>\n",
       "      <td>41.0</td>\n",
       "      <td>43.404003</td>\n",
       "    </tr>\n",
       "    <tr>\n",
       "      <th>20</th>\n",
       "      <td>47.0</td>\n",
       "      <td>45.364573</td>\n",
       "    </tr>\n",
       "    <tr>\n",
       "      <th>22</th>\n",
       "      <td>53.0</td>\n",
       "      <td>47.325144</td>\n",
       "    </tr>\n",
       "    <tr>\n",
       "      <th>23</th>\n",
       "      <td>55.0</td>\n",
       "      <td>49.285714</td>\n",
       "    </tr>\n",
       "    <tr>\n",
       "      <th>28</th>\n",
       "      <td>52.0</td>\n",
       "      <td>55.167426</td>\n",
       "    </tr>\n",
       "    <tr>\n",
       "      <th>35</th>\n",
       "      <td>57.0</td>\n",
       "      <td>63.009708</td>\n",
       "    </tr>\n",
       "  </tbody>\n",
       "</table>\n",
       "</div>"
      ],
      "text/plain": [
       "    valor_real  prediccion\n",
       "2         28.0   23.798297\n",
       "7         27.0   29.680009\n",
       "10        29.0   33.601150\n",
       "14        38.0   37.522291\n",
       "18        41.0   43.404003\n",
       "20        47.0   45.364573\n",
       "22        53.0   47.325144\n",
       "23        55.0   49.285714\n",
       "28        52.0   55.167426\n",
       "35        57.0   63.009708"
      ]
     },
     "execution_count": 21,
     "metadata": {},
     "output_type": "execute_result"
    }
   ],
   "source": [
    "resultado ={'valor_real':datos_test['ventas'],'prediccion':predicho}\n",
    "R = pd.DataFrame(data=resultado)\n",
    "R.head(10)"
   ]
  },
  {
   "cell_type": "code",
   "execution_count": 22,
   "id": "diverse-huntington",
   "metadata": {},
   "outputs": [],
   "source": [
    "def error(real,pred):\n",
    "    return np.sum((real-pred)**2)/len(real)"
   ]
  },
  {
   "cell_type": "code",
   "execution_count": 23,
   "id": "random-chocolate",
   "metadata": {},
   "outputs": [],
   "source": [
    "error_cuadratico = error(R['valor_real'],R['prediccion'])"
   ]
  },
  {
   "cell_type": "code",
   "execution_count": 24,
   "id": "permanent-hours",
   "metadata": {},
   "outputs": [
    {
     "name": "stdout",
     "output_type": "stream",
     "text": [
      "ECM = 17.056588\n"
     ]
    }
   ],
   "source": [
    "print('ECM = {:3f}'.format(error_cuadratico))"
   ]
  },
  {
   "cell_type": "markdown",
   "id": "numerous-basement",
   "metadata": {},
   "source": [
    "## Estimación de coeficientes de regresión usando scikit-learn "
   ]
  },
  {
   "cell_type": "code",
   "execution_count": 1,
   "id": "returning-contribution",
   "metadata": {},
   "outputs": [],
   "source": [
    " from sklearn.linear_model import LinearRegression"
   ]
  },
  {
   "cell_type": "code",
   "execution_count": 2,
   "id": "breeding-genius",
   "metadata": {},
   "outputs": [],
   "source": [
    " modelo = LinearRegression()"
   ]
  },
  {
   "cell_type": "code",
   "execution_count": 25,
   "id": "distributed-thing",
   "metadata": {},
   "outputs": [
    {
     "data": {
      "text/plain": [
       "LinearRegression()"
      ]
     },
     "execution_count": 25,
     "metadata": {},
     "output_type": "execute_result"
    }
   ],
   "source": [
    "modelo.fit(X,Y)"
   ]
  },
  {
   "cell_type": "code",
   "execution_count": 31,
   "id": "awful-lodge",
   "metadata": {},
   "outputs": [
    {
     "name": "stdout",
     "output_type": "stream",
     "text": [
      "beta0 = 1.875803\n"
     ]
    }
   ],
   "source": [
    "print('beta0 = {:3f}'.format(float(modelo.coef_)))"
   ]
  },
  {
   "cell_type": "code",
   "execution_count": 32,
   "id": "hungry-chancellor",
   "metadata": {},
   "outputs": [
    {
     "name": "stdout",
     "output_type": "stream",
     "text": [
      "beta1 = 2.390639\n"
     ]
    }
   ],
   "source": [
    "print('beta1 = {:3f}'.format(float(modelo.intercept_)))"
   ]
  },
  {
   "cell_type": "code",
   "execution_count": 35,
   "id": "latest-cliff",
   "metadata": {},
   "outputs": [],
   "source": [
    "def lin_regplot(X, y, model):\n",
    "    plt.scatter(X, y, c='blue')\n",
    "    plt.plot(X, model.predict(X), color='red') \n",
    "    return None"
   ]
  },
  {
   "cell_type": "code",
   "execution_count": 44,
   "id": "dietary-warning",
   "metadata": {},
   "outputs": [
    {
     "data": {
      "image/png": "[encoded data removed]",
      "text/plain": [
       "<Figure size 432x288 with 1 Axes>"
      ]
     },
     "metadata": {
      "needs_background": "light"
     },
     "output_type": "display_data"
    }
   ],
   "source": [
    "lin_regplot(X, Y, modelo)\n",
    "plt.title('Modelo de regresión')\n",
    "plt.xlabel('Llamadas')\n",
    "plt.ylabel('ventas')\n",
    "plt.show()"
   ]
  },
  {
   "cell_type": "code",
   "execution_count": 53,
   "id": "supported-plant",
   "metadata": {},
   "outputs": [],
   "source": [
    "X_test = np.array(datos_test['llamadas'])\n",
    "X_test = X_test[:,np.newaxis]"
   ]
  },
  {
   "cell_type": "code",
   "execution_count": 54,
   "id": "recorded-measurement",
   "metadata": {
    "scrolled": true
   },
   "outputs": [],
   "source": [
    "prediccion = modelo.predict(X_test)"
   ]
  },
  {
   "cell_type": "markdown",
   "id": "finite-germany",
   "metadata": {},
   "source": [
    "### Predicción"
   ]
  },
  {
   "cell_type": "code",
   "execution_count": 57,
   "id": "specified-virus",
   "metadata": {},
   "outputs": [
    {
     "data": {
      "text/html": [
       "<div>\n",
       "<style scoped>\n",
       "    .dataframe tbody tr th:only-of-type {\n",
       "        vertical-align: middle;\n",
       "    }\n",
       "\n",
       "    .dataframe tbody tr th {\n",
       "        vertical-align: top;\n",
       "    }\n",
       "\n",
       "    .dataframe thead th {\n",
       "        text-align: right;\n",
       "    }\n",
       "</style>\n",
       "<table border=\"1\" class=\"dataframe\">\n",
       "  <thead>\n",
       "    <tr style=\"text-align: right;\">\n",
       "      <th></th>\n",
       "      <th>valor_real</th>\n",
       "      <th>prediccion</th>\n",
       "    </tr>\n",
       "  </thead>\n",
       "  <tbody>\n",
       "    <tr>\n",
       "      <th>2</th>\n",
       "      <td>28.0</td>\n",
       "      <td>23.798297</td>\n",
       "    </tr>\n",
       "    <tr>\n",
       "      <th>7</th>\n",
       "      <td>27.0</td>\n",
       "      <td>29.680009</td>\n",
       "    </tr>\n",
       "    <tr>\n",
       "      <th>10</th>\n",
       "      <td>29.0</td>\n",
       "      <td>33.601150</td>\n",
       "    </tr>\n",
       "    <tr>\n",
       "      <th>14</th>\n",
       "      <td>38.0</td>\n",
       "      <td>37.522291</td>\n",
       "    </tr>\n",
       "    <tr>\n",
       "      <th>18</th>\n",
       "      <td>41.0</td>\n",
       "      <td>43.404003</td>\n",
       "    </tr>\n",
       "    <tr>\n",
       "      <th>20</th>\n",
       "      <td>47.0</td>\n",
       "      <td>45.364573</td>\n",
       "    </tr>\n",
       "    <tr>\n",
       "      <th>22</th>\n",
       "      <td>53.0</td>\n",
       "      <td>47.325144</td>\n",
       "    </tr>\n",
       "    <tr>\n",
       "      <th>23</th>\n",
       "      <td>55.0</td>\n",
       "      <td>49.285714</td>\n",
       "    </tr>\n",
       "    <tr>\n",
       "      <th>28</th>\n",
       "      <td>52.0</td>\n",
       "      <td>55.167426</td>\n",
       "    </tr>\n",
       "    <tr>\n",
       "      <th>35</th>\n",
       "      <td>57.0</td>\n",
       "      <td>63.009708</td>\n",
       "    </tr>\n",
       "  </tbody>\n",
       "</table>\n",
       "</div>"
      ],
      "text/plain": [
       "    valor_real  prediccion\n",
       "2         28.0   23.798297\n",
       "7         27.0   29.680009\n",
       "10        29.0   33.601150\n",
       "14        38.0   37.522291\n",
       "18        41.0   43.404003\n",
       "20        47.0   45.364573\n",
       "22        53.0   47.325144\n",
       "23        55.0   49.285714\n",
       "28        52.0   55.167426\n",
       "35        57.0   63.009708"
      ]
     },
     "execution_count": 57,
     "metadata": {},
     "output_type": "execute_result"
    }
   ],
   "source": [
    "resultado ={'valor_real':datos_test['ventas'],'prediccion':predicho}\n",
    "R = pd.DataFrame(data=resultado)\n",
    "R.head(10)"
   ]
  },
  {
   "cell_type": "markdown",
   "id": "dedicated-norwegian",
   "metadata": {},
   "source": [
    "### Error cuadratico medio"
   ]
  },
  {
   "cell_type": "code",
   "execution_count": 56,
   "id": "photographic-column",
   "metadata": {},
   "outputs": [
    {
     "data": {
      "text/plain": [
       "16.06332876707672"
      ]
     },
     "execution_count": 56,
     "metadata": {},
     "output_type": "execute_result"
    }
   ],
   "source": [
    "Y_test =  np.array(datos_test['ventas'])\n",
    "Y_test = Y_test[:,np.newaxis]\n",
    "error(Y_test,prediccion)"
   ]
  },
  {
   "cell_type": "code",
   "execution_count": null,
   "id": "persistent-footage",
   "metadata": {},
   "outputs": [],
   "source": []
  }
 ],
 "metadata": {
  "kernelspec": {
   "display_name": "Python 3",
   "language": "python",
   "name": "python3"
  },
  "language_info": {
   "codemirror_mode": {
    "name": "ipython",
    "version": 3
   },
   "file_extension": ".py",
   "mimetype": "text/x-python",
   "name": "python",
   "nbconvert_exporter": "python",
   "pygments_lexer": "ipython3",
   "version": "3.8.5"
  }
 },
 "nbformat": 4,
 "nbformat_minor": 5
}
