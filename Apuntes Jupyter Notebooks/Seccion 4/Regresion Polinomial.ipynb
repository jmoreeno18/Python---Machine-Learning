{
 "cells": [
  {
   "cell_type": "markdown",
   "id": "chubby-waterproof",
   "metadata": {},
   "source": [
    "<br>\n",
    "<img align=\"center\" src=\"imagenes/logo.png\"  width=\"200\" height=\"141\">\n",
    "<font size=36><center> Machine Learning con Python </center> </font>\n",
    "<br>"
   ]
  },
  {
   "cell_type": "markdown",
   "id": "economic-silicon",
   "metadata": {},
   "source": [
    "<h1 align='center'> Modulo IV: Machine Learning </h1>\n",
    "<h2 align='center'>  Regresión Polinómica </h2> "
   ]
  },
  {
   "cell_type": "markdown",
   "id": "disciplinary-capitol",
   "metadata": {},
   "source": [
    "---"
   ]
  },
  {
   "cell_type": "markdown",
   "id": "immune-boulder",
   "metadata": {},
   "source": [
    "# Aspectos teóricos"
   ]
  },
  {
   "cell_type": "markdown",
   "id": "aggregate-detection",
   "metadata": {},
   "source": [
    "## Introducción\n",
    "\n",
    "La **Regresión Polinómica** es, en realidad, una regresión lineal como la que vimos previamente, solamente que ahora calculamos atributos polinómicos para luego hacer regresión lineal. \n",
    "\n",
    "En el caso de la regresión lineal teniamos lo siguiente, un vector $X = (x_0,x_1,x_2,\\ldots,x_n)$ que representan todos los atributos y a partir de estos valores determinabamos un vector $W$ que contiene todos los parámetros ajustados para el modelo. Ahora, para el caso polinómico, expandimos estas componentes considerando componentes polinómicas de estos atributos, es decir,\n",
    "\n",
    "$$X_{\\mbox{polinomico}} = (x_0,x_1,x_1^2,x_2,x_2^2,\\ldots,x_n, x_{n}^n)$$\n",
    "\n",
    "En este ejemplo, simplemente hemos elevado al cuadrado cada atributo, lo que puede ser suficiente en algunos casos. Dependiendo del grado del polinomio y si deseamos multiplicar un atributo por otro, podemos expandir X mucho más. "
   ]
  },
  {
   "cell_type": "markdown",
   "id": "searching-cabinet",
   "metadata": {},
   "source": [
    "## ¿Cómo hacer una regresión polinómica?\n",
    "\n",
    "Para hacer una regresión polinómica con scikit-learn, necesitamos la clase **PolinomialFeature** para calcule los atributos polinómicos. Después usaremos la clase **LinearRegressión** para hacer la regresión lineal con los datos polinómicos."
   ]
  },
  {
   "cell_type": "markdown",
   "id": "canadian-penetration",
   "metadata": {},
   "source": [
    "## Ejemplo"
   ]
  },
  {
   "cell_type": "markdown",
   "id": "seven-apollo",
   "metadata": {},
   "source": [
    "Para este ejemplo vamos a geneerar datos sintéticos a partir de la siguiente función:\n",
    "$$ y = -100 -5x +5x^2 + 0.1x^3 + N(0,800) $$"
   ]
  },
  {
   "cell_type": "code",
   "execution_count": 62,
   "id": "solar-environment",
   "metadata": {},
   "outputs": [],
   "source": [
    "import numpy as np\n",
    "from matplotlib import pyplot as plt\n",
    "from sklearn.linear_model import LinearRegression\n",
    "from sklearn.preprocessing import PolynomialFeatures\n",
    "from sklearn.metrics import mean_squared_error"
   ]
  },
  {
   "cell_type": "code",
   "execution_count": 20,
   "id": "portable-ability",
   "metadata": {},
   "outputs": [],
   "source": [
    "x = np.linspace(-50,50,500)\n",
    "y = -100 -5*x +5*x**2 +0.1*x**3 + 800*np.random.randn(500)"
   ]
  },
  {
   "cell_type": "code",
   "execution_count": 24,
   "id": "greatest-timber",
   "metadata": {},
   "outputs": [
    {
     "data": {
      "image/png": "[encoded data removed]",
      "text/plain": [
       "<Figure size 432x288 with 1 Axes>"
      ]
     },
     "metadata": {
      "needs_background": "light"
     },
     "output_type": "display_data"
    }
   ],
   "source": [
    "plt.scatter(x,y,marker='+')\n",
    "plt.title('Datos')\n",
    "plt.show()"
   ]
  },
  {
   "cell_type": "markdown",
   "id": "beginning-circular",
   "metadata": {},
   "source": [
    "### Transformamos los datos"
   ]
  },
  {
   "cell_type": "code",
   "execution_count": 26,
   "id": "declared-conservation",
   "metadata": {},
   "outputs": [],
   "source": [
    "pf = PolynomialFeatures(degree=3)"
   ]
  },
  {
   "cell_type": "code",
   "execution_count": 28,
   "id": "coordinate-sandwich",
   "metadata": {},
   "outputs": [],
   "source": [
    "X = pf.fit_transform(x.reshape(-1,1))"
   ]
  },
  {
   "cell_type": "code",
   "execution_count": 29,
   "id": "cloudy-registration",
   "metadata": {},
   "outputs": [
    {
     "data": {
      "text/plain": [
       "(500, 4)"
      ]
     },
     "execution_count": 29,
     "metadata": {},
     "output_type": "execute_result"
    }
   ],
   "source": [
    "X.shape"
   ]
  },
  {
   "cell_type": "markdown",
   "id": "compliant-brown",
   "metadata": {},
   "source": [
    "### Creamos el modelo de regresión lineal"
   ]
  },
  {
   "cell_type": "code",
   "execution_count": 35,
   "id": "fewer-webster",
   "metadata": {},
   "outputs": [],
   "source": [
    "modelo = LinearRegression()"
   ]
  },
  {
   "cell_type": "code",
   "execution_count": 36,
   "id": "broadband-associate",
   "metadata": {},
   "outputs": [
    {
     "data": {
      "text/plain": [
       "LinearRegression()"
      ]
     },
     "execution_count": 36,
     "metadata": {},
     "output_type": "execute_result"
    }
   ],
   "source": [
    "modelo.fit(X,y)"
   ]
  },
  {
   "cell_type": "markdown",
   "id": "fatty-constitution",
   "metadata": {},
   "source": [
    "### Coeficientes del modelo generado"
   ]
  },
  {
   "cell_type": "code",
   "execution_count": 37,
   "id": "threaded-information",
   "metadata": {},
   "outputs": [
    {
     "name": "stdout",
     "output_type": "stream",
     "text": [
      "w = [ 0.         -2.20186166  5.05132402  0.098425  ], b = -101.21581437206441\n"
     ]
    }
   ],
   "source": [
    "print('w = ' + str(modelo.coef_) + ', b = ' + str(modelo.intercept_))"
   ]
  },
  {
   "cell_type": "markdown",
   "id": "vital-ownership",
   "metadata": {},
   "source": [
    "### Ecuación del polinomio de regresión"
   ]
  },
  {
   "cell_type": "markdown",
   "id": "injured-image",
   "metadata": {},
   "source": [
    "$$\\hat{y} = -101.21 - 2.20x + 5.05x^2 + 0.09x^3$$"
   ]
  },
  {
   "cell_type": "markdown",
   "id": "measured-programmer",
   "metadata": {},
   "source": [
    "### Gráfica"
   ]
  },
  {
   "cell_type": "code",
   "execution_count": 50,
   "id": "automated-architect",
   "metadata": {},
   "outputs": [],
   "source": [
    "v= X*modelo.coef_"
   ]
  },
  {
   "cell_type": "code",
   "execution_count": 61,
   "id": "successful-heating",
   "metadata": {},
   "outputs": [
    {
     "data": {
      "image/png": "[encoded data removed]",
      "text/plain": [
       "<Figure size 432x288 with 1 Axes>"
      ]
     },
     "metadata": {
      "needs_background": "light"
     },
     "output_type": "display_data"
    }
   ],
   "source": [
    "plt.scatter(x,y,marker='+',label='datos')\n",
    "plt.plot(x,modelo.intercept_+ v[:,1]+v[:,2]+v[:,3],'r',label='polinomio de regresion')\n",
    "plt.legend()\n",
    "plt.title('Modelo ajustado')\n",
    "plt.show()"
   ]
  },
  {
   "cell_type": "markdown",
   "id": "persistent-technical",
   "metadata": {},
   "source": [
    "### Evaluación del modelo"
   ]
  },
  {
   "cell_type": "code",
   "execution_count": 64,
   "id": "proprietary-minneapolis",
   "metadata": {},
   "outputs": [],
   "source": [
    "prediccion_entrenamiento = modelo.predict(X)"
   ]
  },
  {
   "cell_type": "code",
   "execution_count": 66,
   "id": "touched-chart",
   "metadata": {},
   "outputs": [],
   "source": [
    "mse = mean_squared_error(y,prediccion_entrenamiento)\n",
    "rmse = np.sqrt(mse)"
   ]
  },
  {
   "cell_type": "code",
   "execution_count": 67,
   "id": "wicked-trail",
   "metadata": {},
   "outputs": [
    {
     "name": "stdout",
     "output_type": "stream",
     "text": [
      "Error Cuadrático Medio (MSE) = 609849.5215516022\n",
      "Raíz del Error Cuadrático Medio (RMSE) = 780.9286276937235\n"
     ]
    }
   ],
   "source": [
    "print('Error Cuadrático Medio (MSE) = ' + str(mse))\n",
    "print('Raíz del Error Cuadrático Medio (RMSE) = ' + str(rmse))"
   ]
  },
  {
   "cell_type": "code",
   "execution_count": 70,
   "id": "completed-classic",
   "metadata": {
    "scrolled": true
   },
   "outputs": [
    {
     "name": "stdout",
     "output_type": "stream",
     "text": [
      "Coeficiente de Determinación R2 = 0.9831726075113798\n"
     ]
    }
   ],
   "source": [
    "r2 = modelo.score(X, y)\n",
    "print('Coeficiente de Determinación R2 = ' + str(r2))"
   ]
  },
  {
   "cell_type": "markdown",
   "id": "chief-ranch",
   "metadata": {},
   "source": [
    "Como podemos apreciar, las medidas de evaluación del modelo son muy buenas:\n",
    "\n",
    "* Un R2 casi perfecto (lo máximo es 1)\n",
    "* La Raíz del Error Cuadrático Medio (RMSE), es aproximadamente igual al ruido Gaussiano que introducimos en la función para generar los datos."
   ]
  }
 ],
 "metadata": {
  "kernelspec": {
   "display_name": "Python 3",
   "language": "python",
   "name": "python3"
  },
  "language_info": {
   "codemirror_mode": {
    "name": "ipython",
    "version": 3
   },
   "file_extension": ".py",
   "mimetype": "text/x-python",
   "name": "python",
   "nbconvert_exporter": "python",
   "pygments_lexer": "ipython3",
   "version": "3.8.5"
  }
 },
 "nbformat": 4,
 "nbformat_minor": 5
}
