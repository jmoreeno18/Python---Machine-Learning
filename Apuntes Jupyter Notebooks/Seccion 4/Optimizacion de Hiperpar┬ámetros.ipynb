{
 "cells": [
  {
   "cell_type": "markdown",
   "id": "hourly-japan",
   "metadata": {},
   "source": [
    "<br>\n",
    "<img align=\"center\" src=\"imagenes/logo.png\"  width=\"200\" height=\"141\">\n",
    "<font size=36><center> Machine Learning con Python </center> </font>\n",
    "<br>"
   ]
  },
  {
   "cell_type": "markdown",
   "id": "verified-economics",
   "metadata": {},
   "source": [
    "<h1 align='center'> Modulo IV: Machine Learning </h1>\n",
    "<h2 align='center'>  Optimización de Hiperparámetros  </h2> "
   ]
  },
  {
   "cell_type": "markdown",
   "id": "double-experiment",
   "metadata": {},
   "source": [
    "---"
   ]
  },
  {
   "cell_type": "markdown",
   "id": "novel-dragon",
   "metadata": {},
   "source": [
    "# Aspectos Generales"
   ]
  },
  {
   "cell_type": "markdown",
   "id": "black-charity",
   "metadata": {},
   "source": [
    "## Introducción\n",
    "\n",
    "Uno de los principales objetivos del proceso de aprendizaje automático es mejorar la calificación del rendimiento de los modelos, basándose en los patrones de datos y en las pruebas observadas. Para lograr este objetivo, casi todos los algoritmos de aprendizaje automático tienen un conjunto específico de parámetros que necesita estimar a partir del conjunto de datos, lo que maximizará la puntuación de rendimiento. La mejor manera de elegir un buen hiperparámetro es a través de la prueba y el error de todas las combinaciones posibles de valores de los parámetros. Scikit-learn proporciona las funciones **GridSearchCV** y **RandomSearchCV** para facilitar un enfoque automático y reproducible para el ajuste de hiperparámetros."
   ]
  },
  {
   "cell_type": "markdown",
   "id": "geographic-brooks",
   "metadata": {},
   "source": [
    "## GridSearch\n",
    "\n",
    "Para un modelo determinado, puede definir un conjunto de valores de parámetros que le gustaría probar. Entonces, utilizando la función GridSearchCV de scikit-learn, se construyen modelos para todas las posibles combinaciones posibles de una lista preestablecida de valores de hiperparámetros que usted proporciona, y la mejor combinación se elige en base a la puntuación de validación cruzada. \n",
    "\n",
    "Hay dos desventajas asociadas a GridSearchCV:\n",
    "\n",
    "1. **Costoso desde el punto de vista computacional:** Es obvio que con más valores de los parámetros el GridSearch será mayor el costo computacional. Considere un ejemplo en el que tiene 5 parámetros y suponga que quiere probar 5 valores para cada parámetros, lo que dará lugar a 5**5 = 3125 combinaciones; además multiplique esto por el número de pliegues de validación cruzada que se utilicen, es decir, si k-fold es 5, entonces 3125 * 5 = 15625 ajustes del modelo.\n",
    "\n",
    "2. **No se trata de parámetros óptimos perfectos, sino casi óptimos:** La búsqueda en la cuadrícula se centra en los puntos fijos que usted proporciona para los parámetros numéricos, por lo que hay una gran posibilidad de de perder el punto óptimo que se encuentra entre los puntos fijos. Por ejemplo, suponga que quiere probar los puntos fijos para 'n_estimadores': [100, 250, 500, 750, 1000] para un modelo de árbol de decisión y existe la posibilidad de que el punto óptimo se encuentre los dos puntos fijos; sin embargo, GridSearch no está diseñado para buscar entre los puntos fijos."
   ]
  },
  {
   "cell_type": "markdown",
   "id": "spare-coordination",
   "metadata": {},
   "source": [
    "## RandomSearch\n",
    "\n",
    "Como su nombre indica, el algoritmo **RandomSearch** prueba combinaciones aleatorias de un rango de valores de parámetros dados. Los parámetros numéricos pueden especificarse como un rango (a diferencia de los valores fijos de GridSearch). Puede controlar el número de iteraciones de búsquedas aleatorias que desea realizar. Es conocido por encontrar una muy buena combinación en mucho menos tiempo comparado con GridSearch; sin embargo, tiene que elegir cuidadosamente el rango de parámetros y el número de iteraciones de búsqueda aleatoria, ya que puede perderse la mejor combinación de parámetros con menos iteraciones o rangos más pequeños."
   ]
  },
  {
   "cell_type": "markdown",
   "id": "everyday-laptop",
   "metadata": {},
   "source": [
    "# Ejemplo\n",
    "\n",
    "Probemos GridSearchCV y RandomForest en un problema de clasificación, y veamos cuál modelo encuentra los valores óptimos de los parámetros."
   ]
  },
  {
   "cell_type": "markdown",
   "id": "killing-bruce",
   "metadata": {},
   "source": [
    "### Importamos las librerías"
   ]
  },
  {
   "cell_type": "code",
   "execution_count": 1,
   "id": "designing-bedroom",
   "metadata": {},
   "outputs": [],
   "source": [
    "import numpy as np\n",
    "import pandas as pd\n",
    "from matplotlib import pyplot as plt\n",
    "\n",
    "from sklearn.preprocessing import StandardScaler\n",
    "from sklearn.ensemble import RandomForestClassifier\n",
    "from sklearn.model_selection import GridSearchCV, RandomizedSearchCV\n",
    "from sklearn.model_selection import train_test_split\n",
    "from sklearn.metrics import accuracy_score\n",
    "from sklearn.model_selection import StratifiedKFold, cross_val_score\n",
    "from scipy.stats import randint as sp_randint\n",
    "\n",
    "seed = np.random.seed(2017) "
   ]
  },
  {
   "cell_type": "markdown",
   "id": "earlier-share",
   "metadata": {},
   "source": [
    "### Dataset\n",
    "\n",
    "Este conjunto de datos proviene de los Institutos Nacionales de Diabetes y Enfermedades Digestivas y Renales. El propósito de este conjunto de datos es diagnosticar si un paciente es diabético o no, sobre la base de ciertas medidas de diagnóstico en el conjunto de datos. La selección de estas instancias de una base de datos más grande estuvo sujeta a varias restricciones. Todos los pacientes son mujeres de herencia indígena de Pima, de al menos 21 años."
   ]
  },
  {
   "cell_type": "code",
   "execution_count": 2,
   "id": "ethical-saudi",
   "metadata": {},
   "outputs": [],
   "source": [
    "df = pd.read_csv('datos/diabetes.csv')"
   ]
  },
  {
   "cell_type": "code",
   "execution_count": 3,
   "id": "smooth-interference",
   "metadata": {},
   "outputs": [
    {
     "data": {
      "text/html": [
       "<div>\n",
       "<style scoped>\n",
       "    .dataframe tbody tr th:only-of-type {\n",
       "        vertical-align: middle;\n",
       "    }\n",
       "\n",
       "    .dataframe tbody tr th {\n",
       "        vertical-align: top;\n",
       "    }\n",
       "\n",
       "    .dataframe thead th {\n",
       "        text-align: right;\n",
       "    }\n",
       "</style>\n",
       "<table border=\"1\" class=\"dataframe\">\n",
       "  <thead>\n",
       "    <tr style=\"text-align: right;\">\n",
       "      <th></th>\n",
       "      <th>Pregnancies</th>\n",
       "      <th>Glucose</th>\n",
       "      <th>BloodPressure</th>\n",
       "      <th>SkinThickness</th>\n",
       "      <th>Insulin</th>\n",
       "      <th>BMI</th>\n",
       "      <th>DiabetesPedigreeFunction</th>\n",
       "      <th>Age</th>\n",
       "      <th>Outcome</th>\n",
       "    </tr>\n",
       "  </thead>\n",
       "  <tbody>\n",
       "    <tr>\n",
       "      <th>0</th>\n",
       "      <td>6</td>\n",
       "      <td>148</td>\n",
       "      <td>72</td>\n",
       "      <td>35</td>\n",
       "      <td>0</td>\n",
       "      <td>33.6</td>\n",
       "      <td>0.627</td>\n",
       "      <td>50</td>\n",
       "      <td>1</td>\n",
       "    </tr>\n",
       "    <tr>\n",
       "      <th>1</th>\n",
       "      <td>1</td>\n",
       "      <td>85</td>\n",
       "      <td>66</td>\n",
       "      <td>29</td>\n",
       "      <td>0</td>\n",
       "      <td>26.6</td>\n",
       "      <td>0.351</td>\n",
       "      <td>31</td>\n",
       "      <td>0</td>\n",
       "    </tr>\n",
       "    <tr>\n",
       "      <th>2</th>\n",
       "      <td>8</td>\n",
       "      <td>183</td>\n",
       "      <td>64</td>\n",
       "      <td>0</td>\n",
       "      <td>0</td>\n",
       "      <td>23.3</td>\n",
       "      <td>0.672</td>\n",
       "      <td>32</td>\n",
       "      <td>1</td>\n",
       "    </tr>\n",
       "    <tr>\n",
       "      <th>3</th>\n",
       "      <td>1</td>\n",
       "      <td>89</td>\n",
       "      <td>66</td>\n",
       "      <td>23</td>\n",
       "      <td>94</td>\n",
       "      <td>28.1</td>\n",
       "      <td>0.167</td>\n",
       "      <td>21</td>\n",
       "      <td>0</td>\n",
       "    </tr>\n",
       "    <tr>\n",
       "      <th>4</th>\n",
       "      <td>0</td>\n",
       "      <td>137</td>\n",
       "      <td>40</td>\n",
       "      <td>35</td>\n",
       "      <td>168</td>\n",
       "      <td>43.1</td>\n",
       "      <td>2.288</td>\n",
       "      <td>33</td>\n",
       "      <td>1</td>\n",
       "    </tr>\n",
       "    <tr>\n",
       "      <th>5</th>\n",
       "      <td>5</td>\n",
       "      <td>116</td>\n",
       "      <td>74</td>\n",
       "      <td>0</td>\n",
       "      <td>0</td>\n",
       "      <td>25.6</td>\n",
       "      <td>0.201</td>\n",
       "      <td>30</td>\n",
       "      <td>0</td>\n",
       "    </tr>\n",
       "    <tr>\n",
       "      <th>6</th>\n",
       "      <td>3</td>\n",
       "      <td>78</td>\n",
       "      <td>50</td>\n",
       "      <td>32</td>\n",
       "      <td>88</td>\n",
       "      <td>31.0</td>\n",
       "      <td>0.248</td>\n",
       "      <td>26</td>\n",
       "      <td>1</td>\n",
       "    </tr>\n",
       "    <tr>\n",
       "      <th>7</th>\n",
       "      <td>10</td>\n",
       "      <td>115</td>\n",
       "      <td>0</td>\n",
       "      <td>0</td>\n",
       "      <td>0</td>\n",
       "      <td>35.3</td>\n",
       "      <td>0.134</td>\n",
       "      <td>29</td>\n",
       "      <td>0</td>\n",
       "    </tr>\n",
       "    <tr>\n",
       "      <th>8</th>\n",
       "      <td>2</td>\n",
       "      <td>197</td>\n",
       "      <td>70</td>\n",
       "      <td>45</td>\n",
       "      <td>543</td>\n",
       "      <td>30.5</td>\n",
       "      <td>0.158</td>\n",
       "      <td>53</td>\n",
       "      <td>1</td>\n",
       "    </tr>\n",
       "    <tr>\n",
       "      <th>9</th>\n",
       "      <td>8</td>\n",
       "      <td>125</td>\n",
       "      <td>96</td>\n",
       "      <td>0</td>\n",
       "      <td>0</td>\n",
       "      <td>0.0</td>\n",
       "      <td>0.232</td>\n",
       "      <td>54</td>\n",
       "      <td>1</td>\n",
       "    </tr>\n",
       "  </tbody>\n",
       "</table>\n",
       "</div>"
      ],
      "text/plain": [
       "   Pregnancies  Glucose  BloodPressure  SkinThickness  Insulin   BMI  \\\n",
       "0            6      148             72             35        0  33.6   \n",
       "1            1       85             66             29        0  26.6   \n",
       "2            8      183             64              0        0  23.3   \n",
       "3            1       89             66             23       94  28.1   \n",
       "4            0      137             40             35      168  43.1   \n",
       "5            5      116             74              0        0  25.6   \n",
       "6            3       78             50             32       88  31.0   \n",
       "7           10      115              0              0        0  35.3   \n",
       "8            2      197             70             45      543  30.5   \n",
       "9            8      125             96              0        0   0.0   \n",
       "\n",
       "   DiabetesPedigreeFunction  Age  Outcome  \n",
       "0                     0.627   50        1  \n",
       "1                     0.351   31        0  \n",
       "2                     0.672   32        1  \n",
       "3                     0.167   21        0  \n",
       "4                     2.288   33        1  \n",
       "5                     0.201   30        0  \n",
       "6                     0.248   26        1  \n",
       "7                     0.134   29        0  \n",
       "8                     0.158   53        1  \n",
       "9                     0.232   54        1  "
      ]
     },
     "execution_count": 3,
     "metadata": {},
     "output_type": "execute_result"
    }
   ],
   "source": [
    "df.head(10)"
   ]
  },
  {
   "cell_type": "code",
   "execution_count": 4,
   "id": "national-matthew",
   "metadata": {},
   "outputs": [],
   "source": [
    "X = df.drop(columns='Outcome') # variables independientes\n",
    "y = df['Outcome'].values # variable dependiente"
   ]
  },
  {
   "cell_type": "markdown",
   "id": "overall-jesus",
   "metadata": {},
   "source": [
    "### Normalizamos los datos"
   ]
  },
  {
   "cell_type": "code",
   "execution_count": 5,
   "id": "ceramic-climb",
   "metadata": {},
   "outputs": [],
   "source": [
    "X = StandardScaler().fit_transform(X)"
   ]
  },
  {
   "cell_type": "markdown",
   "id": "attended-shark",
   "metadata": {},
   "source": [
    "### Separamos los datos para el entrenamiento y la validación"
   ]
  },
  {
   "cell_type": "code",
   "execution_count": 6,
   "id": "egyptian-tongue",
   "metadata": {},
   "outputs": [],
   "source": [
    "X_train, X_test, y_train, y_test = train_test_split(X, y, test_size=0.3,random_state=seed)"
   ]
  },
  {
   "cell_type": "code",
   "execution_count": 7,
   "id": "unable-storage",
   "metadata": {},
   "outputs": [],
   "source": [
    "kfold = StratifiedKFold(n_splits = 5, random_state=seed)"
   ]
  },
  {
   "cell_type": "markdown",
   "id": "owned-bacteria",
   "metadata": {},
   "source": [
    "### Creamos el modelo"
   ]
  },
  {
   "cell_type": "code",
   "execution_count": 9,
   "id": "earlier-healing",
   "metadata": {},
   "outputs": [],
   "source": [
    "modelo_rf = RandomForestClassifier(random_state=seed).fit(X_train, y_train)\n",
    "rf_parametros = {\n",
    " 'n_estimators': [100, 250, 500, 750, 1000],\n",
    " 'criterion': ['gini', 'entropy'],\n",
    " 'max_features': [None, 'auto', 'sqrt', 'log2'],\n",
    " 'max_depth': [1, 3, 5, 7, 9]\n",
    "}"
   ]
  },
  {
   "cell_type": "markdown",
   "id": "uniform-myrtle",
   "metadata": {},
   "source": [
    "### Busqueda de los hiperparámetros óptimos usando GridSearch"
   ]
  },
  {
   "cell_type": "code",
   "execution_count": 10,
   "id": "undefined-category",
   "metadata": {},
   "outputs": [],
   "source": [
    "grid = GridSearchCV(modelo_rf, rf_parametros, scoring='roc_auc', cv=kfold, verbose=10, n_jobs=-1)"
   ]
  },
  {
   "cell_type": "code",
   "execution_count": 34,
   "id": "motivated-navigator",
   "metadata": {},
   "outputs": [
    {
     "name": "stdout",
     "output_type": "stream",
     "text": [
      "Fitting 5 folds for each of 200 candidates, totalling 1000 fits\n"
     ]
    },
    {
     "data": {
      "text/plain": [
       "GridSearchCV(cv=StratifiedKFold(n_splits=5, random_state=None, shuffle=False),\n",
       "             estimator=RandomForestClassifier(), n_jobs=-1,\n",
       "             param_grid={'criterion': ['gini', 'entropy'],\n",
       "                         'max_depth': [1, 3, 5, 7, 9],\n",
       "                         'max_features': [None, 'auto', 'sqrt', 'log2'],\n",
       "                         'n_estimators': [100, 250, 500, 750, 1000]},\n",
       "             scoring='roc_auc', verbose=10)"
      ]
     },
     "execution_count": 34,
     "metadata": {},
     "output_type": "execute_result"
    }
   ],
   "source": [
    "grid.fit(X_train, y_train)"
   ]
  },
  {
   "cell_type": "markdown",
   "id": "honey-heart",
   "metadata": {},
   "source": [
    "### Resultados"
   ]
  },
  {
   "cell_type": "code",
   "execution_count": 35,
   "id": "painful-auditor",
   "metadata": {},
   "outputs": [
    {
     "name": "stdout",
     "output_type": "stream",
     "text": [
      "Mejores parámetros:  {'criterion': 'entropy', 'max_depth': 7, 'max_features': 'log2', 'n_estimators': 500}\n"
     ]
    }
   ],
   "source": [
    "print('Mejores parámetros: ', grid.best_params_)"
   ]
  },
  {
   "cell_type": "code",
   "execution_count": 36,
   "id": "configured-disease",
   "metadata": {},
   "outputs": [],
   "source": [
    "resultados = cross_val_score(grid.best_estimator_, X_train,y_train, cv=kfold)"
   ]
  },
  {
   "cell_type": "code",
   "execution_count": 43,
   "id": "auburn-rates",
   "metadata": {},
   "outputs": [
    {
     "name": "stdout",
     "output_type": "stream",
     "text": [
      "Accuracy - Train CV:  0.7522672204915196\n",
      "Accuracy - Train :  0.7878787878787878\n"
     ]
    }
   ],
   "source": [
    "print(\"Accuracy - Train CV: \", resultados.mean())\n",
    "print(\"Accuracy - Train : \", accuracy_score(grid.best_estimator_.predict(X_train), y_train))"
   ]
  },
  {
   "cell_type": "code",
   "execution_count": 44,
   "id": "domestic-taylor",
   "metadata": {},
   "outputs": [
    {
     "name": "stdout",
     "output_type": "stream",
     "text": [
      "Accuracy - Test :  0.7878787878787878\n"
     ]
    }
   ],
   "source": [
    "print(\"Accuracy - Test : \", accuracy_score(grid.best_estimator_.predict(X_test), y_test))"
   ]
  },
  {
   "cell_type": "markdown",
   "id": "weird-expansion",
   "metadata": {},
   "source": [
    "### Busqueda de los hiperparámetros óptimos usando RandomSearch"
   ]
  },
  {
   "cell_type": "code",
   "execution_count": 48,
   "id": "quarterly-freight",
   "metadata": {},
   "outputs": [],
   "source": [
    "param_dist = {'n_estimators':sp_randint(100,1000),\n",
    " 'criterion': ['gini', 'entropy'],\n",
    " 'max_features': [None, 'auto', 'sqrt', 'log2'],\n",
    " 'max_depth': [None, 1, 3, 5, 7, 9]\n",
    " }"
   ]
  },
  {
   "cell_type": "code",
   "execution_count": 52,
   "id": "australian-examination",
   "metadata": {},
   "outputs": [],
   "source": [
    "n_iter_search = 20\n",
    "random_search = RandomizedSearchCV(modelo_rf, param_distributions=param_dist, cv=kfold, n_iter=n_iter_search, verbose=10, n_jobs=-1, random_state=seed)"
   ]
  },
  {
   "cell_type": "code",
   "execution_count": 53,
   "id": "australian-newman",
   "metadata": {},
   "outputs": [
    {
     "name": "stdout",
     "output_type": "stream",
     "text": [
      "Fitting 5 folds for each of 20 candidates, totalling 100 fits\n"
     ]
    },
    {
     "data": {
      "text/plain": [
       "RandomizedSearchCV(cv=StratifiedKFold(n_splits=5, random_state=None, shuffle=False),\n",
       "                   estimator=RandomForestClassifier(), n_iter=20, n_jobs=-1,\n",
       "                   param_distributions={'criterion': ['gini', 'entropy'],\n",
       "                                        'max_depth': [None, 1, 3, 5, 7, 9],\n",
       "                                        'max_features': [None, 'auto', 'sqrt',\n",
       "                                                         'log2'],\n",
       "                                        'n_estimators': <scipy.stats._distn_infrastructure.rv_frozen object at 0x0000019C051AFC10>},\n",
       "                   verbose=10)"
      ]
     },
     "execution_count": 53,
     "metadata": {},
     "output_type": "execute_result"
    }
   ],
   "source": [
    "random_search.fit(X_train, y_train)"
   ]
  },
  {
   "cell_type": "markdown",
   "id": "early-mattress",
   "metadata": {},
   "source": [
    "### Resultados"
   ]
  },
  {
   "cell_type": "code",
   "execution_count": 54,
   "id": "distinct-boring",
   "metadata": {},
   "outputs": [
    {
     "name": "stdout",
     "output_type": "stream",
     "text": [
      "Mejores Parametros:  {'criterion': 'entropy', 'max_depth': 5, 'max_features': 'auto', 'n_estimators': 293}\n"
     ]
    }
   ],
   "source": [
    "print('Mejores Parametros: ', random_search.best_params_)"
   ]
  },
  {
   "cell_type": "code",
   "execution_count": 55,
   "id": "golden-deployment",
   "metadata": {},
   "outputs": [],
   "source": [
    "resultados = cross_val_score(random_search.best_estimator_, X_train,y_train, cv=kfold)"
   ]
  },
  {
   "cell_type": "code",
   "execution_count": 57,
   "id": "overhead-therapy",
   "metadata": {},
   "outputs": [
    {
     "name": "stdout",
     "output_type": "stream",
     "text": [
      "Accuracy - Train CV:  0.7541709934233298\n",
      "Accuracy - Train :  0.845437616387337\n",
      "Accuracy - Test :  0.7835497835497836\n"
     ]
    }
   ],
   "source": [
    "print(\"Accuracy - Train CV: \", resultados.mean())\n",
    "print(\"Accuracy - Train : \", accuracy_score(random_search.best_estimator_.predict(X_train), y_train))\n",
    "print(\"Accuracy - Test : \", accuracy_score(random_search.best_estimator_.predict(X_test), y_test))"
   ]
  }
 ],
 "metadata": {
  "kernelspec": {
   "display_name": "Python 3",
   "language": "python",
   "name": "python3"
  },
  "language_info": {
   "codemirror_mode": {
    "name": "ipython",
    "version": 3
   },
   "file_extension": ".py",
   "mimetype": "text/x-python",
   "name": "python",
   "nbconvert_exporter": "python",
   "pygments_lexer": "ipython3",
   "version": "3.8.5"
  }
 },
 "nbformat": 4,
 "nbformat_minor": 5
}
