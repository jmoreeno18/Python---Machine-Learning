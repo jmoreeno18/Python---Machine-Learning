{
 "cells": [
  {
   "cell_type": "markdown",
   "metadata": {},
   "source": [
    "<br>\n",
    "<img align=\"center\" src=\"imagenes/logo.png\"  width=\"200\" height=\"141\">\n",
    "<font size=36><center> Machine Learning con Python </center> </font>\n",
    "<br>"
   ]
  },
  {
   "cell_type": "markdown",
   "metadata": {},
   "source": [
    "<h1 align='center'> Modulo V: Deep Learning  </h1>\n",
    "<h2 align='center'>  Redes Neuronales con Keras </h2> "
   ]
  },
  {
   "cell_type": "markdown",
   "metadata": {},
   "source": [
    "---"
   ]
  },
  {
   "cell_type": "code",
   "execution_count": null,
   "metadata": {},
   "outputs": [],
   "source": []
  },
  {
   "cell_type": "code",
   "execution_count": null,
   "metadata": {},
   "outputs": [],
   "source": []
  },
  {
   "cell_type": "code",
   "execution_count": null,
   "metadata": {},
   "outputs": [],
   "source": []
  },
  {
   "cell_type": "markdown",
   "metadata": {},
   "source": [
    "En esta sección vamos a implementar un perceptrón multicapas usando la librería Keras y vamos a reproducir el ejemplo de clasificación de digitos manúscritos pero ahora con Keras"
   ]
  },
  {
   "cell_type": "code",
   "execution_count": 26,
   "metadata": {},
   "outputs": [],
   "source": [
    "import matplotlib.pyplot as plt\n",
    "import numpy as np\n",
    "import math\n",
    "import os\n",
    "import keras\n",
    "from keras.models import Sequential\n",
    "from keras.layers import Dense, Dropout,Input\n",
    "from keras.optimizers import Adam\n",
    "from keras.utils import to_categorical\n",
    "from keras.datasets import mnist"
   ]
  },
  {
   "cell_type": "markdown",
   "metadata": {},
   "source": [
    "## Importamos el dataset"
   ]
  },
  {
   "cell_type": "code",
   "execution_count": 46,
   "metadata": {},
   "outputs": [],
   "source": [
    "#Directorio de trabajo\n",
    "directorio = os.getcwd()"
   ]
  },
  {
   "cell_type": "code",
   "execution_count": 65,
   "metadata": {},
   "outputs": [],
   "source": [
    "(x_train, y_train),(x_test,y_test) = mnist.load_data(path = directorio + '\\datos\\mnist.npz')"
   ]
  },
  {
   "cell_type": "code",
   "execution_count": 48,
   "metadata": {},
   "outputs": [
    {
     "data": {
      "text/plain": [
       "(60000, 28, 28)"
      ]
     },
     "execution_count": 48,
     "metadata": {},
     "output_type": "execute_result"
    }
   ],
   "source": [
    "x_train.shape"
   ]
  },
  {
   "cell_type": "code",
   "execution_count": 49,
   "metadata": {},
   "outputs": [
    {
     "data": {
      "text/plain": [
       "(60000,)"
      ]
     },
     "execution_count": 49,
     "metadata": {},
     "output_type": "execute_result"
    }
   ],
   "source": [
    "y_train.shape"
   ]
  },
  {
   "cell_type": "markdown",
   "metadata": {},
   "source": [
    "### Definimos una función para trazar 9 imágenes en una cuadrícula de 3x3, y escribir las clases verdadera y predicha debajo de cada imagen."
   ]
  },
  {
   "cell_type": "code",
   "execution_count": 50,
   "metadata": {},
   "outputs": [],
   "source": [
    "def plot_images(images, cls_true, cls_pred = None):\n",
    "    assert len(images) == len(cls_true) == 9\n",
    "\n",
    "    # Creamos un objeto figure 3x3.\n",
    "    fig, axes = plt.subplots(3, 3)\n",
    "    fig.subplots_adjust(hspace=0.3, wspace=0.3)\n",
    "\n",
    "    for i, ax in enumerate(axes.flat):\n",
    "        # Plot imagen.\n",
    "        ax.imshow(images[i], cmap='binary')\n",
    "\n",
    "        # Muestra la clase real y la predicha.\n",
    "        if cls_pred is None:\n",
    "            xlabel = \"True: {0}\".format(cls_true[i])\n",
    "        else:\n",
    "            xlabel = \"True: {0}, Pred: {1}\".format(cls_true[i], cls_pred[i])\n",
    "\n",
    "        # Muestra las clases y las etiquetas de los ejes.\n",
    "        ax.set_xlabel(xlabel)       \n",
    "        ax.set_xticks([])\n",
    "        ax.set_yticks([])\n",
    "\n",
    "    # Finalmente se grafica.\n",
    "    plt.show()"
   ]
  },
  {
   "cell_type": "markdown",
   "metadata": {},
   "source": [
    "### Visualizamos algunos datos de ejemplo"
   ]
  },
  {
   "cell_type": "code",
   "execution_count": 66,
   "metadata": {},
   "outputs": [
    {
     "data": {
      "image/png": "[encoded data removed]",
      "text/plain": [
       "<Figure size 432x288 with 9 Axes>"
      ]
     },
     "metadata": {},
     "output_type": "display_data"
    }
   ],
   "source": [
    "# Obtenemos algunas imágenes de prueba\n",
    "images = x_train[0:9]\n",
    "\n",
    "# Obtenemos la clase a la que pertenece cada imagen.\n",
    "cls_true = y_train[0:9]\n",
    "\n",
    "# Graficamos junto con la etiqueta correspondiente\n",
    "plot_images(images=images, cls_true=cls_true)"
   ]
  },
  {
   "cell_type": "markdown",
   "metadata": {},
   "source": [
    "### Definimos el conjunto de variables para dar formato a las dimensiones de nuestras imágenes:"
   ]
  },
  {
   "cell_type": "code",
   "execution_count": 5,
   "metadata": {},
   "outputs": [],
   "source": []
  },
  {
   "cell_type": "markdown",
   "metadata": {},
   "source": [
    "### Preprocesamiento"
   ]
  },
  {
   "cell_type": "code",
   "execution_count": 52,
   "metadata": {},
   "outputs": [],
   "source": [
    "x_train = x_train.reshape(x_train.shape[0], 28*28)\n",
    "x_test = x_test.reshape(x_test.shape[0], 28*28)\n",
    "\n",
    "x_train = x_train.astype('float32')\n",
    "x_test = x_test.astype('float32')\n",
    "x_train /= 255\n",
    "x_test /= 255"
   ]
  },
  {
   "cell_type": "code",
   "execution_count": 53,
   "metadata": {},
   "outputs": [],
   "source": [
    "# Convertimos en un vector de una dimensión\n",
    "y_train = keras.utils.to_categorical(y_train,10)\n",
    "y_test = keras.utils.to_categorical(y_test,10)"
   ]
  },
  {
   "cell_type": "markdown",
   "metadata": {},
   "source": [
    "### Creamos el modelo"
   ]
  },
  {
   "cell_type": "code",
   "execution_count": 54,
   "metadata": {},
   "outputs": [],
   "source": [
    "model = Sequential()\n",
    "\n",
    "# Agrega una capa de entrada \n",
    "# Tenga en cuenta que la forma de entrada debe ser una tupla que contenga el tamaño de la imagen.\n",
    "model.add(Input(shape = x_train.shape[1:]))\n",
    "\n",
    "# Primera capa completamente conectada  con ReLU-activation.\n",
    "model.add(Dense(128, activation='relu'))\n",
    "\n",
    "# Última capa totalmente conectada con activación de softmax\n",
    "# para usar en la clasificación.\n",
    "model.add(Dense(num_classes, activation='softmax'))"
   ]
  },
  {
   "cell_type": "markdown",
   "metadata": {},
   "source": [
    "### Resumen del modelo"
   ]
  },
  {
   "cell_type": "code",
   "execution_count": 55,
   "metadata": {},
   "outputs": [
    {
     "name": "stdout",
     "output_type": "stream",
     "text": [
      "Model: \"sequential_4\"\n",
      "_________________________________________________________________\n",
      "Layer (type)                 Output Shape              Param #   \n",
      "=================================================================\n",
      "dense_4 (Dense)              (None, 128)               100480    \n",
      "_________________________________________________________________\n",
      "dense_5 (Dense)              (None, 10)                1290      \n",
      "=================================================================\n",
      "Total params: 101,770\n",
      "Trainable params: 101,770\n",
      "Non-trainable params: 0\n",
      "_________________________________________________________________\n"
     ]
    }
   ],
   "source": [
    "model.summary()"
   ]
  },
  {
   "cell_type": "markdown",
   "metadata": {},
   "source": [
    "### Compilación del modelo\n",
    "\n",
    "La red neuronal ahora se ha definido y debe completarse agregando una función de coste, un optimizador y las métricas de rendimiento. Esto se llama modelo de \"compilación\" en Keras.\n",
    "\n",
    "Podemos definir el optimizador y si queremos un mayor control de sus parámetros, entonces necesitamos crear una instancia de un objeto. Por ejemplo, podemos establecer la tasa de aprendizaje."
   ]
  },
  {
   "cell_type": "code",
   "execution_count": 56,
   "metadata": {},
   "outputs": [],
   "source": [
    "optimizer = Adam(lr=1e-3)"
   ]
  },
  {
   "cell_type": "code",
   "execution_count": null,
   "metadata": {},
   "outputs": [],
   "source": []
  },
  {
   "cell_type": "code",
   "execution_count": null,
   "metadata": {},
   "outputs": [],
   "source": []
  },
  {
   "cell_type": "markdown",
   "metadata": {},
   "source": [
    "Para un problema de clasificación como el de nuestro ejemplo (MNIST) que tiene 10 clases posibles, necesitamos usar la función de pérdida llamada categórica_crossentropy. La métrica de rendimiento que nos interesa es la precisión de la clasificación."
   ]
  },
  {
   "cell_type": "code",
   "execution_count": 57,
   "metadata": {},
   "outputs": [],
   "source": [
    "model.compile(optimizer = optimizer,loss='categorical_crossentropy', metrics=['accuracy'])"
   ]
  },
  {
   "cell_type": "markdown",
   "metadata": {},
   "source": [
    "### Entrenamiento\n",
    "\n",
    "Ahora que el modelo se ha definido completamente, con su función de pérdida y su optimizador, podemos entrenarlo. Lo hacemos con la función fit. Esta función toma matrices numpy y realiza un número dado de épocas (epochs) de entrenamiento utilizando el tamaño de lote de datos dado.\n",
    "\n",
    "Una época es un uso completo de todo el conjunto de entrenamiento. Es decir, durante 10 epochs, iteramos aleatoriamente sobre todo el conjunto de entrenamiento 10 veces."
   ]
  },
  {
   "cell_type": "code",
   "execution_count": 58,
   "metadata": {},
   "outputs": [
    {
     "name": "stdout",
     "output_type": "stream",
     "text": [
      "Epoch 1/10\n",
      "1875/1875 - 5s - loss: 0.2535 - accuracy: 0.9270 - val_loss: 0.1314 - val_accuracy: 0.9625\n",
      "Epoch 2/10\n",
      "1875/1875 - 6s - loss: 0.1117 - accuracy: 0.9664 - val_loss: 0.1016 - val_accuracy: 0.9703\n",
      "Epoch 3/10\n",
      "1875/1875 - 4s - loss: 0.0775 - accuracy: 0.9768 - val_loss: 0.0806 - val_accuracy: 0.9743\n",
      "Epoch 4/10\n",
      "1875/1875 - 6s - loss: 0.0582 - accuracy: 0.9821 - val_loss: 0.0830 - val_accuracy: 0.9753\n",
      "Epoch 5/10\n",
      "1875/1875 - 4s - loss: 0.0449 - accuracy: 0.9856 - val_loss: 0.0834 - val_accuracy: 0.9750\n",
      "Epoch 6/10\n",
      "1875/1875 - 4s - loss: 0.0354 - accuracy: 0.9886 - val_loss: 0.0750 - val_accuracy: 0.9776\n",
      "Epoch 7/10\n",
      "1875/1875 - 6s - loss: 0.0279 - accuracy: 0.9913 - val_loss: 0.0767 - val_accuracy: 0.9769\n",
      "Epoch 8/10\n",
      "1875/1875 - 5s - loss: 0.0224 - accuracy: 0.9930 - val_loss: 0.0750 - val_accuracy: 0.9784\n",
      "Epoch 9/10\n",
      "1875/1875 - 4s - loss: 0.0196 - accuracy: 0.9938 - val_loss: 0.0916 - val_accuracy: 0.9753\n",
      "Epoch 10/10\n",
      "1875/1875 - 4s - loss: 0.0154 - accuracy: 0.9952 - val_loss: 0.0777 - val_accuracy: 0.9779\n"
     ]
    }
   ],
   "source": [
    "# entrenamos el modelo...\n",
    "historia = model.fit(x_train, y_train, validation_data=(x_test, y_test), epochs = 10, batch_size = 32,verbose=2)"
   ]
  },
  {
   "cell_type": "code",
   "execution_count": 60,
   "metadata": {},
   "outputs": [
    {
     "data": {
      "image/png": "[encoded data removed]",
      "text/plain": [
       "<Figure size 864x432 with 2 Axes>"
      ]
     },
     "metadata": {
      "needs_background": "light"
     },
     "output_type": "display_data"
    }
   ],
   "source": [
    "plt.figure(figsize=(12,6))\n",
    "plt.subplot(1,2,1)\n",
    "plt.plot(historia.history['accuracy'])\n",
    "plt.title('accuracy')\n",
    "plt.xlabel('epochs')\n",
    "plt.subplot(1,2,2)\n",
    "plt.plot(historia.history['loss'],color='orange')\n",
    "plt.title('loss')\n",
    "plt.xlabel('epochs')\n",
    "plt.show()"
   ]
  },
  {
   "cell_type": "markdown",
   "metadata": {},
   "source": [
    "### Predicción"
   ]
  },
  {
   "cell_type": "code",
   "execution_count": 61,
   "metadata": {},
   "outputs": [],
   "source": [
    "prediccion = model.predict(x_test)"
   ]
  },
  {
   "cell_type": "code",
   "execution_count": 62,
   "metadata": {},
   "outputs": [],
   "source": [
    "prediccion = np.argmax(prediccion,axis=1)"
   ]
  },
  {
   "cell_type": "markdown",
   "metadata": {},
   "source": [
    "### Visualizamos los resultados"
   ]
  },
  {
   "cell_type": "code",
   "execution_count": 67,
   "metadata": {},
   "outputs": [
    {
     "data": {
      "image/png": "[encoded data removed]",
      "text/plain": [
       "<Figure size 432x288 with 9 Axes>"
      ]
     },
     "metadata": {},
     "output_type": "display_data"
    }
   ],
   "source": [
    "# Obtenemos algunas imágenes de prueba\n",
    "images = x_test[0:9]\n",
    "\n",
    "# Obtenemos la clase a la que pertenece cada imagen.\n",
    "cls_true = y_test[0:9]\n",
    "\n",
    "# Obtenemos la clase predicha por el modelo\n",
    "cls_pred = prediccion[0:9]\n",
    "\n",
    "# Graficamos junto con la etiqueta correspondiente\n",
    "plot_images(images=images, cls_true=cls_true,cls_pred = cls_pred)"
   ]
  },
  {
   "cell_type": "code",
   "execution_count": 97,
   "metadata": {},
   "outputs": [],
   "source": [
    "img = plt.imread('datos/tres.jpg')"
   ]
  },
  {
   "cell_type": "code",
   "execution_count": 98,
   "metadata": {},
   "outputs": [
    {
     "data": {
      "text/plain": [
       "<matplotlib.image.AxesImage at 0x263855b22b0>"
      ]
     },
     "execution_count": 98,
     "metadata": {},
     "output_type": "execute_result"
    },
    {
     "data": {
      "image/png": "[encoded data removed]",
      "text/plain": [
       "<Figure size 432x288 with 1 Axes>"
      ]
     },
     "metadata": {
      "needs_background": "light"
     },
     "output_type": "display_data"
    }
   ],
   "source": [
    "plt.imshow(img)"
   ]
  },
  {
   "cell_type": "code",
   "execution_count": 99,
   "metadata": {},
   "outputs": [],
   "source": [
    "img = img[:,:,0]"
   ]
  },
  {
   "cell_type": "code",
   "execution_count": 100,
   "metadata": {},
   "outputs": [],
   "source": [
    "img = 1-img/255"
   ]
  },
  {
   "cell_type": "code",
   "execution_count": 101,
   "metadata": {},
   "outputs": [],
   "source": [
    "img = img.reshape(1,28*28)"
   ]
  },
  {
   "cell_type": "code",
   "execution_count": 102,
   "metadata": {},
   "outputs": [],
   "source": [
    "valor_predicho = model.predict(img)"
   ]
  },
  {
   "cell_type": "code",
   "execution_count": 103,
   "metadata": {},
   "outputs": [],
   "source": [
    "valor_predicho = np.argmax(valor_predicho)"
   ]
  },
  {
   "cell_type": "code",
   "execution_count": 104,
   "metadata": {},
   "outputs": [
    {
     "name": "stdout",
     "output_type": "stream",
     "text": [
      "La imagen es un  3\n"
     ]
    }
   ],
   "source": [
    "print('La imagen es un ',valor_predicho)"
   ]
  }
 ],
 "metadata": {
  "kernelspec": {
   "display_name": "Python 3",
   "language": "python",
   "name": "python3"
  },
  "language_info": {
   "codemirror_mode": {
    "name": "ipython",
    "version": 3
   },
   "file_extension": ".py",
   "mimetype": "text/x-python",
   "name": "python",
   "nbconvert_exporter": "python",
   "pygments_lexer": "ipython3",
   "version": "3.8.5"
  }
 },
 "nbformat": 4,
 "nbformat_minor": 2
}
