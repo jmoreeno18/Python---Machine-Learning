{
 "cells": [
  {
   "cell_type": "markdown",
   "metadata": {},
   "source": [
    "<br>\n",
    "<img align=\"center\" src=\"imagenes/logo.png\"  width=\"200\" height=\"141\">\n",
    "<font size=36><center> Machine Learning con Python </center> </font>\n",
    "<br>"
   ]
  },
  {
   "cell_type": "markdown",
   "metadata": {},
   "source": [
    "<h1 align='center'> Modulo II: Introducción a Python </h1>\n",
    "<h2 align='center'>  Funciones en Python </h2>  "
   ]
  },
  {
   "cell_type": "markdown",
   "metadata": {},
   "source": [
    "---"
   ]
  },
  {
   "cell_type": "markdown",
   "metadata": {},
   "source": [
    "# Funciones\n",
    "\n",
    "\n",
    "Hasta ahora hemos definido código en una celda: declaramos parámetros en variables, luego hacemos alguna operación e imprimimos y/o devolvemos un resultado. \n",
    "\n",
    "Para generalizar esto podemos declarar **funciones**, de manera de que no sea necesario redefinir variables en el código para calcular/realizar nuestra operación con diferentes parámetros. En Python las funciones se definen con la sentencia `def` y con `return` se devuelve un valor"
   ]
  },
  {
   "cell_type": "markdown",
   "metadata": {},
   "source": [
    "### Ejemplo"
   ]
  },
  {
   "cell_type": "code",
   "execution_count": 18,
   "metadata": {},
   "outputs": [],
   "source": [
    "import math as mt\n",
    "def pitagoras(a,b):\n",
    "    \"\"\"\n",
    "    Dado los catetos de un triángulo rectangulo, devuelve el valor de la hipotenusa\n",
    "    \"\"\"\n",
    "    c = mt.sqrt(a**2+b**2)\n",
    "    return c"
   ]
  },
  {
   "cell_type": "code",
   "execution_count": 24,
   "metadata": {},
   "outputs": [],
   "source": [
    "pitagoras?"
   ]
  },
  {
   "cell_type": "markdown",
   "metadata": {},
   "source": [
    "Supongamos que se quiere calcular la longitud de hipotenusa de un triangulo rectángulo de catetos 3 y 4. Si usamos la función anterior tenemos:"
   ]
  },
  {
   "cell_type": "code",
   "execution_count": 4,
   "metadata": {},
   "outputs": [
    {
     "name": "stdout",
     "output_type": "stream",
     "text": [
      "La longitud de la hipotenusa de un triángulo rectángulo de catetos 3 y 4 es 5.0\n"
     ]
    }
   ],
   "source": [
    "print('La longitud de la hipotenusa de un triángulo rectángulo de catetos 3 y 4 es',pitagoras(3,4))"
   ]
  },
  {
   "cell_type": "markdown",
   "metadata": {},
   "source": [
    "En Python no es necesario definir el tipo de datos cuando definimos una función. Python es dinámico y si un número, cualquiera sea su tipo, puede elevarse al cuadrado, ¿por qué deberíamos hacer una función equivalente para enteros, otra para flotantes de simple precisión y otra para complejos como se hace en otros lenguajes?"
   ]
  },
  {
   "cell_type": "markdown",
   "metadata": {},
   "source": [
    "# Docstrings\n",
    "\n",
    "Módulos, funciones, métodos y clases pueden tener una \"cadena de documentación\", que se define como un string \n",
    "en la primera linea del cuerpo. Python automáticamente asigna esa cadena al atributo `__doc__` del objeto en cuestión.\n",
    "\n",
    "Los `docstrings` **son opcionales pero muy recomendados**, porque a diferencia de los comentarios (que se ponen con `#`), son los que se muestran en la ayuda interactiva y tambien pueden post-procesarse para generar documentación de referencia automática"
   ]
  },
  {
   "cell_type": "markdown",
   "metadata": {},
   "source": [
    "# Parámetros\n",
    "\n",
    "La definición de funciones es muy flexible, podemos crear funciones sin que reciban parámetros o que ésta retorne algún valor"
   ]
  },
  {
   "cell_type": "code",
   "execution_count": 5,
   "metadata": {},
   "outputs": [],
   "source": [
    "def saludo():\n",
    "    '''Este programa genera un saludo por pantalla'''\n",
    "    print('Hola, Espero que tengas un feliz dia')"
   ]
  },
  {
   "cell_type": "code",
   "execution_count": 6,
   "metadata": {},
   "outputs": [
    {
     "name": "stdout",
     "output_type": "stream",
     "text": [
      "Hola, Espero que tengas un feliz dia\n"
     ]
    }
   ],
   "source": [
    "saludo()"
   ]
  },
  {
   "cell_type": "markdown",
   "metadata": {},
   "source": [
    "## Parámetros opcionales\n",
    "\n",
    "Se pueden definir parámetros opcionales, que **toman un valor *default* ** cuando no se los explicíta. Vamos a redefinir la función saludo con algunos parámetros opcionales"
   ]
  },
  {
   "cell_type": "code",
   "execution_count": 7,
   "metadata": {},
   "outputs": [],
   "source": [
    "def saludo(nombre, saludo = 'Hola', despedida=False):\n",
    "    if despedida:\n",
    "        print('Hasta luego {}'.format(nombre))\n",
    "    else:\n",
    "        print('{} {}, ¿Como estás? '.format(saludo,nombre))"
   ]
  },
  {
   "cell_type": "code",
   "execution_count": 8,
   "metadata": {},
   "outputs": [
    {
     "name": "stdout",
     "output_type": "stream",
     "text": [
      "Hola Pedro, ¿Como estás? \n"
     ]
    }
   ],
   "source": [
    "# Ejemplo (Salida por defecto)\n",
    "saludo('Pedro')"
   ]
  },
  {
   "cell_type": "code",
   "execution_count": 9,
   "metadata": {},
   "outputs": [
    {
     "name": "stdout",
     "output_type": "stream",
     "text": [
      "Muy buenos dias Pedro, ¿Como estás? \n"
     ]
    }
   ],
   "source": [
    "# Ejemplo (Cambiando el saludo)\n",
    "saludo('Pedro','Muy buenos dias')"
   ]
  },
  {
   "cell_type": "code",
   "execution_count": 10,
   "metadata": {},
   "outputs": [
    {
     "name": "stdout",
     "output_type": "stream",
     "text": [
      "Hasta luego Pedro\n"
     ]
    }
   ],
   "source": [
    "# Ejemplo (Modo despedida)\n",
    "saludo('Pedro',despedida=True)"
   ]
  },
  {
   "cell_type": "markdown",
   "metadata": {},
   "source": [
    "## Múltiples puntos de salida\n",
    "\n",
    "También puede haber múltiples `return` en una función. El primero en ejecutarse determinará el valor que la función devuelve"
   ]
  },
  {
   "cell_type": "code",
   "execution_count": 11,
   "metadata": {},
   "outputs": [],
   "source": [
    "# Ejemplo (poco eficiente)\n",
    "def signo(valor):\n",
    "    if valor>0:\n",
    "        VAL = \"El valor es positivo\"\n",
    "        return VAL\n",
    "    elif valor==0:\n",
    "        VAL = \"El valor es nulo\"\n",
    "        return VAL\n",
    "    else:\n",
    "        VAL = \"El valor es negativo\"\n",
    "        return VAL    "
   ]
  },
  {
   "cell_type": "code",
   "execution_count": 14,
   "metadata": {},
   "outputs": [
    {
     "data": {
      "text/plain": [
       "'El valor es nulo'"
      ]
     },
     "execution_count": 14,
     "metadata": {},
     "output_type": "execute_result"
    }
   ],
   "source": [
    "signo(0)"
   ]
  },
  {
   "cell_type": "code",
   "execution_count": 15,
   "metadata": {},
   "outputs": [],
   "source": [
    "# Ejemplo (mejor que el anterior)\n",
    "def signo(valor):\n",
    "    if valor>0:\n",
    "        VAL = \"El valor es positivo\"\n",
    "       \n",
    "    elif valor==0:\n",
    "        VAL = \"El valor es nulo\"        \n",
    "    else:\n",
    "        VAL = \"El valor es negativo\"\n",
    "    return VAL "
   ]
  },
  {
   "cell_type": "code",
   "execution_count": 16,
   "metadata": {},
   "outputs": [
    {
     "data": {
      "text/plain": [
       "'El valor es negativo'"
      ]
     },
     "execution_count": 16,
     "metadata": {},
     "output_type": "execute_result"
    }
   ],
   "source": [
    "signo(-2)"
   ]
  },
  {
   "cell_type": "markdown",
   "metadata": {},
   "source": [
    "## Pasar variables por valor y por referencia"
   ]
  },
  {
   "cell_type": "markdown",
   "metadata": {},
   "source": [
    "Dependiendo del tipo de dato que enviemos a la función, podemos diferenciar dos comportamientos:\n",
    "* **Paso por valor:** Se crea una copia local de la variable dentro de la función.\n",
    "* **Paso por referencia:** Se maneja directamente la variable, los cambios realizados dentro de la función le afectarán también fuera.\n",
    "\n",
    "Tradicionalmente:\n",
    "\n",
    "* **Los tipos simples se pasan por valor:** Enteros, flotantes, cadenas, lógicos...\n",
    "* **Los tipos compuestos se pasan por referencia:** Listas, diccionarios, conjuntos..."
   ]
  },
  {
   "cell_type": "markdown",
   "metadata": {},
   "source": [
    "#### Ejemplos\n",
    "* Paso por valor"
   ]
  },
  {
   "cell_type": "code",
   "execution_count": 1,
   "metadata": {},
   "outputs": [],
   "source": [
    "# Creamos una función que dupplica el valor de la variable\n",
    "\n",
    "def doblar(numero):\n",
    "    numero *=2\n",
    "    return numero"
   ]
  },
  {
   "cell_type": "code",
   "execution_count": 2,
   "metadata": {},
   "outputs": [
    {
     "name": "stdout",
     "output_type": "stream",
     "text": [
      "20\n",
      "10\n"
     ]
    }
   ],
   "source": [
    "n=10 # creamos una variable entera de valor 10\n",
    "print(doblar(n)) #pasamos la función para doblar el valor e imprimimos el resultado\n",
    "print(n) # imprimimos el valor de n"
   ]
  },
  {
   "cell_type": "markdown",
   "metadata": {},
   "source": [
    "Como podemos apreciar la función recibe es una copia de la variable, mientras que la variable original no se modifica"
   ]
  },
  {
   "cell_type": "markdown",
   "metadata": {},
   "source": [
    "* Paso por referencia"
   ]
  },
  {
   "cell_type": "markdown",
   "metadata": {},
   "source": [
    "Hagamos algo similar al ejemplo anterior pero ahora con un tipo de dato compuesto, es este caso un lista"
   ]
  },
  {
   "cell_type": "code",
   "execution_count": 3,
   "metadata": {},
   "outputs": [],
   "source": [
    "# Creamos una función que duplica los valores de una lista\n",
    "\n",
    "def doblar_valores(valores):\n",
    "    for i,val in enumerate(valores):\n",
    "        valores[i] *=2\n",
    "    return valores    "
   ]
  },
  {
   "cell_type": "code",
   "execution_count": 4,
   "metadata": {},
   "outputs": [
    {
     "name": "stdout",
     "output_type": "stream",
     "text": [
      "[2, 4, 6, 8]\n",
      "[2, 4, 6, 8]\n"
     ]
    }
   ],
   "source": [
    "lista=[1,2,3,4] # creamos una lista con valores enteros \n",
    "print(doblar_valores(lista)) # Pasamos la lista a la función e imprimimos los resultados\n",
    "print(lista) #imprimimos los valores de la lista original"
   ]
  },
  {
   "cell_type": "markdown",
   "metadata": {},
   "source": [
    "Note que a diferencia del ejemplo de paso por valor, aquí los datos originales de las lista si se modifican. En otros lenguajes existen los que se llaman **punteros**, pero en python no existen los punteros. Para resolver esto podemos pasar una copia de la lista a la función. Para esto haríamos lo siguiente:"
   ]
  },
  {
   "cell_type": "code",
   "execution_count": 5,
   "metadata": {},
   "outputs": [
    {
     "name": "stdout",
     "output_type": "stream",
     "text": [
      "[2, 4, 6, 8]\n",
      "[1, 2, 3, 4]\n"
     ]
    }
   ],
   "source": [
    "lista=[1,2,3,4]\n",
    "print(doblar_valores(lista[:])) # Con esto indicamos a python que estamos pasando una copia de la variable original\n",
    "print(lista)"
   ]
  },
  {
   "cell_type": "markdown",
   "metadata": {},
   "source": [
    "## Parámetros arbitrarios * args,  ** kwargs"
   ]
  },
  {
   "cell_type": "markdown",
   "metadata": {},
   "source": [
    "Anteriormente vimos cómo pasar un conjunto de parámetros ordenados a una función. Ahora cómo hacemos en el caso de que no sepamos de antemano la cantidad de parámetros de la función. En este caso usamos el parámetro especial *args, este parámetro especial en una función se usa para pasar, de forma opcional, un número de variables de argumento posicional.\n",
    "\n",
    "* Lo que realmente indica que el parámetro es de este tipo es el simbolo '*', el nombre 'args' se usa por convención.\n",
    "* El parámetro recibe los argumentos como una tupla.\n",
    "* Es un parámetro opcional. Se puede invocar a la función haciendo uso del mismo, o no.\n",
    "* El número de argumentos al invocar a la función es variable.\n",
    "* Son parámetros posicionales, por lo que, a diferencia de los parámetros por nombre, su valor depende de la posición en la que se pasen a la función.\n"
   ]
  },
  {
   "cell_type": "markdown",
   "metadata": {},
   "source": [
    "#### Ejemplo\n",
    "Vamos a crear una función que calcule el promedio de n números ingresados"
   ]
  },
  {
   "cell_type": "code",
   "execution_count": 25,
   "metadata": {},
   "outputs": [],
   "source": [
    "def promedio(*args):\n",
    "    prom=0\n",
    "    print(args)\n",
    "    for arg in args:\n",
    "        prom += arg\n",
    "    prom = prom/len(args)\n",
    "    return prom       "
   ]
  },
  {
   "cell_type": "code",
   "execution_count": 26,
   "metadata": {},
   "outputs": [
    {
     "name": "stdout",
     "output_type": "stream",
     "text": [
      "(1, 3, 5, 6)\n",
      "El promedio de 3.75\n"
     ]
    }
   ],
   "source": [
    "# Vamos calcular el promedio de los siguientes numeros 1,3,5,6\n",
    "resultado = promedio(1,3,5,6)\n",
    "print(\"El promedio de {}\".format(resultado))"
   ]
  },
  {
   "cell_type": "markdown",
   "metadata": {},
   "source": [
    "Vamos a repetir el proceso con una cantidad mayor de valores, supongamos que ingresamos 10 veces 10, con lo que el promedio seria 10"
   ]
  },
  {
   "cell_type": "code",
   "execution_count": 25,
   "metadata": {},
   "outputs": [
    {
     "name": "stdout",
     "output_type": "stream",
     "text": [
      "10.0\n"
     ]
    }
   ],
   "source": [
    "print(promedio(10,10,10,10,10,10,10,10,10,10))"
   ]
  },
  {
   "cell_type": "markdown",
   "metadata": {},
   "source": [
    "Para recibir un número indeterminado de parámetros por nombre (clave-valor o en inglés keyword args), debemos crear un diccionario dinámico de argumentos definiendo el parámetro con dos asteriscos:"
   ]
  },
  {
   "cell_type": "markdown",
   "metadata": {},
   "source": [
    "#### Ejemplo"
   ]
  },
  {
   "cell_type": "code",
   "execution_count": 31,
   "metadata": {},
   "outputs": [],
   "source": [
    "def argumentos(**kwargs):\n",
    "    print(kwargs)\n",
    "    for kwarg in kwargs:\n",
    "        print(kwarg)\n",
    "        print('clave={}, valor={}'.format(kwarg,kwargs[kwarg]))    "
   ]
  },
  {
   "cell_type": "code",
   "execution_count": 32,
   "metadata": {},
   "outputs": [
    {
     "name": "stdout",
     "output_type": "stream",
     "text": [
      "{'n': 10, 'l': [1, 2, 3, 4], 's': 'hola'}\n",
      "n\n",
      "clave=n, valor=10\n",
      "l\n",
      "clave=l, valor=[1, 2, 3, 4]\n",
      "s\n",
      "clave=s, valor=hola\n"
     ]
    }
   ],
   "source": [
    "argumentos(n=10,l=[1,2,3,4],s='hola')"
   ]
  },
  {
   "cell_type": "markdown",
   "metadata": {},
   "source": [
    "### Por posición y nombre\n",
    "Si queremos aceptar ambos tipos de parámetros simultáneamente, entonces debemos crear ambas colecciones dinámicas. Primero los argumentos indeterminados por valor y luego los que son por clave y valor:"
   ]
  }
 ],
 "metadata": {
  "kernelspec": {
   "display_name": "Python 3",
   "language": "python",
   "name": "python3"
  },
  "language_info": {
   "codemirror_mode": {
    "name": "ipython",
    "version": 3
   },
   "file_extension": ".py",
   "mimetype": "text/x-python",
   "name": "python",
   "nbconvert_exporter": "python",
   "pygments_lexer": "ipython3",
   "version": "3.8.5"
  }
 },
 "nbformat": 4,
 "nbformat_minor": 2
}
