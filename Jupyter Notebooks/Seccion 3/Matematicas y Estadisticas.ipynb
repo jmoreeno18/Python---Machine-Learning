{
 "cells": [
  {
   "cell_type": "markdown",
   "id": "molecular-directory",
   "metadata": {},
   "source": [
    "<br>\n",
    "<img align=\"center\" src=\"imagenes/logo.png\"  width=\"200\" height=\"141\">\n",
    "<font size=36><center> Machine Learning con Python </center> </font>\n",
    "<br>"
   ]
  },
  {
   "cell_type": "markdown",
   "id": "fifty-representative",
   "metadata": {},
   "source": [
    "<h1 align='center'> Modulo III: Procesamiento y visualización de datos  </h1>\n",
    "<h2 align='center'>  Repaso de Matemáticas y Estadística </h2> "
   ]
  },
  {
   "cell_type": "markdown",
   "id": "musical-edward",
   "metadata": {},
   "source": [
    "---"
   ]
  },
  {
   "cell_type": "markdown",
   "id": "voluntary-triumph",
   "metadata": {},
   "source": [
    "# Introducción"
   ]
  },
  {
   "cell_type": "markdown",
   "id": "green-denver",
   "metadata": {},
   "source": [
    "El campo de las matemáticas se ocupa de los números, la lógica y los sistemas formales. La mejor definición de las matemáticas \n",
    "fue acuñada por Aristóteles como \"La ciencia de la cantidad\". El alcance de las matemáticas como campo científico es enorme \n",
    "abarca áreas como el álgebra, la trigonometría, el cálculo, la geometría y la teoría de los números, por nombrar sólo algunos de los principales campos de números, por nombrar algunos de los principales campos. El álgebra lineal y la probabilidad son dos importantes subcampos de las matemáticas que se utilizan ampliamente en el machine learning y cubriremos algunos conceptos importantes de ellos en esta sección. Nuestro enfoque principal será siempre el Aprendizaje Automático práctico, y las matemáticas aplicadas son un aspecto importante para el mismo. El álgebra lineal trata con objetos y estructuras matemáticas como vectores, matrices, líneas, planos, hiperplanos y espacios vectoriales. La teoría de la probabilidad es un campo matemático matemático que se utiliza para estudiar y cuantificar sucesos de azar e incertidumbre y derivar teoremas y axiomas de los mismos y axiomas de los mismos. Estas leyes y axiomas nos ayudan a razonar, comprender y cuantificar incertidumbre y sus efectos en cualquier sistema o escenario del mundo real, lo que nos ayuda a construir nuestros modelos de Machine Learning aprovechando este marco."
   ]
  },
  {
   "cell_type": "markdown",
   "id": "understanding-rotation",
   "metadata": {},
   "source": [
    "# Conceptos Matemáticos Importantes"
   ]
  },
  {
   "cell_type": "markdown",
   "id": "dependent-gabriel",
   "metadata": {},
   "source": [
    "## Escalar \n",
    "\n",
    "Un **escalar** es usualmente representado como un simple número. Por ejemplo $x = 5$ o $x\\in \\mathbb{R}$, donde $x$ representa a un valor o constante dentro de un conjunto numérico, usualmente los número reales."
   ]
  },
  {
   "cell_type": "markdown",
   "id": "accessory-ceiling",
   "metadata": {},
   "source": [
    "##  Vector\n",
    "\n",
    "Un **vector** es definido como una estructura que contiene un arreglo de números en orden. Los vectores en matemática suelen ser representados así\n",
    "$$\\overrightarrow{x} = (x_1,x_2,\\ldots,x_n)$$\n",
    "\n",
    "basicamente tenemos que $\\overrightarrow{x}$ es un vector unidimensional que tiene $n$ elementos ordenados."
   ]
  },
  {
   "cell_type": "markdown",
   "id": "large-first",
   "metadata": {},
   "source": [
    "## Matriz\n",
    "\n",
    "Una **matriz** es una estructura que que contiene basicamente números ordenados de forma rectangular. cada elemento puede ser rederenciado usando un indices que representan la ubicación de cada elemento dentro de la matriz.\n",
    "\n",
    "$$M = \\pmatrix{m_{11} & m_{12} &  m_{13}\\\\ m_{21} & m_{22} &  m_{23}\\\\ m_{31} & m_{32} &  m_{33}}$$\n",
    "\n",
    "M es una matriz de orden $3\\times3$. Tiene tres filas y tres columnas y cada elemento es denotado por $m_{rc}$, tal que $r$ denota el índice para las filas y $c$ denota el índice para las columnas.\n",
    "\n",
    "### Matriz traspuesta\n",
    "\n",
    "Para obtener la traspuesta $M^{t}$ de una matriz $M$, debemos intercambiar o reescribir las filas en forma de columna o viceversa. Si una matriz M tiene orden $m \\times n$ su traspuesta tendrá orden $n \\times m$. \n",
    "Por ejemplo:\n",
    "La traspuesta de la matriz \n",
    "$$M = \\pmatrix{1 & 2 & 3\\\\ 4 & 5 & 6}$$\n",
    "\n",
    "es la matriz\n",
    "\n",
    "$$ M^{t} = \\pmatrix{1 & 4 \\\\ 2 & 5\\\\ 3 & 6}$$\n"
   ]
  },
  {
   "cell_type": "markdown",
   "id": "tight-effects",
   "metadata": {},
   "source": [
    "## Tensor\n",
    "\n",
    "Podemos pensar un **tensor** como un arreglo genérico. Los Tensores son básicamente arreglos con un número variable de ejes. Cada elemento en un tensor $T$ puede ser denotado por $T_{x,y,z}$ donde $x,y,z$ denota los tres ejes para un elemento específico de $T$."
   ]
  },
  {
   "cell_type": "markdown",
   "id": "invalid-belarus",
   "metadata": {},
   "source": [
    "## Norma\n",
    "\n",
    "La **norma** es una medida que es usada para calcular el tamaño de un vector, está definido como la distancia desde el origen al punto que denota el vector. Matemáticamente, la norma $p$ de un vector es representada por la siguiente expresión.\n",
    "\n",
    "$$L^{p} = ||x_{p}|| = \\Bigg(\\sum_{i} |x_{i}|^{p}\\Bigg)^{\\frac{1}{p}}$$\n",
    "\n",
    "esto es para $p\\geq 1$ y $p\\in \\mathbb{R}$. Las normas populares en Machine Learning incluye la $L^{1}$ y la norma $L^{2}$, que es la norma Euclídea usada frecuentemente. "
   ]
  },
  {
   "cell_type": "markdown",
   "id": "hourly-removal",
   "metadata": {},
   "source": [
    "## Descomposición en Valores Singulares de una Matriz\n",
    "\n",
    "Se trata básicamente de un proceso de descomposición matricial que consiste en descomponer una matriz en un conjunto de vectores y valores propios. La descomposición en valores singulares puede ser representada de la siguiente forma:\n",
    "\n",
    "$$M = V diag(\\lambda) V^{-1}$$\n",
    "\n",
    "tal que la matriz $M$ tiene un total de $n$ vectores propios linealmente independientes representados como $\\{v^{(1)},v^{(2)}, \\ldots, v^{(n)}\\}$ y sus correspondientes valores propios pueden ser representados como $\\{\\lambda_1, \\lambda_2,\\ldots, \\lambda_n\\}$. La matriz $V$ consiste de un vector propio por columna, es decir, $V = \\{v^{(1)},v^{(2)}, \\ldots, v^{(n)}\\}$ y el vector $\\lambda$ consiste de todos los valores propios, es decir, $\\lambda = \\{\\lambda_1, \\lambda_2,\\ldots, \\lambda_n\\}$.\n",
    "\n",
    "Un **vector propio** de la matriz se define como un vector no nulo tal que al multiplicar la matriz por el vector propio, el resultado es un escalar multiplicado por el vector propio. Este escalar se conoce como el **valor propio correspondiente al vector propio**. Matemáticamente \n",
    "esto se puede denotar por $Mv = \\lambda v$ donde $M$ es nuestra matriz, $v$ es el vector propio y $\\lambda$ es el valor propio correspondiente. "
   ]
  },
  {
   "cell_type": "markdown",
   "id": "funny-there",
   "metadata": {},
   "source": [
    "---"
   ]
  },
  {
   "cell_type": "markdown",
   "id": "devoted-pharmacy",
   "metadata": {},
   "source": [
    "# Conceptos Estadísticos Importantes\n",
    "\n",
    "El campo de la estadística puede ser definida como una rama de la matemática aplicada, que consiste en marcos de trabajos y metodologías para colectar, organizar, analizar, interpretar y presentar datos. Hay dos áreas principales en la estadistica que mencionamos a continuación:"
   ]
  },
  {
   "cell_type": "markdown",
   "id": "negative-medicare",
   "metadata": {},
   "source": [
    "### Estadistica Descriptiva: \n",
    "\n",
    "La estadística descriptiva es usada para comprender las características básicas de un conjunto de datos, usando para ello un conjunto de varias medidas que permite agrupar y resumir los datos para así mejorar la comprensión de los mismos. Algunas de estas medidas son: La media, la moda, la mediana, desviación estándar, varianza, entre muchos otros. "
   ]
  },
  {
   "cell_type": "markdown",
   "id": "documentary-democracy",
   "metadata": {},
   "source": [
    "### Inferencia Estadística:\n",
    "\n",
    "La inferencia estadística es usada para hacer pruebas de hipótesis, hacer inferencia y conclusiones aceerca de varias característicass de nuestra data de muestra o población. Algunas de los marcos de trabajo o técnicas usadas son las pruebas de hipótesis, correlación, análisis de regresión y pronóstico."
   ]
  },
  {
   "cell_type": "markdown",
   "id": "foster-blair",
   "metadata": {},
   "source": [
    "## Variables Aleatorias\n",
    "\n",
    "Usadas frecuentemente en probabilidad y medidas de incertidumbre, una variable random es basicamente una variable que puede tomar uno o varios valores aleatorios. estas variables pueden ser en general de tipo discretas o continuas."
   ]
  },
  {
   "cell_type": "markdown",
   "id": "accessible-samoa",
   "metadata": {},
   "source": [
    "## Distribución de Probabilidad\n",
    "\n",
    "Una distribución de probabilidad es una distribución o disposición que representa la probabilidad de que una variable aleatoria \n",
    "o variables de tomar cada uno de sus estados probables. Suele haber dos tipos principales de distribuciones según que la variable sea discreta o continua."
   ]
  },
  {
   "cell_type": "markdown",
   "id": "preliminary-signature",
   "metadata": {},
   "source": [
    "## Función de masa \n",
    "\n",
    "Una función de masa de probabilidad, también conocida como PMF, es una distribución de probabilidad sobre variables aleatorias discretas. Algunos ejemplos conocidos son las distribuciones de binomial y Poisson"
   ]
  },
  {
   "cell_type": "markdown",
   "id": "loving-catch",
   "metadata": {},
   "source": [
    "#### Ejemplo: Distribución binomial"
   ]
  },
  {
   "cell_type": "markdown",
   "id": "respiratory-queen",
   "metadata": {},
   "source": [
    "$$P(x=k) = {n \\choose k} p^{k}(1-p)^{n-k}, \\quad k=0,1,2,\\ldots,n $$"
   ]
  },
  {
   "cell_type": "markdown",
   "id": "considered-rabbit",
   "metadata": {},
   "source": [
    "## Función de densidad\n",
    "\n",
    "Una función de densidad de probabilidad, también conocida como PDF, es una distribución de probabilidad sobre variables aleatorias continuas variables aleatorias continuas. Algunos ejemplos populares son las distribuciones normal, uniforme y t de student\n",
    "\n",
    "#### Ejemplo: Distribucion Normal\n",
    "\n",
    "$$f(x) = \\frac{1}{\\sqrt{2\\pi}\\sigma}e^{-\\frac{1}{2}\\Big(\\frac{x-\\mu}{\\sigma}\\Big)^2}$$"
   ]
  },
  {
   "cell_type": "markdown",
   "id": "acquired-merchandise",
   "metadata": {},
   "source": [
    "## Probabilidad Marginal\n",
    "\n",
    "La regla de la probabilidad marginal se utiliza cuando ya tenemos la distribución de probabilidad para un conjunto de variables aleatorias \n",
    "y queremos calcular la distribución de probabilidad de un subconjunto de estas variables aleatorias. Para \n",
    "variables aleatorias discretas, podemos definir la probabilidad marginal como sigue.\n",
    "\n",
    "$$P(x) = \\sum_{y} p(x,y)$$\n",
    "\n",
    "Para las variables aleatorias continuas, podemos definirla mediante la operación de integración de la siguiente manera.\n",
    "\n",
    "$$P(x) = \\int p(x,y)dy$$"
   ]
  },
  {
   "cell_type": "markdown",
   "id": "objective-estimate",
   "metadata": {},
   "source": [
    "## Probabilidad Condicionada\n",
    "\n",
    "La regla de la probabilidad condicional se utiliza cuando queremos determinar la probabilidad de que un suceso vaya a \n",
    "tenga lugar, siempre que otro acontecimiento ya haya tenido lugar. Esto se representa matemáticamente de la siguiente manera.\n",
    "\n",
    "$$P(x/y) = \\frac{P(x,y)}{P(y)}$$\n",
    "\n",
    "Esto nos indica la probabilidad condicional de x, dado que y ya ha tenido lugar."
   ]
  },
  {
   "cell_type": "markdown",
   "id": "sonic-berkeley",
   "metadata": {},
   "source": [
    "## Teorema de Bayes\n",
    "\n",
    "Esta es otra regla o teorema que resulta útil cuando conocemos la probabilidad de un suceso de interés $P(A)$, la \n",
    "probabilidad condicional de otro suceso basado en nuestro suceso de interés $P(B/A)$ y queremos determinar la probabilidad condicional de nuestro suceso de interés dado que el otro suceso ha tenido lugar $P(A/B)$. Esto se puede definir matemáticamente mediante la siguiente expresión.\n",
    "\n",
    "$$P(A/B) = \\frac{P(B/A)P(A)}{P(B)}$$\n",
    "\n",
    "tal que $A$ y $B$ son eventos y $P(B) = \\sum_{x} P(B/A)P(A)$"
   ]
  }
 ],
 "metadata": {
  "kernelspec": {
   "display_name": "Python 3",
   "language": "python",
   "name": "python3"
  },
  "language_info": {
   "codemirror_mode": {
    "name": "ipython",
    "version": 3
   },
   "file_extension": ".py",
   "mimetype": "text/x-python",
   "name": "python",
   "nbconvert_exporter": "python",
   "pygments_lexer": "ipython3",
   "version": "3.8.5"
  }
 },
 "nbformat": 4,
 "nbformat_minor": 5
}
