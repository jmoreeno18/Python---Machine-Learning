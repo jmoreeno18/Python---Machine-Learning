{
 "cells": [
  {
   "cell_type": "markdown",
   "metadata": {},
   "source": [
    "<br>\n",
    "<img align=\"center\" src=\"imagenes/logo.png\"  width=\"200\" height=\"141\">\n",
    "<font size=36><center> Machine Learning con Python </center> </font>\n",
    "<br>"
   ]
  },
  {
   "cell_type": "markdown",
   "metadata": {},
   "source": [
    "<h1 align='center'> Modulo II: Introducción a Python </h1>\n",
    "<h2 align='center'>  Elementos de control </h2>  "
   ]
  },
  {
   "cell_type": "markdown",
   "metadata": {},
   "source": [
    "---"
   ]
  },
  {
   "cell_type": "markdown",
   "metadata": {},
   "source": [
    "Las sentencias de control en cualquier lenguaje de programacion permiten que se ejecuten o no determinadas instrucciones dependiendo de que se cumplan determinadas condiciones. \n",
    "\n",
    "En general, la sentencia if controla el flujo del programa y lo divide en diferentes caminos. "
   ]
  },
  {
   "cell_type": "markdown",
   "metadata": {},
   "source": [
    "## Sintáxis if"
   ]
  },
  {
   "cell_type": "raw",
   "metadata": {},
   "source": [
    "if (condicional):\n",
    "    bloque de código"
   ]
  },
  {
   "cell_type": "markdown",
   "metadata": {},
   "source": [
    "Note que el bloque de sentencias tiene un espacio al inicio, este espaciado o **indentación** es necesario que se cumpla, ya que python hace énfasis en que el código sea legible o que tenga una estructura que facilite la compresión del código. Todo lo que está con la misma indentación pertenece al mismo bloque de código."
   ]
  },
  {
   "cell_type": "markdown",
   "metadata": {},
   "source": [
    "### Ejemplos\n",
    "\n",
    "Realicemos un ejemplo en donde se tiene una variable que representa la edad de una persona y otra que representa la edad cuando alcanza la mayoría de edad. Ahora usemos la sentencia if para imprimir por pantalla si las persona es mayor de edad o no."
   ]
  },
  {
   "cell_type": "code",
   "execution_count": null,
   "metadata": {},
   "outputs": [],
   "source": [
    "edad_persona = 10\n",
    "mayoria_edad = 18\n",
    "\n",
    "if edad_persona >= mayoria_edad:\n",
    "    print('Ya eres mayor de edad!')"
   ]
  },
  {
   "cell_type": "markdown",
   "metadata": {},
   "source": [
    "Si cambiamos la edad por 10, y repite el ejemplo anterior veremos que no hace nada al ejecutarse la celda. Sin embargo, la celda se ejecuta, pero no el bloque correspondiente al if, ya que no cumple la condición para que la persona sea mayor de edad."
   ]
  },
  {
   "cell_type": "markdown",
   "metadata": {},
   "source": [
    "Ahora vamos a hacer que se imprima por pantalla si el la persona es o no mayor de edad, usando dos sentencias if."
   ]
  },
  {
   "cell_type": "code",
   "execution_count": null,
   "metadata": {},
   "outputs": [],
   "source": [
    "edad_persona = 15\n",
    "mayoria_edad = 18\n",
    "\n",
    "if edad_persona >= mayoria_edad:\n",
    "    print('Ya eres mayor de edad!')\n",
    "if edad_persona < mayoria_edad:\n",
    "    print('Aún eres menor de edad!')"
   ]
  },
  {
   "cell_type": "markdown",
   "metadata": {},
   "source": [
    "Lo anterior se puede hacer de forma más simplificada haciendo uso de la sentencia if else."
   ]
  },
  {
   "cell_type": "markdown",
   "metadata": {},
   "source": [
    "## Sintáxis if else"
   ]
  },
  {
   "cell_type": "raw",
   "metadata": {},
   "source": [
    "if (condicional):\n",
    "    bloque de código 1\n",
    "else:\n",
    "    bloque de código 2"
   ]
  },
  {
   "cell_type": "markdown",
   "metadata": {},
   "source": [
    "El bloque 1 se ejecuta si se cumple el condicional (True), en caso contrario se ejecuta el bloque correspondiente a la sentencia else"
   ]
  },
  {
   "cell_type": "markdown",
   "metadata": {},
   "source": [
    "Así se expresaria el ejemplo anterior usando if else|"
   ]
  },
  {
   "cell_type": "code",
   "execution_count": null,
   "metadata": {},
   "outputs": [],
   "source": [
    "## Uso del else\n",
    "\n",
    "if edad_persona >= mayoria_edad:\n",
    "    print('Ya eres mayor de edad!')\n",
    "else:\n",
    "    print('Aún eres menor de edad!')"
   ]
  },
  {
   "cell_type": "markdown",
   "metadata": {},
   "source": [
    "Veamos ahora la sentencia **if elif**."
   ]
  },
  {
   "cell_type": "markdown",
   "metadata": {},
   "source": [
    "## Sintáxis if elif"
   ]
  },
  {
   "cell_type": "raw",
   "metadata": {},
   "source": [
    "if (condición):\n",
    "    bloque de código 1\n",
    "elif (condición):\n",
    "    bloque de código 2\n",
    "elif (condición):\n",
    "    bloque de código 3\n",
    "elif (condición):\n",
    "    bloque de código 4\n",
    "else:\n",
    "    bloque de código 5"
   ]
  },
  {
   "cell_type": "markdown",
   "metadata": {},
   "source": [
    "La sentencia verifica de forma secuencias cada una de las condicones y cuando consiga que alguna se cumple, entonces ejecuta el bloque correspondiente y no ejecuta ni verifica las condiciones siguientes. Si al realiazar el proceso determina que ninguna de las condiciones se cumple, entonces se ejecuta el bloque correspondiente a la sentencia else."
   ]
  },
  {
   "cell_type": "markdown",
   "metadata": {},
   "source": [
    "### Ejemplo"
   ]
  },
  {
   "cell_type": "markdown",
   "metadata": {},
   "source": [
    "Vamos a continuar con el ejemplo de la nota de un alumno,solo que esta vez queremos saber a qué escala cualitativa corresponde la nota del alumno. El programa se ejecuta y cuando consiga la condición que se verifica, entonces ejecuta la acción correspondiente, en este caso imprime por pantalla la expresión correspondiente en la escala cualitativa del valor numérico de la nota."
   ]
  },
  {
   "cell_type": "code",
   "execution_count": null,
   "metadata": {},
   "outputs": [],
   "source": [
    "# Supongamos que la nota del alumno es 6 y ejecutemos la celda\n",
    "\n",
    "nota_alumno = 8\n",
    "if nota_alumno >= 9:\n",
    "    print(\"Sobresaliente\")\n",
    "elif nota_alumno>=7:\n",
    "    print(\"Distinguido\")\n",
    "elif nota_alumno>=5:\n",
    "    print(\"Suficiente\")\n",
    "else:\n",
    "    print(\" Deficiente\")   "
   ]
  },
  {
   "cell_type": "markdown",
   "metadata": {},
   "source": [
    "Como podemos apreciar la nota se considera \"Suficiente\". Pruebe con otros valores de la variable nota_alumno"
   ]
  },
  {
   "cell_type": "markdown",
   "metadata": {},
   "source": [
    "## Uso de operadores logicos con la sentencia if"
   ]
  },
  {
   "cell_type": "markdown",
   "metadata": {},
   "source": [
    "Vamos ahora a utilizar **operadores lógicos** para crear proposiciones más complejas."
   ]
  },
  {
   "cell_type": "markdown",
   "metadata": {},
   "source": [
    "Veamos un ejemplo con el operador **and**, el cual es verdadero solamente si las dos proposiciones lo son."
   ]
  },
  {
   "cell_type": "markdown",
   "metadata": {},
   "source": [
    "Consideremos dos valores fijos **a** y **b**, y determinemos y un tercer valor **c**, está ubicado a la izquierda de **a**, entre **a** y **b** o a la derecha de **b**"
   ]
  },
  {
   "cell_type": "code",
   "execution_count": null,
   "metadata": {},
   "outputs": [],
   "source": [
    "a = 1\n",
    "b = 3\n",
    "c = 2\n",
    "\n",
    "if c < a:\n",
    "    print(\"c está a la izquierda de a\")\n",
    "elif a < c and b>c: # ejemplo de uso del operador and\n",
    "    print(\"c está entre a y b\")\n",
    "else:\n",
    "    print(\"c está a la derecha de b\")    "
   ]
  },
  {
   "cell_type": "markdown",
   "metadata": {},
   "source": [
    "---"
   ]
  },
  {
   "cell_type": "markdown",
   "metadata": {},
   "source": [
    "# Sentencias iterativas"
   ]
  },
  {
   "cell_type": "markdown",
   "metadata": {},
   "source": [
    "Las **sentencias iterativas** son aquellas instrucciones que se repiten o ejecutan una cantidad determinada de veces. En python, al igual que otros lenguajes, existen varios de estos llamados también **bucles**. Un bucle, de forma más formal, es una estructura de control que repite un bloque de instrucciones.  Los bucles en python son:\n",
    "* while \n",
    "\n",
    "* for"
   ]
  },
  {
   "cell_type": "markdown",
   "metadata": {},
   "source": [
    "### Sintáxis bucle while"
   ]
  },
  {
   "cell_type": "raw",
   "metadata": {},
   "source": [
    "while  (condición):\n",
    "    bloque de instrucciones"
   ]
  },
  {
   "cell_type": "markdown",
   "metadata": {},
   "source": [
    "El bucle ** while** ejecutará el bloque de instrucciones, mientras la condición lógica sea verdadera (True)"
   ]
  },
  {
   "cell_type": "markdown",
   "metadata": {},
   "source": [
    "### Ejemplo\n",
    "\n",
    "Vamos a crear un bucle que permita imprimir todos los elementos de una lista por pantalla"
   ]
  },
  {
   "cell_type": "code",
   "execution_count": null,
   "metadata": {},
   "outputs": [],
   "source": [
    "lista = [3,5,6,2,1,3,5]  \n",
    "indice = 0\n",
    "while(indice<len(lista)):\n",
    "    print(\"El elemento {} de la lista es {}\".format(indice,lista[indice]))\n",
    "    indice+=1"
   ]
  },
  {
   "cell_type": "markdown",
   "metadata": {},
   "source": [
    "Se puede interrumpir este ciclo usando el comando **break** si en algún momento es necesario. Un ejemplo de esto puede ser si estamos buscando un valor dentro de una lista o conjunto."
   ]
  },
  {
   "cell_type": "markdown",
   "metadata": {},
   "source": [
    "### Ejemplo\n",
    "\n",
    "Vamos a determinar si en una lista existe un valor que no sea entero y en caso de conseguirlo finalizamos el bucle"
   ]
  },
  {
   "cell_type": "code",
   "execution_count": null,
   "metadata": {},
   "outputs": [],
   "source": [
    "lista_2=[1,2,3,4,5,4,7,7]\n",
    "indice=0\n",
    "while(indice<len(lista_2)):\n",
    "    if type(lista_2[indice])!=int:\n",
    "        print(\"El elemento {} de la lista no es entero\".format(indice))\n",
    "        break\n",
    "    indice+=1\n",
    "else: # En caso de no cumplir\n",
    "    print(\"Todos los valores son enteros\")"
   ]
  },
  {
   "cell_type": "markdown",
   "metadata": {},
   "source": [
    "### Bucles infinitos"
   ]
  },
  {
   "cell_type": "markdown",
   "metadata": {},
   "source": [
    "En determinadas situaciones podemos crear bucles infinitos con la sentencia while. Em algunos casos se utiliza para crear menus. En este ejemplo haremos algo mas sencillo."
   ]
  },
  {
   "cell_type": "markdown",
   "metadata": {},
   "source": [
    "### Ejemplo:\n",
    "En este ejemplo se debe adivinar un valor entre 1 y 10 y al adivinar se detiene el ciclo."
   ]
  },
  {
   "cell_type": "code",
   "execution_count": null,
   "metadata": {},
   "outputs": [],
   "source": [
    "import random\n",
    "print(\"Adivina el valor que he escogido entre 1 y 10\")\n",
    "numero = random.randint(1,10)\n",
    "while(True):\n",
    "    valor = int(input(\"Prueba tu suerte, introduce un número...  \"))\n",
    "    if valor !=numero:\n",
    "        print(\"No adivinaste, prueba otra vez\\n\")\n",
    "    else:\n",
    "        print(\"Excelente,adivinaste. El numero era {}\".format(numero))\n",
    "        break    "
   ]
  },
  {
   "cell_type": "markdown",
   "metadata": {},
   "source": [
    "---"
   ]
  },
  {
   "cell_type": "markdown",
   "metadata": {},
   "source": [
    "## Sintáxis del bucle for\n",
    "\n",
    "El bucle **for** permite realizar un conjunto de iteraciones una cantidad finita de veces. A diferencia del while, el **for** establece de antemano el numero de iteraciones que se harán y no tiene la posibilidad de realizar iteraciones infinitas. \n",
    "\n",
    "El **for** es una de las expresiones más utilizadas para manejar lista de datos ya que simplifica mucho las operaciones que se pueden realizar con estas."
   ]
  },
  {
   "cell_type": "raw",
   "metadata": {},
   "source": [
    " for (variable in conjunto_iterable):\n",
    "     bloque de sentencias"
   ]
  },
  {
   "cell_type": "markdown",
   "metadata": {},
   "source": [
    "La variable en el bucle **for** hará un recorrido por cada uno de los elementos del conjunto iterable. Cuando recorra todos los elementos el ciclo **for** termina"
   ]
  },
  {
   "cell_type": "markdown",
   "metadata": {},
   "source": [
    "### Ejemplo"
   ]
  },
  {
   "cell_type": "markdown",
   "metadata": {},
   "source": [
    "Vamos a utilizar el bucle while para recorrer e imprimir todos los elementos de una lista y luego repetimos el proceso usando un bucle for para que se aprecie la ventajas en el manejo de listas que tiene el bucle for"
   ]
  },
  {
   "cell_type": "code",
   "execution_count": null,
   "metadata": {},
   "outputs": [],
   "source": [
    "# Usando un bucle while\n",
    "\n",
    "lista = [0,1,2,3,4,5,6,7,8,9]\n",
    "i = 0\n",
    "while(i<len(lista)):\n",
    "    print(lista[i])\n",
    "    i+=1"
   ]
  },
  {
   "cell_type": "code",
   "execution_count": null,
   "metadata": {},
   "outputs": [],
   "source": [
    "# usando un bucle for\n",
    "\n",
    "for elemento in lista:\n",
    "    print(elemento)"
   ]
  },
  {
   "cell_type": "markdown",
   "metadata": {},
   "source": [
    "Como se puede apreciar se pudo realizar la misma operación pero con menos lineas de código."
   ]
  },
  {
   "cell_type": "markdown",
   "metadata": {},
   "source": [
    "### Crear listas\n",
    "\n",
    "Podemos usar una forma abreviada del bucle for para definir los elementos de una lista. Por ejemplo, valor a crear una lista formada por los cuadrados de los números del 1 al 10"
   ]
  },
  {
   "cell_type": "code",
   "execution_count": null,
   "metadata": {},
   "outputs": [],
   "source": [
    "# forma \"larga\"\n",
    "numeros=[]  # lista vacía\n",
    "\n",
    "for i in range(1,11):  # range genera una lista de valores enteros que van del 1 al 10\n",
    "    numeros.append(i**2) # agregamos en cada iteración un elemento a la lista formado por el cuadrado del índice i\n",
    "\n",
    "numeros"
   ]
  },
  {
   "cell_type": "code",
   "execution_count": null,
   "metadata": {},
   "outputs": [],
   "source": [
    "# forma abreviada\n",
    "\n",
    "numeros=[i**2 for i in range(11)]  # se resume en una linea lo realizado anteriormente\n",
    "\n",
    "numeros"
   ]
  },
  {
   "cell_type": "code",
   "execution_count": null,
   "metadata": {},
   "outputs": [],
   "source": []
  }
 ],
 "metadata": {
  "kernelspec": {
   "display_name": "Python 3 (ipykernel)",
   "language": "python",
   "name": "python3"
  },
  "language_info": {
   "codemirror_mode": {
    "name": "ipython",
    "version": 3
   },
   "file_extension": ".py",
   "mimetype": "text/x-python",
   "name": "python",
   "nbconvert_exporter": "python",
   "pygments_lexer": "ipython3",
   "version": "3.9.7"
  }
 },
 "nbformat": 4,
 "nbformat_minor": 2
}
