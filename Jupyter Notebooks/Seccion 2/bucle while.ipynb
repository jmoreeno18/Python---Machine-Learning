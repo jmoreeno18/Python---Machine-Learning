{
 "cells": [
  {
   "attachments": {},
   "cell_type": "markdown",
   "metadata": {},
   "source": [
    "<br>\n",
    "<img align=\"center\" src=\"imagenes/logo.png\"  width=\"200\" height=\"141\">\n",
    "<font size=36><center> Machine Learning con Python </center> </font>\n",
    "<br>"
   ]
  },
  {
   "cell_type": "markdown",
   "metadata": {},
   "source": [
    "<h1 align='center'> Modulo II: Introducción a Python </h1>\n",
    "<h2 align='center'>  Elementos de control </h2>  "
   ]
  },
  {
   "cell_type": "markdown",
   "metadata": {},
   "source": [
    "---"
   ]
  },
  {
   "cell_type": "markdown",
   "metadata": {},
   "source": [
    "Las **sentencias iterativas** son aquellas instrucciones que se repiten o ejecutan una cantidad determinada de veces. En python, al igual que otros lenguajes, existen varios de estos llamados también **bucles**. Un bucle, de forma más formal, es una estructura de control que repite un bloque de instrucciones.  Los bucles en python son:\n",
    "* while\n",
    "* for\n"
   ]
  },
  {
   "cell_type": "markdown",
   "metadata": {},
   "source": [
    "### Sintáxis bucle while"
   ]
  },
  {
   "cell_type": "raw",
   "metadata": {},
   "source": [
    "while  (condición):\n",
    "    bloque de instrucciones"
   ]
  },
  {
   "cell_type": "markdown",
   "metadata": {},
   "source": [
    "El bucle ** while** ejecutará el bloque de instrucciones, mientras la condición lógica sea verdadera (True)"
   ]
  },
  {
   "cell_type": "markdown",
   "metadata": {},
   "source": [
    "### Ejemplo\n",
    "\n",
    "Vamos a crear un buque que permita imprimir todos los elementos de una lista por pantalla"
   ]
  },
  {
   "cell_type": "code",
   "execution_count": 1,
   "metadata": {},
   "outputs": [
    {
     "name": "stdout",
     "output_type": "stream",
     "text": [
      "El elemento 0 de la lista es 3\n",
      "El elemento 1 de la lista es 5\n",
      "El elemento 2 de la lista es 6\n",
      "El elemento 3 de la lista es 2\n",
      "El elemento 4 de la lista es 1\n",
      "El elemento 5 de la lista es 3\n",
      "El elemento 6 de la lista es 5\n"
     ]
    }
   ],
   "source": [
    "lista=[3,5,6,2,1,3,5]  \n",
    "indice=0\n",
    "while(indice<len(lista)):\n",
    "    print(\"El elemento {} de la lista es {}\".format(indice,lista[indice]))\n",
    "    indice+=1"
   ]
  },
  {
   "cell_type": "markdown",
   "metadata": {},
   "source": [
    "Se puede interrumpir este ciclo usando el comando **break** si en algún momento es necesario. Un ejemplo de esto puede ser si estamos buscando un valor dentro de una lista o conjunto."
   ]
  },
  {
   "cell_type": "markdown",
   "metadata": {},
   "source": [
    "#### Ejemplo\n",
    "\n",
    "Vamos a determinar si en una lista existe un valor que no sea entero y en caso de conseguirlo finalizamos el bucle"
   ]
  },
  {
   "cell_type": "code",
   "execution_count": 7,
   "metadata": {},
   "outputs": [
    {
     "name": "stdout",
     "output_type": "stream",
     "text": [
      "El elemento 5 de la lista no es entero\n"
     ]
    }
   ],
   "source": [
    "lista_2=[1,2,3,4,5,\"a\",7,\"b\"]\n",
    "indice=0\n",
    "while(indice<len(lista_2)):\n",
    "    if type(lista_2[indice])!=int:\n",
    "        print(\"El elemento {} de la lista no es entero\".format(indice))\n",
    "        break\n",
    "    indice+=1\n",
    "else: # En caso de no cumplir\n",
    "    print(\"Todos los valores son enteros\")"
   ]
  },
  {
   "cell_type": "markdown",
   "metadata": {},
   "source": [
    "También podemos saltar determinados indices del ciclo utilizando la función **continue**, esto solamente hará que se al llegar a esta instrucción deje de ejecutarse las intrucciones siguientes y comienza con un nuevo índice. "
   ]
  },
  {
   "cell_type": "markdown",
   "metadata": {},
   "source": [
    "#### Ejemplo\n",
    "\n",
    "Vamos a realizar aquellas instrucciones donde el índice no sea par, es decir haremos los índices impares e imprimiremos el valor por pantalla de estos elementos"
   ]
  },
  {
   "cell_type": "code",
   "execution_count": 8,
   "metadata": {},
   "outputs": [
    {
     "name": "stdout",
     "output_type": "stream",
     "text": [
      "Elemento 3 de la lista\n",
      "Elemento mundo de la lista\n",
      "Elemento 8 de la lista\n",
      "Se imprimieron todos los elementos impares\n"
     ]
    }
   ],
   "source": [
    "lista_3=[\"hola\", 3, 7, \"mundo\", 5, 8, \"este es un string\"]\n",
    "indice=0\n",
    "\n",
    "while(indice<len(lista_3)):\n",
    "    if indice % 2==0:\n",
    "        indice+=1\n",
    "        continue\n",
    "    else:\n",
    "        print('Elemento {} de la lista'.format(lista_3[indice]))\n",
    "    indice+=1\n",
    "else:\n",
    "    print(\"Se imprimieron todos los elementos impares\")\n"
   ]
  },
  {
   "cell_type": "markdown",
   "metadata": {},
   "source": [
    "### Bucles infinitos"
   ]
  },
  {
   "cell_type": "markdown",
   "metadata": {},
   "source": [
    "En determinadas situaciones podemos crear bucles infinitos con la ssentencia while.Por ejemplo, podemos creamos un menú en donde el usuario salga del bucle al presionar determinada tecla. Obviamente un programa no puede iterar infinitamente, debe haber uns instrucción que nos permita salir del ciclo. "
   ]
  },
  {
   "cell_type": "markdown",
   "metadata": {},
   "source": [
    "#### Ejemplo:\n",
    "\n",
    "Vamos a crear un menú con cuatro opciones, una de ella es la opcion de salida."
   ]
  },
  {
   "cell_type": "code",
   "execution_count": 9,
   "metadata": {},
   "outputs": [
    {
     "name": "stdout",
     "output_type": "stream",
     "text": [
      "Introduzca el valor 1: Si desea que se imprima un saludo de bienvenida por pantalla\n",
      "Introduzca el valor 2: Si desea que se imprima su nombre por pantalla\n",
      "Introduzca el valor 3: Si desea una despedida por pantalla\n",
      "Introduzca el valor 0: Si de sea salir\n",
      "Valor= 1\n",
      "Hola, bienvenido al curso de python\n",
      "Valor= 2\n",
      "Puedes decirme tu nombreRoman\n",
      "Hola Roman, bienvenido al curso de python\n",
      "Valor= 3\n",
      "Hasta luego\n",
      "Valor= 0\n",
      "Opción inválida, prueba otra vez\n",
      "Valor= 4\n",
      "Vuelve pronto\n"
     ]
    }
   ],
   "source": [
    "print(\"Introduzca el valor 1: Si desea que se imprima un saludo de bienvenida por pantalla\")\n",
    "print(\"Introduzca el valor 2: Si desea que se imprima su nombre por pantalla\")\n",
    "print(\"Introduzca el valor 3: Si desea una despedida por pantalla\")\n",
    "print(\"Introduzca el valor 0: Si de sea salir\")\n",
    "while(True):\n",
    "    valor=input(\"Valor= \")\n",
    "    if valor==\"1\":\n",
    "        print(\"Hola, bienvenido al curso de python\")\n",
    "    elif valor==\"2\":\n",
    "        nombre=input(\"Puedes decirme tu nombre\")\n",
    "        print(\"Hola {}, bienvenido al curso de python\".format(nombre))        \n",
    "    elif valor==\"3\":\n",
    "        print(\"Hasta luego\")\n",
    "    elif valor==\"4\":\n",
    "        print(\"Vuelve pronto\")\n",
    "        break\n",
    "    else:\n",
    "        print(\"Opción inválida, prueba otra vez\")\n",
    "    "
   ]
  },
  {
   "cell_type": "code",
   "execution_count": null,
   "metadata": {},
   "outputs": [],
   "source": []
  }
 ],
 "metadata": {
  "kernelspec": {
   "display_name": "Python 3 (ipykernel)",
   "language": "python",
   "name": "python3"
  },
  "language_info": {
   "codemirror_mode": {
    "name": "ipython",
    "version": 3
   },
   "file_extension": ".py",
   "mimetype": "text/x-python",
   "name": "python",
   "nbconvert_exporter": "python",
   "pygments_lexer": "ipython3",
   "version": "3.9.7"
  }
 },
 "nbformat": 4,
 "nbformat_minor": 2
}
