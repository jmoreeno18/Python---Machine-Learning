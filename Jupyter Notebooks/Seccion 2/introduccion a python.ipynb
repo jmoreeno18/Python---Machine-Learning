{
 "cells": [
  {
   "cell_type": "markdown",
   "metadata": {},
   "source": [
    "<br>\n",
    "<img align=\"center\" src=\"imagenes/logo.png\"  width=\"200\" height=\"141\">\n",
    "<font size=36><center> Machine Learning con Python </center> </font>\n",
    "<br>"
   ]
  },
  {
   "cell_type": "markdown",
   "metadata": {},
   "source": [
    "<h1 align='center'> Modulo II: Introducción a python</h1>\n",
    "<h2 align='center'> ¿Qué es Python? </h2>  "
   ]
  },
  {
   "cell_type": "markdown",
   "metadata": {},
   "source": [
    "---"
   ]
  },
  {
   "cell_type": "markdown",
   "metadata": {
    "colab_type": "text",
    "id": "AjdgqE0m4lum"
   },
   "source": [
    "# Introducción"
   ]
  },
  {
   "cell_type": "markdown",
   "metadata": {
    "colab_type": "text",
    "id": "azJ_WpsT4luo"
   },
   "source": [
    "En esta sección veremos una pequeña introducción al lenguaje de programación de Python y compreenderemos las ventajas de su uso en Machine Learning"
   ]
  },
  {
   "cell_type": "markdown",
   "metadata": {
    "colab_type": "text",
    "id": "KVrMwV1D4luq"
   },
   "source": [
    "## ¿Qué es Python?"
   ]
  },
  {
   "cell_type": "markdown",
   "metadata": {
    "colab_type": "text",
    "id": "e8VqJ8dm4lur"
   },
   "source": [
    "* Lenguaje de programación interpretado, dinámico y fácil de aprender\n",
    "* Creado por [Guido van Rossum](https://es.wikipedia.org/wiki/Guido_van_Rossum) en 1991 y mantenido por la Python Software Foundation.\n",
    "* Ampliamente utilizado en ciencia e ingeniería.\n",
    "* Multitud de librería para realizar diferentes tareas."
   ]
  },
  {
   "cell_type": "markdown",
   "metadata": {
    "colab_type": "text",
    "id": "0BOiKryT4lus"
   },
   "source": [
    "## Ventajas de Python\n",
    "\n",
    "* **Libre y gratuito**:\n",
    "  - Posibilidad de estudiar su funcionamiento y corregirlo o mejorarlo\n",
    "  - Sin restricciones para su uso o distribución, incluso para uso comercial\n",
    "  - Lenguaje interpretado y no compilado, de alto nivel.\n",
    "  \n",
    "* **Multiplataforma**: Windows, Mac OS, Linux.\n",
    "\n",
    "* **Propósito general**:\n",
    "  - Cálculo numérico y cálculo simbólico en el mismo lenguaje\n",
    "  - Scripts de sistema operativo\n",
    "  - Interfaces gráficas de usuario (GUIs)\n",
    "  - Servicios web"
   ]
  },
  {
   "cell_type": "markdown",
   "metadata": {
    "colab_type": "text",
    "id": "1sgHIW6f4lus"
   },
   "source": [
    "## Desventajas de Python\n",
    "\n",
    "* Algunas librerias son mantenidas por equipos muy reducidos de voluntarios\n",
    "* Paradoja de la elección: muchas opciones disponibles, documentación y recursos dispersos\n",
    "* Poco material de aprendizaje en español."
   ]
  },
  {
   "cell_type": "markdown",
   "metadata": {
    "colab_type": "text",
    "id": "Dj_bu2iz4lut"
   },
   "source": [
    "## Python en la ciencia y la ingeniería"
   ]
  },
  {
   "cell_type": "markdown",
   "metadata": {
    "colab_type": "text",
    "id": "2yc6fyk_4luu"
   },
   "source": [
    "![Curso Python](https://drive.google.com/uc?id=1eSav-3KJ67LIZXSG5TvbyDz_MBH94iad)"
   ]
  },
  {
   "cell_type": "markdown",
   "metadata": {
    "colab_type": "text",
    "id": "3VvnyF7w4luv"
   },
   "source": [
    "## Entornos de desarrollo"
   ]
  },
  {
   "cell_type": "markdown",
   "metadata": {
    "colab_type": "text",
    "id": "FOzJDuiL4luv"
   },
   "source": [
    "El método más simple es usar un editor (tu preferido) y ejecutar el script desde la línea de comandos. Pero existen también Entornos de Desarrollo integrados, cuyas siglas en inglés son IDEs,  pensados para facilitar la escritura de código y tener al alcance de la mano otras herramientas. Entre los más adecuados para la programación científica se encuentran [Spyder](http://code.google.com/p/spyderlib/) (instalado con Anaconda), [PyCharm](https://www.jetbrains.com/pycharm/) y [Visual Studio Code](https://code.visualstudio.com), entre muchos otros.\n",
    "\n",
    "![Curso Python](https://drive.google.com/uc?id=1tQR73uepka3UxcF_Iccxoee0e3Y7SlzQ)"
   ]
  },
  {
   "cell_type": "markdown",
   "metadata": {
    "colab_type": "text",
    "id": "4jTUmlK84luw"
   },
   "source": [
    "#### Jupyter Notebook"
   ]
  },
  {
   "cell_type": "markdown",
   "metadata": {
    "colab_type": "text",
    "id": "bq580Put4lux"
   },
   "source": [
    "__Será nuestra herramienta de trabajo durante el curso__. Esto que estás leyendo ahora no es más que un jupyter notebook, que como vemos, contiene celdas que además de código, pueden contener texto e imágenes. \n"
   ]
  },
  {
   "cell_type": "code",
   "execution_count": null,
   "metadata": {
    "colab": {},
    "colab_type": "code",
    "id": "G-z6rMTc4luz"
   },
   "outputs": [],
   "source": []
  }
 ],
 "metadata": {
  "colab": {
   "name": "introduccion a python.ipynb",
   "provenance": []
  },
  "kernelspec": {
   "display_name": "Python 3 (ipykernel)",
   "language": "python",
   "name": "python3"
  },
  "language_info": {
   "codemirror_mode": {
    "name": "ipython",
    "version": 3
   },
   "file_extension": ".py",
   "mimetype": "text/x-python",
   "name": "python",
   "nbconvert_exporter": "python",
   "pygments_lexer": "ipython3",
   "version": "3.9.7"
  }
 },
 "nbformat": 4,
 "nbformat_minor": 1
}
