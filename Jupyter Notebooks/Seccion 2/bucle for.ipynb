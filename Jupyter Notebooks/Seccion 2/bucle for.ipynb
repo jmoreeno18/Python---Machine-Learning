{
 "cells": [
  {
   "attachments": {},
   "cell_type": "markdown",
   "metadata": {},
   "source": [
    "<br>\n",
    "<img align=\"center\" src=\"imagenes/logo.png\"  width=\"200\" height=\"141\">\n",
    "<font size=36><center> Machine Learning con Python </center> </font>\n",
    "<br>"
   ]
  },
  {
   "cell_type": "markdown",
   "metadata": {},
   "source": [
    "<h1 align='center'> Modulo II: Introducción a Python </h1>\n",
    "<h2 align='center'>  Elementos de Control </h2>  "
   ]
  },
  {
   "cell_type": "markdown",
   "metadata": {},
   "source": [
    "---"
   ]
  },
  {
   "cell_type": "markdown",
   "metadata": {},
   "source": [
    "El bucle **for** permite realizar un conjunto de iteraciones una cantidad finita de veces. A diferencia del while, el **for** establece de antemano el numero de iteraciones que se harán y no tiene la posibilidad de realizar iteraciones infinitas. \n",
    "\n",
    "El **for** es una de las expresiones más utilizadas para manejar lista de datos ya que simplifica mucho las operaciones que se pueden realizar con estas."
   ]
  },
  {
   "cell_type": "markdown",
   "metadata": {},
   "source": [
    "### Sintáxis del bucle for"
   ]
  },
  {
   "cell_type": "raw",
   "metadata": {},
   "source": [
    " for (variable in conjunto_iterable):\n",
    "     bloque de sentencias"
   ]
  },
  {
   "cell_type": "markdown",
   "metadata": {},
   "source": [
    "La variable en el bucle **for** hará un recorrido por cada uno de los elementos del conjunto iterable. Cuando recorra todos los elementos el ciclo **for** termina"
   ]
  },
  {
   "cell_type": "markdown",
   "metadata": {},
   "source": [
    "#### Ejemplo"
   ]
  },
  {
   "cell_type": "markdown",
   "metadata": {},
   "source": [
    "Vamos a utilizar el bucle while para recorrer e imprimir todos los elementos de una lista y luego repetimos el proceso usando un bucle for para que se aprecie la ventajas en el manejo de listas que tiene el bucle for"
   ]
  },
  {
   "cell_type": "code",
   "execution_count": 1,
   "metadata": {},
   "outputs": [
    {
     "name": "stdout",
     "output_type": "stream",
     "text": [
      "0\n",
      "1\n",
      "2\n",
      "3\n",
      "4\n",
      "5\n",
      "6\n",
      "7\n",
      "8\n",
      "9\n"
     ]
    }
   ],
   "source": [
    "# Usando un bucle while\n",
    "\n",
    "lista=[0,1,2,3,4,5,6,7,8,9]\n",
    "i=0\n",
    "while(i<len(lista)):\n",
    "    print(lista[i])\n",
    "    i+=1"
   ]
  },
  {
   "cell_type": "code",
   "execution_count": 2,
   "metadata": {},
   "outputs": [
    {
     "name": "stdout",
     "output_type": "stream",
     "text": [
      "0\n",
      "1\n",
      "2\n",
      "3\n",
      "4\n",
      "5\n",
      "6\n",
      "7\n",
      "8\n",
      "9\n"
     ]
    }
   ],
   "source": [
    "# usando un bucle for\n",
    "\n",
    "for elemento in lista:\n",
    "    print(elemento)"
   ]
  },
  {
   "cell_type": "markdown",
   "metadata": {},
   "source": [
    "Como se puede apreciar se pudo realizar la misma operación pero con menos lineas de código."
   ]
  },
  {
   "cell_type": "markdown",
   "metadata": {},
   "source": [
    "### Crear listas\n",
    "\n",
    "Podemos usar una forma abreviada del bucle for para definir los elementos de una lista. Por ejemplo, valor a crear una lista formada por los cuadrados de los números del 1 al 10"
   ]
  },
  {
   "cell_type": "code",
   "execution_count": 3,
   "metadata": {},
   "outputs": [
    {
     "data": {
      "text/plain": [
       "[0, 1, 4, 9, 16, 25, 36, 49, 64, 81, 100]"
      ]
     },
     "execution_count": 3,
     "metadata": {},
     "output_type": "execute_result"
    }
   ],
   "source": [
    "# forma \"larga\"\n",
    "numeros=[]  # lista vacía\n",
    "\n",
    "for i in range(11):  # range genera una lista de valores enteros que van del 1 al 10\n",
    "    numeros.append(i**2) # agregamos en cada iteración un elemento a la lista formado por el cuadrado del índice i\n",
    "\n",
    "numeros"
   ]
  },
  {
   "cell_type": "code",
   "execution_count": 4,
   "metadata": {},
   "outputs": [
    {
     "data": {
      "text/plain": [
       "[0, 1, 4, 9, 16, 25, 36, 49, 64, 81, 100]"
      ]
     },
     "execution_count": 4,
     "metadata": {},
     "output_type": "execute_result"
    }
   ],
   "source": [
    "# forma abreviada\n",
    "\n",
    "numeros=[i**2 for i in range(11)]  # se resume en una linea lo realizado anteriormente\n",
    "\n",
    "numeros"
   ]
  },
  {
   "cell_type": "markdown",
   "metadata": {},
   "source": [
    "Con el ciclo **for** también podemos hacer uso de las funciones break y continue para interrumpir la ejecución o para saltar iteraciones respectivamente."
   ]
  },
  {
   "cell_type": "markdown",
   "metadata": {},
   "source": [
    "Veamos un ejemplo de uso del comando break"
   ]
  },
  {
   "cell_type": "code",
   "execution_count": 7,
   "metadata": {},
   "outputs": [
    {
     "name": "stdout",
     "output_type": "stream",
     "text": [
      "La lista tiene un valor nulo\n"
     ]
    }
   ],
   "source": [
    "# Imprimir mientras el valor no sea igual a cero\n",
    "lista=[0,3,6,9,3,15,-1,8,9,2,5,4,1,1]\n",
    "\n",
    "for elemento in lista:\n",
    "    if elemento==0:\n",
    "        print(\"La lista tiene un valor nulo\")\n",
    "        break\n",
    "    else:\n",
    "        print(elemento)\n",
    "else:\n",
    "    print(\"La lista no tiene algún valor nulo\")\n",
    "   "
   ]
  }
 ],
 "metadata": {
  "kernelspec": {
   "display_name": "Python 3 (ipykernel)",
   "language": "python",
   "name": "python3"
  },
  "language_info": {
   "codemirror_mode": {
    "name": "ipython",
    "version": 3
   },
   "file_extension": ".py",
   "mimetype": "text/x-python",
   "name": "python",
   "nbconvert_exporter": "python",
   "pygments_lexer": "ipython3",
   "version": "3.9.7"
  }
 },
 "nbformat": 4,
 "nbformat_minor": 2
}
