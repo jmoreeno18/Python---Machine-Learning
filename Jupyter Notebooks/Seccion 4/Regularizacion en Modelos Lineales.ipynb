{
 "cells": [
  {
   "cell_type": "markdown",
   "id": "ordinary-taxation",
   "metadata": {},
   "source": [
    "<br>\n",
    "<img align=\"center\" src=\"imagenes/logo.png\"  width=\"200\" height=\"141\">\n",
    "<font size=36><center> Machine Learning con Python </center> </font>\n",
    "<br>"
   ]
  },
  {
   "cell_type": "markdown",
   "id": "macro-density",
   "metadata": {},
   "source": [
    "<h1 align='center'> Modulo IV: Machine Learning </h1>\n",
    "<h2 align='center'>  Regularización en Modelos Lineeales  </h2> "
   ]
  },
  {
   "cell_type": "markdown",
   "id": "saved-horror",
   "metadata": {},
   "source": [
    "---"
   ]
  },
  {
   "cell_type": "markdown",
   "id": "robust-flight",
   "metadata": {},
   "source": [
    "# Aspectos Teóricos"
   ]
  },
  {
   "cell_type": "markdown",
   "id": "fourth-drive",
   "metadata": {},
   "source": [
    "## Introducción\n",
    "\n",
    "Uno de los aspectos más importante que debemos tener en cuenta a la hora de desarrollar modelos de machine learning, es la complejidad del modelo. Por un lado, podemos crear un modelo de muy poca complejidad que termine siendo un modelo muy general y sobregeneraliza, en este caso se dice que hay **underfitting**. Por otro lado, podemos crear un modelo que resulta extremadamente complejo y que se sobreajusta a los datos, aprendiendo los errores que hay en los mismos. En este caso estaríamos cometiendo **overfitting**, lo cual es malo en cualquier modelo. Estos último modelos se caracterizar por tener una tasa muy alta de precisión en la fase de entrenamiento y un pobre desempeño en la fase de validación."
   ]
  },
  {
   "attachments": {
    "overfitting.png": {
     "image/png": "[encoded data removed]"
    }
   },
   "cell_type": "markdown",
   "id": "still-disease",
   "metadata": {},
   "source": [
    "![overfitting.png](attachment:overfitting.png)"
   ]
  },
  {
   "cell_type": "markdown",
   "id": "tamil-gothic",
   "metadata": {},
   "source": [
    "## Medidas de Complejidad"
   ]
  },
  {
   "cell_type": "markdown",
   "id": "employed-average",
   "metadata": {},
   "source": [
    "En los modelos lineales, la complejidad  se determina usando las norma $L_1$ y $L_2$. cada una viene dada por la siguiente expresión:\n",
    "\n",
    "* $\\mbox{Norma }L_1 = \\displaystyle\\sum_{i=1}^{n} |\\beta_{i}|$\n",
    "* $\\mbox{Norma }L_2 = \\displaystyle\\sum_{i=1}^{n} \\beta_{i}^2$\n",
    "\n",
    "donde $\\beta_{i}$ se corresponde con los coeficientes del modelo que se quiere ajustar."
   ]
  },
  {
   "cell_type": "markdown",
   "id": "independent-beaver",
   "metadata": {},
   "source": [
    "## Regularización\n",
    "\n",
    "La regularización permite controlar la complejidad de los modelos. Para ello, a la hora de determinar los parámetros óptimos que minimizan los residuos del modelo, ahora se agrega una variable que controla la complejidad."
   ]
  },
  {
   "cell_type": "markdown",
   "id": "subtle-windows",
   "metadata": {},
   "source": [
    "### Regularizaciones más comunes"
   ]
  },
  {
   "cell_type": "markdown",
   "id": "silver-childhood",
   "metadata": {},
   "source": [
    "* **Regularización de lasso:** La regularización de lasso, usa la norma $L_1$ y el parámetro $\\lambda$ para controlar la complejidad del modelo, viene dada por la siguiente expresión:\n",
    "$$\\min_{\\hat\\alpha, \\hat\\beta} \\sum_{i=1}^{n}(y_{i}-(\\hat\\alpha+\\hat\\beta x_i))^2 +\\lambda \\sum_{i=1}^{n}|\\beta_i|, \\mbox{ con }0\\le\\lambda\\le 1$$\n",
    "\n",
    "* **Regularización de ridge:** La regularización de ridge, usa la norma $L_2$ y el parámetro $\\lambda$ para controlar la complejidad del modelo, viene dada por la siguiente expresión:\n",
    "$$\\min_{\\hat\\alpha, \\hat\\beta} \\sum_{i=1}^{n}(y_{i}-(\\hat\\alpha+\\hat\\beta x_i))^2 +\\lambda \\sum_{i=1}^{n}\\beta_i^2, \\mbox{ con }0\\le\\lambda\\le 1 $$\n",
    "\n",
    "* **Regularización de ElasticNet:** La regularización de ElasticNet, usa tanto la norma $L_1$ como la norma $L_2$, es una combinación de la regularización de lasso y la regularización de ridge. En este caso usa dos parámetros $\\lambda_1$ y $\\lambda_1$ para controlar la complejidad del modelo, viene dada por la siguiente expresión:\n",
    "$$\\min_{\\hat\\alpha, \\hat\\beta} \\sum_{i=1}^{n}(y_{i}-(\\hat\\alpha+\\hat\\beta x_i))^2 +\\lambda_1 \\sum_{i=1}^{n}|\\beta_i|+ \\lambda_2 \\sum_{i=1}^{n}\\beta_i^2, \\mbox{ con }0\\le\\lambda_1,\\lambda_2 \\le 1$$"
   ]
  },
  {
   "cell_type": "markdown",
   "id": "legislative-interim",
   "metadata": {},
   "source": [
    "# Práctica"
   ]
  },
  {
   "cell_type": "markdown",
   "id": "ordinary-butter",
   "metadata": {},
   "source": [
    "### Importamos libreria"
   ]
  },
  {
   "cell_type": "code",
   "execution_count": 1,
   "id": "executed-matthew",
   "metadata": {},
   "outputs": [],
   "source": [
    "import numpy as np\n",
    "from numpy.linalg import norm\n",
    "import pandas as pd\n",
    "from sklearn import metrics\n",
    "from sklearn.model_selection import cross_validate\n",
    "from sklearn.preprocessing import PolynomialFeatures\n",
    "from sklearn.linear_model import (LinearRegression, Lasso, Ridge, ElasticNet)"
   ]
  },
  {
   "cell_type": "markdown",
   "id": "turkish-demographic",
   "metadata": {},
   "source": [
    "### Importamos dataset"
   ]
  },
  {
   "cell_type": "code",
   "execution_count": 2,
   "id": "weird-inventory",
   "metadata": {},
   "outputs": [],
   "source": [
    "dataset = pd.read_csv('datos/vehiculos.csv')"
   ]
  },
  {
   "cell_type": "code",
   "execution_count": 3,
   "id": "returning-shower",
   "metadata": {},
   "outputs": [],
   "source": [
    "X = dataset[[\"desplazamiento\",\"cilindros\",\"consumo\"]]\n",
    "y = dataset[\"co2\"]"
   ]
  },
  {
   "cell_type": "markdown",
   "id": "phantom-salon",
   "metadata": {},
   "source": [
    "### Creamos variables polinomiales para luego ajustar modelos"
   ]
  },
  {
   "cell_type": "code",
   "execution_count": 4,
   "id": "upper-arizona",
   "metadata": {},
   "outputs": [],
   "source": [
    "newX = PolynomialFeatures(3).fit_transform(X)"
   ]
  },
  {
   "cell_type": "markdown",
   "id": "satisfactory-egypt",
   "metadata": {},
   "source": [
    "### Ajuste de modelos con variables polinómicas"
   ]
  },
  {
   "cell_type": "code",
   "execution_count": 5,
   "id": "fifty-franklin",
   "metadata": {},
   "outputs": [
    {
     "data": {
      "text/plain": [
       "LinearRegression()"
      ]
     },
     "execution_count": 5,
     "metadata": {},
     "output_type": "execute_result"
    }
   ],
   "source": [
    "modelo_lineal = LinearRegression()\n",
    "modelo_lineal.fit(newX,y)"
   ]
  },
  {
   "cell_type": "markdown",
   "id": "continent-dispute",
   "metadata": {},
   "source": [
    "### Ajuste de modelo Lasso"
   ]
  },
  {
   "cell_type": "code",
   "execution_count": 6,
   "id": "digital-object",
   "metadata": {},
   "outputs": [
    {
     "data": {
      "text/plain": [
       "Lasso(max_iter=3000, tol=0.01)"
      ]
     },
     "execution_count": 6,
     "metadata": {},
     "output_type": "execute_result"
    }
   ],
   "source": [
    "modelo_lasso = Lasso(tol=0.01,max_iter=3000)\n",
    "modelo_lasso.fit(newX,y)"
   ]
  },
  {
   "cell_type": "markdown",
   "id": "convinced-dealing",
   "metadata": {},
   "source": [
    "### Ajuste de modelo Ridge"
   ]
  },
  {
   "cell_type": "code",
   "execution_count": 7,
   "id": "coupled-hanging",
   "metadata": {},
   "outputs": [
    {
     "data": {
      "text/plain": [
       "Ridge(max_iter=3000, tol=0.01)"
      ]
     },
     "execution_count": 7,
     "metadata": {},
     "output_type": "execute_result"
    }
   ],
   "source": [
    "modelo_ridge = Ridge(tol=0.01,max_iter=3000)\n",
    "modelo_ridge.fit(newX,y)"
   ]
  },
  {
   "cell_type": "markdown",
   "id": "terminal-daily",
   "metadata": {},
   "source": [
    "### Ajuste de modelo ElasticNet"
   ]
  },
  {
   "cell_type": "code",
   "execution_count": 8,
   "id": "moral-dominant",
   "metadata": {},
   "outputs": [
    {
     "data": {
      "text/plain": [
       "ElasticNet(max_iter=3000, tol=0.01)"
      ]
     },
     "execution_count": 8,
     "metadata": {},
     "output_type": "execute_result"
    }
   ],
   "source": [
    "modelo_elastic = ElasticNet(tol=0.01,max_iter=3000)\n",
    "modelo_elastic.fit(newX,y)"
   ]
  },
  {
   "cell_type": "markdown",
   "id": "homeless-bulletin",
   "metadata": {},
   "source": [
    "### Tabla comparativa"
   ]
  },
  {
   "cell_type": "code",
   "execution_count": 9,
   "id": "english-narrative",
   "metadata": {},
   "outputs": [],
   "source": [
    "diccionario ={'norma_l1': [norm(modelo_lineal.coef_,1) , norm(modelo_lasso.coef_,1), norm(modelo_ridge.coef_,1), norm(modelo_elastic.coef_,1)] , 'norma_l2': [norm(modelo_lineal.coef_,2) , norm(modelo_lasso.coef_,2), norm(modelo_ridge.coef_,2), norm(modelo_elastic.coef_,2)]}"
   ]
  },
  {
   "cell_type": "code",
   "execution_count": 10,
   "id": "realistic-pendant",
   "metadata": {},
   "outputs": [],
   "source": [
    "Resultados = pd.DataFrame(data=diccionario, index=['Lineal', 'Lasso', 'Ridge', 'Elastic'])"
   ]
  },
  {
   "cell_type": "code",
   "execution_count": 11,
   "id": "confirmed-horizon",
   "metadata": {},
   "outputs": [
    {
     "data": {
      "text/html": [
       "<div>\n",
       "<style scoped>\n",
       "    .dataframe tbody tr th:only-of-type {\n",
       "        vertical-align: middle;\n",
       "    }\n",
       "\n",
       "    .dataframe tbody tr th {\n",
       "        vertical-align: top;\n",
       "    }\n",
       "\n",
       "    .dataframe thead th {\n",
       "        text-align: right;\n",
       "    }\n",
       "</style>\n",
       "<table border=\"1\" class=\"dataframe\">\n",
       "  <thead>\n",
       "    <tr style=\"text-align: right;\">\n",
       "      <th></th>\n",
       "      <th>norma_l1</th>\n",
       "      <th>norma_l2</th>\n",
       "    </tr>\n",
       "  </thead>\n",
       "  <tbody>\n",
       "    <tr>\n",
       "      <th>Lineal</th>\n",
       "      <td>491.197793</td>\n",
       "      <td>231.251344</td>\n",
       "    </tr>\n",
       "    <tr>\n",
       "      <th>Lasso</th>\n",
       "      <td>53.035281</td>\n",
       "      <td>43.608527</td>\n",
       "    </tr>\n",
       "    <tr>\n",
       "      <th>Ridge</th>\n",
       "      <td>306.553983</td>\n",
       "      <td>142.292421</td>\n",
       "    </tr>\n",
       "    <tr>\n",
       "      <th>Elastic</th>\n",
       "      <td>20.888645</td>\n",
       "      <td>9.541164</td>\n",
       "    </tr>\n",
       "  </tbody>\n",
       "</table>\n",
       "</div>"
      ],
      "text/plain": [
       "           norma_l1    norma_l2\n",
       "Lineal   491.197793  231.251344\n",
       "Lasso     53.035281   43.608527\n",
       "Ridge    306.553983  142.292421\n",
       "Elastic   20.888645    9.541164"
      ]
     },
     "execution_count": 11,
     "metadata": {},
     "output_type": "execute_result"
    }
   ],
   "source": [
    "Resultados.head()"
   ]
  },
  {
   "cell_type": "markdown",
   "id": "reported-trade",
   "metadata": {},
   "source": [
    "### Porcentaje de reducción de complejidad"
   ]
  },
  {
   "cell_type": "code",
   "execution_count": 12,
   "id": "related-compression",
   "metadata": {},
   "outputs": [],
   "source": [
    "rd_l1 = Resultados.loc['Lineal']['norma_l1']\n",
    "rd_l2 = Resultados.loc['Lineal']['norma_l2']\n",
    "\n",
    "Resultados['reduccion_l1'] = 1-Resultados.norma_l1/rd_l1\n",
    "Resultados['reduccion_l2'] = 1-Resultados.norma_l2/rd_l2"
   ]
  },
  {
   "cell_type": "code",
   "execution_count": 13,
   "id": "american-preparation",
   "metadata": {},
   "outputs": [
    {
     "data": {
      "text/html": [
       "<div>\n",
       "<style scoped>\n",
       "    .dataframe tbody tr th:only-of-type {\n",
       "        vertical-align: middle;\n",
       "    }\n",
       "\n",
       "    .dataframe tbody tr th {\n",
       "        vertical-align: top;\n",
       "    }\n",
       "\n",
       "    .dataframe thead th {\n",
       "        text-align: right;\n",
       "    }\n",
       "</style>\n",
       "<table border=\"1\" class=\"dataframe\">\n",
       "  <thead>\n",
       "    <tr style=\"text-align: right;\">\n",
       "      <th></th>\n",
       "      <th>norma_l1</th>\n",
       "      <th>norma_l2</th>\n",
       "      <th>reduccion_l1</th>\n",
       "      <th>reduccion_l2</th>\n",
       "    </tr>\n",
       "  </thead>\n",
       "  <tbody>\n",
       "    <tr>\n",
       "      <th>Lineal</th>\n",
       "      <td>491.197793</td>\n",
       "      <td>231.251344</td>\n",
       "      <td>0.000000</td>\n",
       "      <td>0.000000</td>\n",
       "    </tr>\n",
       "    <tr>\n",
       "      <th>Lasso</th>\n",
       "      <td>53.035281</td>\n",
       "      <td>43.608527</td>\n",
       "      <td>0.892029</td>\n",
       "      <td>0.811424</td>\n",
       "    </tr>\n",
       "    <tr>\n",
       "      <th>Ridge</th>\n",
       "      <td>306.553983</td>\n",
       "      <td>142.292421</td>\n",
       "      <td>0.375905</td>\n",
       "      <td>0.384685</td>\n",
       "    </tr>\n",
       "    <tr>\n",
       "      <th>Elastic</th>\n",
       "      <td>20.888645</td>\n",
       "      <td>9.541164</td>\n",
       "      <td>0.957474</td>\n",
       "      <td>0.958741</td>\n",
       "    </tr>\n",
       "  </tbody>\n",
       "</table>\n",
       "</div>"
      ],
      "text/plain": [
       "           norma_l1    norma_l2  reduccion_l1  reduccion_l2\n",
       "Lineal   491.197793  231.251344      0.000000      0.000000\n",
       "Lasso     53.035281   43.608527      0.892029      0.811424\n",
       "Ridge    306.553983  142.292421      0.375905      0.384685\n",
       "Elastic   20.888645    9.541164      0.957474      0.958741"
      ]
     },
     "execution_count": 13,
     "metadata": {},
     "output_type": "execute_result"
    }
   ],
   "source": [
    "Resultados.head()"
   ]
  },
  {
   "cell_type": "markdown",
   "id": "affected-seafood",
   "metadata": {},
   "source": [
    "### Visualización de los coeficientes de cada modelo"
   ]
  },
  {
   "cell_type": "code",
   "execution_count": 14,
   "id": "supreme-google",
   "metadata": {},
   "outputs": [
    {
     "data": {
      "text/plain": [
       "array([ 0.00000000e+00, -1.69729290e+02,  7.78958470e+01, -1.23075873e+02,\n",
       "       -1.98800368e+01,  5.06628299e+01,  7.14039435e+00, -1.87596231e+01,\n",
       "       -4.59189895e+00,  3.71062157e+00,  3.18791426e+00, -5.56363819e+00,\n",
       "        1.51041629e+00,  2.07296373e+00, -2.38106927e+00, -4.05155270e-02,\n",
       "       -9.14478039e-02,  7.97874367e-01,  6.27777720e-02, -4.27609774e-02])"
      ]
     },
     "execution_count": 14,
     "metadata": {},
     "output_type": "execute_result"
    }
   ],
   "source": [
    "modelo_lineal.coef_"
   ]
  },
  {
   "cell_type": "code",
   "execution_count": 15,
   "id": "august-agenda",
   "metadata": {},
   "outputs": [
    {
     "data": {
      "text/plain": [
       "array([ 0.00000000e+00,  0.00000000e+00,  0.00000000e+00, -4.32931112e+01,\n",
       "        4.15019272e+00,  4.88273123e-01, -2.95706310e+00,  9.52323687e-01,\n",
       "       -4.59748116e-01,  2.29639858e-01, -8.72292028e-02, -2.44227267e-02,\n",
       "        5.42742516e-02, -6.80167971e-02, -4.22377945e-02,  8.83746485e-02,\n",
       "        3.33170931e-02, -7.04598512e-02,  3.09045473e-02,  5.69265699e-03])"
      ]
     },
     "execution_count": 15,
     "metadata": {},
     "output_type": "execute_result"
    }
   ],
   "source": [
    "modelo_lasso.coef_"
   ]
  },
  {
   "cell_type": "code",
   "execution_count": 16,
   "id": "demanding-deposit",
   "metadata": {},
   "outputs": [
    {
     "data": {
      "text/plain": [
       "array([ 0.00000000e+00, -6.64030781e+01,  3.54284124e+01, -1.11380227e+02,\n",
       "       -2.16840991e+01,  3.86824887e+01,  9.99306185e-01, -1.22632242e+01,\n",
       "       -2.18458177e+00,  3.30264172e+00,  2.97835130e+00, -4.91986615e+00,\n",
       "        1.48972007e+00,  2.00842529e+00, -1.93060949e+00,  4.68286751e-02,\n",
       "       -2.05650697e-01,  5.77819119e-01,  3.06742304e-02, -3.79789277e-02])"
      ]
     },
     "execution_count": 16,
     "metadata": {},
     "output_type": "execute_result"
    }
   ],
   "source": [
    "modelo_ridge.coef_"
   ]
  },
  {
   "cell_type": "code",
   "execution_count": 17,
   "id": "comic-empty",
   "metadata": {},
   "outputs": [
    {
     "data": {
      "text/plain": [
       "array([ 0.        , -0.        ,  0.        , -0.19245445,  0.5268661 ,\n",
       "        5.56933614,  0.        ,  6.02105087, -4.44698113, -1.21838989,\n",
       "        1.10422026, -0.8376852 , -0.06280685, -0.44574737, -0.19719822,\n",
       "        0.01997073, -0.01383465, -0.07167723,  0.14094182,  0.01948427])"
      ]
     },
     "execution_count": 17,
     "metadata": {},
     "output_type": "execute_result"
    }
   ],
   "source": [
    "modelo_elastic.coef_"
   ]
  }
 ],
 "metadata": {
  "kernelspec": {
   "display_name": "Python 3",
   "language": "python",
   "name": "python3"
  },
  "language_info": {
   "codemirror_mode": {
    "name": "ipython",
    "version": 3
   },
   "file_extension": ".py",
   "mimetype": "text/x-python",
   "name": "python",
   "nbconvert_exporter": "python",
   "pygments_lexer": "ipython3",
   "version": "3.8.5"
  }
 },
 "nbformat": 4,
 "nbformat_minor": 5
}
