{
 "cells": [
  {
   "cell_type": "markdown",
   "id": "difficult-andrew",
   "metadata": {},
   "source": [
    "<br>\n",
    "<img align=\"center\" src=\"imagenes/logo.png\"  width=\"200\" height=\"141\">\n",
    "<font size=36><center> Machine Learning con Python </center> </font>\n",
    "<br>"
   ]
  },
  {
   "cell_type": "markdown",
   "id": "religious-present",
   "metadata": {},
   "source": [
    "<h1 align='center'> Modulo IV: Machine Learning </h1>\n",
    "<h2 align='center'>  Evaluación de Modelos de Regresión </h2> "
   ]
  },
  {
   "cell_type": "markdown",
   "id": "soviet-humidity",
   "metadata": {},
   "source": [
    "---"
   ]
  },
  {
   "cell_type": "markdown",
   "id": "turned-updating",
   "metadata": {},
   "source": [
    "# Introducción\n",
    "\n",
    "Siempre que se desarrolle un modelo, debemos tener algún tipo de medida que nos permita saber qué tan bueno es el modelo, de tal manera que podamos comparar con otros modelos, hacer mejoras, etc.\n",
    "\n",
    "En esta sección veremos distintas medidas que son usadas frecuentemente en el caso de modelos de regresión."
   ]
  },
  {
   "cell_type": "markdown",
   "id": "connected-future",
   "metadata": {},
   "source": [
    "# Métricas"
   ]
  },
  {
   "cell_type": "markdown",
   "id": "republican-inclusion",
   "metadata": {},
   "source": [
    "## Error Absoluto Medio\n",
    "\n",
    "El **Error Absoluto Medio**, comunmente conocido como **MAE** por sus siglas en inglés (Mean Absolute Error). Está definido matemáticamente de la siguiente manera:\n",
    "\n",
    "$$ \\mbox{MAE} = \\frac{1}{n}\\sum_{i=1}^{n} |y_{i}-\\hat{y_i}|$$\n",
    "\n",
    "Es una métrica que tiene muchas ventajas, ya que por un lado, está en las misma unidades que la variable objetivo y por otro lado se poco sensible a los valores extremos, lo que la hace robusta."
   ]
  },
  {
   "cell_type": "markdown",
   "id": "overhead-neighborhood",
   "metadata": {},
   "source": [
    "## Error Cuadrático Medio\n",
    "\n",
    "Esta métrica es similar a la anterior, solamente que ahora se toma el cuadrado de las diferencias. Se conoce por sus sigles en inglés como MSE (Mean Squared Error)\n",
    "\n",
    "$$ \\mbox{MSE} = \\frac{1}{n}\\sum_{i=1}^{n} (y_{i}-\\hat{y_i})^{2}$$\n",
    "\n",
    "tiene un problema relacionado con la interpretación de los resultados ya que el valor ese el cuadrado de las unidad de la variable objetivo. Por ejemplo si esta variable representa dolares, entonces estariamos hablando de dolares al cuadrado, lo cual no tiene mucho sentido a la hora de darle una interpretación"
   ]
  },
  {
   "cell_type": "markdown",
   "id": "analyzed-hospital",
   "metadata": {},
   "source": [
    "## Raíz del Error Cuadrático Medio\n",
    "\n",
    "Esta medida resuelve el problema que se comentó con respecto a la metrica anterior. Viene dada por la raíz cuadrada del error cuadrático medio. Sus siglas en inglés son RMSE (Root  Mean Squared Error)\n",
    "\n",
    "$$ \\mbox{RMSE} = \\sqrt{\\frac{1}{n}\\sum_{i=1}^{n} (y_{i}-\\hat{y_i})^2}$$\n",
    "\n",
    "Uno de los problemas que tiene es que es sensible a los errores grandes."
   ]
  },
  {
   "cell_type": "markdown",
   "id": "apart-moldova",
   "metadata": {},
   "source": [
    "## Coeficiente de Determinación $R^{2}$\n",
    "\n",
    "Viene dada por la siguiente expresión matemática\n",
    "\n",
    "$$r = \\frac{n\\displaystyle\\sum_{i=1}^{n}x_{i}y_{i} - \\Bigg(\\sum_{i=1}^{n}x_{i}\\Bigg)\\Bigg(\\sum_{i=1}^{n}y_{i}\\Bigg)}{\\sqrt{n\\displaystyle\\sum_{i=1}^{n}x_{i}^2-\\Big(\\sum_{i=1}^{n}x_{i}\\Big)^2}\\sqrt{n\\displaystyle\\sum_{i=1}^{n}y_{i}^2-\\Big(\\sum_{i=1}^{n}y_{i}\\Big)^2}}$$\n",
    "\n",
    "Este coeficiente mide que porcentaje de la varianza de la variable objetivo que se puede explicar por el modelo. Su valor máximo es 1 (cuando el modelo explica toda la varianza), también puede tomar valores negativos en aquellos modelos que funcionen relativamente mal.\n",
    "\n",
    "Tiene algunas desventaja y es que no considera la complejidad del modelo ni permite saber si existe sobre ajuste."
   ]
  },
  {
   "cell_type": "markdown",
   "id": "single-lunch",
   "metadata": {},
   "source": [
    "## Coeficiente de determinación ajustado ##\n",
    "\n",
    "El coeficiente de determinación ajustado (Adjusted R-squared) tiene la ventaja respecto a la métrica anterior de que si considera la complejidad del modelo.\n",
    "\n",
    "$$1- \\frac{(1-R^{2})(n-1)}{(n-k-1)}$$\n",
    "\n",
    "donde $n$ es el número de observaciones y $k$ es el número de coeficientes del modelo sin considerar el término independiente."
   ]
  },
  {
   "cell_type": "markdown",
   "id": "eight-charter",
   "metadata": {},
   "source": [
    "# Práctica"
   ]
  },
  {
   "cell_type": "code",
   "execution_count": 57,
   "id": "inner-composite",
   "metadata": {},
   "outputs": [],
   "source": [
    "from sklearn.datasets import make_regression\n",
    "from sklearn.linear_model import LinearRegression\n",
    "from sklearn import metrics\n",
    "from matplotlib import pyplot as plt\n",
    "import numpy as np"
   ]
  },
  {
   "cell_type": "markdown",
   "id": "agreed-argentina",
   "metadata": {},
   "source": [
    "### Creamos un dataset sintético de prueba"
   ]
  },
  {
   "cell_type": "code",
   "execution_count": 76,
   "id": "protecting-punishment",
   "metadata": {},
   "outputs": [],
   "source": [
    "X, y = make_regression(n_samples=500, n_features = 1, noise = 30)"
   ]
  },
  {
   "cell_type": "code",
   "execution_count": 91,
   "id": "ahead-convertible",
   "metadata": {},
   "outputs": [
    {
     "data": {
      "image/png": "[encoded data removed]",
      "text/plain": [
       "<Figure size 432x288 with 1 Axes>"
      ]
     },
     "metadata": {
      "needs_background": "light"
     },
     "output_type": "display_data"
    }
   ],
   "source": [
    "plt.scatter(X,y)\n",
    "plt.title('Dataset')\n",
    "plt.xlabel('X')\n",
    "plt.ylabel('y')\n",
    "plt.show()"
   ]
  },
  {
   "cell_type": "markdown",
   "id": "virgin-huntington",
   "metadata": {},
   "source": [
    "### Creamos un modelo de regresión lineal"
   ]
  },
  {
   "cell_type": "code",
   "execution_count": 78,
   "id": "verified-directive",
   "metadata": {},
   "outputs": [],
   "source": [
    "model = LinearRegression()"
   ]
  },
  {
   "cell_type": "code",
   "execution_count": 79,
   "id": "revised-house",
   "metadata": {},
   "outputs": [
    {
     "data": {
      "text/plain": [
       "LinearRegression()"
      ]
     },
     "execution_count": 79,
     "metadata": {},
     "output_type": "execute_result"
    }
   ],
   "source": [
    "model.fit(X,y)"
   ]
  },
  {
   "cell_type": "markdown",
   "id": "quarterly-tunisia",
   "metadata": {},
   "source": [
    "### Determinamos la predicción del modelo"
   ]
  },
  {
   "cell_type": "code",
   "execution_count": 80,
   "id": "undefined-distribution",
   "metadata": {},
   "outputs": [],
   "source": [
    "y_predicha = model.predict(X)"
   ]
  },
  {
   "cell_type": "markdown",
   "id": "motivated-niagara",
   "metadata": {},
   "source": [
    "#### Representación gráfica del modelo"
   ]
  },
  {
   "cell_type": "code",
   "execution_count": 81,
   "id": "after-jewel",
   "metadata": {},
   "outputs": [],
   "source": [
    "u = np.linspace(-3,3)"
   ]
  },
  {
   "cell_type": "code",
   "execution_count": 82,
   "id": "desirable-division",
   "metadata": {},
   "outputs": [],
   "source": [
    "v = model.predict(u[:, np.newaxis])"
   ]
  },
  {
   "cell_type": "code",
   "execution_count": 93,
   "id": "effective-punishment",
   "metadata": {},
   "outputs": [
    {
     "data": {
      "image/png": "[encoded data removed]",
      "text/plain": [
       "<Figure size 432x288 with 1 Axes>"
      ]
     },
     "metadata": {
      "needs_background": "light"
     },
     "output_type": "display_data"
    }
   ],
   "source": [
    "plt.plot(u,v,'r',label='modelo')\n",
    "plt.scatter(X,y,label='dataset')\n",
    "plt.title('Modelo de regresión lineal')\n",
    "plt.xlabel('X')\n",
    "plt.ylabel('y')\n",
    "plt.legend()\n",
    "plt.grid()\n",
    "plt.show()"
   ]
  },
  {
   "cell_type": "markdown",
   "id": "polyphonic-script",
   "metadata": {},
   "source": [
    "## Errores"
   ]
  },
  {
   "cell_type": "markdown",
   "id": "african-frame",
   "metadata": {},
   "source": [
    "### Error Absoluto Medio"
   ]
  },
  {
   "cell_type": "code",
   "execution_count": 75,
   "id": "sustainable-ghana",
   "metadata": {},
   "outputs": [
    {
     "data": {
      "text/plain": [
       "16.859113729975572"
      ]
     },
     "execution_count": 75,
     "metadata": {},
     "output_type": "execute_result"
    }
   ],
   "source": [
    "metrics.mean_absolute_error(y,y_predicha)"
   ]
  },
  {
   "cell_type": "markdown",
   "id": "generous-cinema",
   "metadata": {},
   "source": [
    "### Error cuadrático medio"
   ]
  },
  {
   "cell_type": "code",
   "execution_count": 84,
   "id": "operational-article",
   "metadata": {},
   "outputs": [
    {
     "data": {
      "text/plain": [
       "874.3762467257296"
      ]
     },
     "execution_count": 84,
     "metadata": {},
     "output_type": "execute_result"
    }
   ],
   "source": [
    "metrics.mean_squared_error(y,y_predicha)"
   ]
  },
  {
   "cell_type": "markdown",
   "id": "prescription-telling",
   "metadata": {},
   "source": [
    "### Raíz del error cuadrático medio"
   ]
  },
  {
   "cell_type": "code",
   "execution_count": 88,
   "id": "international-mexico",
   "metadata": {},
   "outputs": [
    {
     "data": {
      "text/plain": [
       "29.56985368116876"
      ]
     },
     "execution_count": 88,
     "metadata": {},
     "output_type": "execute_result"
    }
   ],
   "source": [
    "np.sqrt(metrics.mean_squared_error(y,y_predicha))"
   ]
  },
  {
   "cell_type": "markdown",
   "id": "ignored-moderator",
   "metadata": {},
   "source": [
    "### Coeficiente $R^2$"
   ]
  },
  {
   "cell_type": "code",
   "execution_count": 94,
   "id": "authentic-brain",
   "metadata": {},
   "outputs": [
    {
     "name": "stdout",
     "output_type": "stream",
     "text": [
      "0.9086993045062798\n"
     ]
    }
   ],
   "source": [
    "r2 = metrics.r2_score(y,y_predicha)\n",
    "print(r2)"
   ]
  },
  {
   "cell_type": "markdown",
   "id": "treated-brush",
   "metadata": {},
   "source": [
    "### Coeficiente de determinación ajustado"
   ]
  },
  {
   "cell_type": "code",
   "execution_count": 97,
   "id": "cubic-reduction",
   "metadata": {},
   "outputs": [
    {
     "name": "stdout",
     "output_type": "stream",
     "text": [
      "0.9085159697763727\n"
     ]
    }
   ],
   "source": [
    "r2_ajustado = 1-((1-r2)*(len(y)-1))/(len(y)-X.shape[1]-1)\n",
    "print(r2_ajustado)"
   ]
  }
 ],
 "metadata": {
  "kernelspec": {
   "display_name": "Python 3",
   "language": "python",
   "name": "python3"
  },
  "language_info": {
   "codemirror_mode": {
    "name": "ipython",
    "version": 3
   },
   "file_extension": ".py",
   "mimetype": "text/x-python",
   "name": "python",
   "nbconvert_exporter": "python",
   "pygments_lexer": "ipython3",
   "version": "3.8.5"
  }
 },
 "nbformat": 4,
 "nbformat_minor": 5
}
