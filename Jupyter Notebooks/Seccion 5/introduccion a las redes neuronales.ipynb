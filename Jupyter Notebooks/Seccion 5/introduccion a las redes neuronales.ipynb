{
 "cells": [
  {
   "cell_type": "markdown",
   "metadata": {},
   "source": [
    "<br>\n",
    "<img align=\"center\" src=\"imagenes/logo.png\"  width=\"200\" height=\"141\">\n",
    "<font size=36><center> Machine Learning con Python </center> </font>\n",
    "<br>"
   ]
  },
  {
   "cell_type": "markdown",
   "metadata": {},
   "source": [
    "<h1 align='center'> Modulo V: Deep Learning </h1>\n",
    "<h2 align='center'>  Introducción a las Redes Neuronales </h2> "
   ]
  },
  {
   "cell_type": "markdown",
   "metadata": {},
   "source": [
    "---"
   ]
  },
  {
   "cell_type": "markdown",
   "metadata": {},
   "source": [
    "# Inspiración biológica"
   ]
  },
  {
   "cell_type": "markdown",
   "metadata": {},
   "source": [
    "* El aprendizaje en los sistemas biológicos está basado en redes muy complejas de neuronas interconectadas.\n",
    "* La neurona es una célula que recibe señales electromagnéticas, provenientes del exterior (10%), o de otras neuronas (90%), a través de las sinapsis de las dendritas.\n",
    "* Si la acumulación de estímulos recibidos supera un cierto umbral, la neurona se dispara. Esto es, emite a través del axón una señal que será recibida por otras neuronas, a través de las conexiones sinápticas de las dendritas."
   ]
  },
  {
   "cell_type": "markdown",
   "metadata": {},
   "source": [
    "# Funcionamiento y Estructura de una neurona\n",
    "<img src=\"imagenes/neurona.jpg\" hspace=\"0\" vspace=\"0\" style=\"float: right; width: 350px; height:350px;\"/>\n",
    "\n",
    "*  Los estímulos recibidos en el cerebro son transmitidos entre las neuronas mediante las conexiones sinápticas. \n",
    "\n",
    "*  Cuando una neurona es estimulada libera una pequeña cantidad de un componente químico (neurotransmisor).\n",
    "\n",
    "* Este viaja a través del axón hasta llegar a las dendritas de otras neuronas en las cuales el proceso se repite.\n",
    "\n",
    "* Este proceso sirve para incrementar o disminuir la relación entre las neuronas involucradas en el. Así, ante un determinado estímulo ciertas neuronas se activan y otras se inhiben.\n",
    "\n",
    "*  Mediante un proceso de aprendizaje se logran establecer los niveles correctos de activación-inhibición de las neuronas. Cuando este proceso se completa entonces ante determinados estímulos sabemos como responder y \"aprendemos\".\n",
    "\n",
    "* El \"conocimiento\" adquirido está  entonces en los niveles de relación entre las neuronas logrados durante el proceso de aprendizaje.\n",
    "\n",
    "* El cerebro es \"entrenado\" por repetición de estímulos!\n"
   ]
  },
  {
   "cell_type": "markdown",
   "metadata": {},
   "source": [
    "# Modelo Computacional\n",
    "\n",
    "La gran diferencia entre una máquina neuronal y los programas de computadora convencionales es que estás \"elaboran\", en cierta medida,la información de entrada para obtener una salida o respuesta.\n",
    "\n",
    "No se trata de la aplicación ciega y automática de un algorítmo. De hecho, el proceso de elaboración de la información recibidas depende de las distintas características, tanto estructurales como funcionales,de la red.\n",
    "\n",
    "Existen modelos muy diversos de redes neuronales en los cuales se siguen filosofias de diseño, reglas de aprendizaje y funciones de construcción de las respuestas muy distintas. Una **primera clasificación** se hace en función del recorrido que sigue la información dentro de la red. y así se dintinguen *redes alimentadas hacia adelante* y *redes con retropropagación*.\n",
    "\n",
    "A continuación se va a describir el modelo computacional general utilizando para desarrollar los diferentes sistemas de **Redes Neuronales Artificiales**"
   ]
  },
  {
   "cell_type": "markdown",
   "metadata": {},
   "source": [
    "## Neurona Artificial\n",
    "\n",
    "Una **neurona artificial** es una unidad de procesamiento de la información, es un dispositivo de simple de cálculo que ante un vector de entrada proporciona una única salida."
   ]
  },
  {
   "cell_type": "markdown",
   "metadata": {},
   "source": [
    "### Elementos de una neurona artificial\n",
    "\n",
    "<img src=\"imagenes/neurona_artificial.png\" hspace=\"0\" vspace=\"0\" style=\"float: right; width: 430px; height:300px;\"/>\n",
    "\n",
    "* #### Conjunto de entrada $x_i$\n",
    "* #### Pesos sinápticos $w_i$\n",
    "* #### Función de activación\n",
    "#### $$a=a_{1}x_{1}+a_{2}x_{2}+\\ldots+a_{n}x_{n}+b$$\n",
    "* #### Función de transferencia\n",
    "#### $$f(a_{1}x_{1}+a_{2}x_{2}+\\ldots+a_{n}x_{n}+b)$$\n",
    "* #### umbral, sesgo o bias $b$\n"
   ]
  },
  {
   "cell_type": "markdown",
   "metadata": {},
   "source": [
    "Veamos ahora cada las caracteristicas de cada uno de los elementos que conforman una neurona artificial:"
   ]
  },
  {
   "cell_type": "markdown",
   "metadata": {},
   "source": [
    "#### 1) Conjunto de entrada\n",
    "\n",
    "* El **conjunto de entrada o estímulos** se consideran vectores $(x_1, x_2,\\ldots, x_m)$\n",
    "\n",
    "<img src=\"imagenes/entradas.jpg\" hspace=\"0\" vspace=\"0\" style=\"float: center; width: 380px; height:150px;\"/>\n",
    "\n",
    "* Cada entrada del vector corresponde a un estímulo o variable en particular de la cual se tiene cierta cantidad de observaciones o valores.\n",
    "\n",
    "* Cuando se recibe el estímulo, cada entrada de este es multiplicada por el correspondiente peso sináptico de la dendrita que recibe dicho valor, y luego cada uno de estos resultados se suman.\n",
    "\n",
    "* El estímulo es procesado en el núcleo mediante la operación:\n",
    "\n",
    "$$f\\Bigg(\\sum_{i=0}^m w_ix_i+b \\Bigg)=f\\Bigg(X^TW+b \\Bigg)$$\n",
    "\n",
    "* La función $f$ se denomina **función de transferencia**.\n",
    "* El **parámetro de sesgo b** puede ser considerado como un peso sináptico $w_0 = b$, asociado a una dendrita que recibe que siempre recibe el estímulo $x_0 = 1$\n"
   ]
  },
  {
   "cell_type": "markdown",
   "metadata": {},
   "source": [
    "#### 2) Pesos Sinápticos\n",
    "\n",
    "* Los pesos sinápticos sirven para guardar el conocimiento adquirido.\n",
    "* Los valores de los pesos sinápticos se obtienen mediante un proceso de aprendizaje.\n",
    "* Este proceso de aprendizaje puede ser dividido en:\n",
    "    * Paradigmas de aprendizajes:\n",
    "        * Supervisado.\n",
    "        * No supervisado.\n",
    "* Algoritmos de entrenamiento.\n",
    "    * Regla delta.\n",
    "    * Aprendizaje competitivo.\n",
    "    * Apredizaje Hebbiano.\n",
    "    * etc.\n",
    "\n",
    "\n"
   ]
  },
  {
   "cell_type": "markdown",
   "metadata": {},
   "source": [
    "#### 3) Funciones de Activación\n",
    "\n",
    "* La función de activación se usa para limitar el rango de respuesta de una neurona.\n",
    "* Por lo general los rangos de valores se limitan a [0,1] o [-1,1], sin embargo otros rangos son posibles de acuerdo a la aplicación o problema a resolver.\n",
    "* Existen diversas funciones de activación yla decisión entre una u otra nuevamente depende de la aplicación o problema a resolver.\n",
    "* Existen funciones de activación comúnmente usadas y con las cuales se han obtenidos resultados satisfactorios en diversas aplicaciones\n"
   ]
  },
  {
   "cell_type": "code",
   "execution_count": 22,
   "metadata": {},
   "outputs": [],
   "source": [
    "import numpy as np\n",
    "from matplotlib import pyplot as plt\n",
    "%matplotlib inline\n",
    "from IPython.display import Math, display, Latex\n",
    "plt.rcParams['figure.figsize'] = (10, 5)"
   ]
  },
  {
   "cell_type": "markdown",
   "metadata": {},
   "source": [
    "##### **Función Umbral o Escalón**\n",
    "### $$f(x)=\\left\\{\\begin{array}{rr}\n",
    "                   1 & si\\quad x\\geq 0\\\\\n",
    "                   0 & si\\quad x<0 \n",
    "            \\end{array}\\right.$$"
   ]
  },
  {
   "cell_type": "code",
   "execution_count": 12,
   "metadata": {},
   "outputs": [],
   "source": [
    "def umbral(x):\n",
    "    return np.where(x>=0, 1,-1 )"
   ]
  },
  {
   "cell_type": "code",
   "execution_count": 3,
   "metadata": {},
   "outputs": [
    {
     "data": {
      "image/png": "[encoded data removed]",
      "text/plain": [
       "<Figure size 432x288 with 1 Axes>"
      ]
     },
     "metadata": {
      "needs_background": "light"
     },
     "output_type": "display_data"
    }
   ],
   "source": [
    "u=np.linspace(-10,10,100)\n",
    "y=umbral(u)\n",
    "plt.plot(u,y)\n",
    "plt.title('Función Umbral')\n",
    "plt.axis('normal')\n",
    "plt.xlabel('x')\n",
    "plt.ylabel('y')\n",
    "plt.grid()\n",
    "plt.show()"
   ]
  },
  {
   "cell_type": "markdown",
   "metadata": {},
   "source": [
    "##### **Función Tangencial**\n",
    "### $$f(x)=\\frac{e^{x}-e^{-x}}{e^{x}+e^{-x}}$$"
   ]
  },
  {
   "cell_type": "code",
   "execution_count": 6,
   "metadata": {},
   "outputs": [
    {
     "data": {
      "image/png": "[encoded data removed]",
      "text/plain": [
       "<Figure size 432x288 with 1 Axes>"
      ]
     },
     "metadata": {
      "needs_background": "light"
     },
     "output_type": "display_data"
    }
   ],
   "source": [
    "y=np.tanh(u)\n",
    "plt.plot(u,y)\n",
    "plt.title('Función Tangente Hiperbólica')\n",
    "plt.xlabel('x')\n",
    "plt.xlabel('y')\n",
    "plt.grid()\n",
    "plt.show()"
   ]
  },
  {
   "cell_type": "markdown",
   "metadata": {},
   "source": [
    "##### **Función Logística o Sigmoide o Softstep**\n",
    "\n",
    "### $$f(x)=\\frac{1}{1+e^{-\\alpha x}}$$"
   ]
  },
  {
   "cell_type": "code",
   "execution_count": 11,
   "metadata": {},
   "outputs": [],
   "source": [
    "def sigmoid(x):\n",
    "    return 1.0/(1.0 + np.exp(-x))"
   ]
  },
  {
   "cell_type": "code",
   "execution_count": 8,
   "metadata": {},
   "outputs": [
    {
     "data": {
      "image/png": "[encoded data removed]",
      "text/plain": [
       "<Figure size 432x288 with 1 Axes>"
      ]
     },
     "metadata": {
      "needs_background": "light"
     },
     "output_type": "display_data"
    }
   ],
   "source": [
    "y=sigmoid(u)\n",
    "plt.plot(u,y)\n",
    "plt.title('Función sigmoide')\n",
    "plt.xlabel('x')\n",
    "plt.xlabel('y')\n",
    "plt.grid()\n",
    "plt.show()"
   ]
  },
  {
   "cell_type": "markdown",
   "metadata": {},
   "source": [
    "##### **Función RELU (Rectified Linear Unit)**\n",
    "\n",
    "### $$f(x)=\\left\\{\\begin{array}{rr}\n",
    "                   x & si\\quad x\\geq 0\\\\\n",
    "                   0 & si\\quad x<0 \n",
    "            \\end{array}\\right.$$\n"
   ]
  },
  {
   "cell_type": "code",
   "execution_count": 4,
   "metadata": {},
   "outputs": [],
   "source": [
    "def relu(x):\n",
    "    d=np.zeros((len(x),1))\n",
    "    for i in range(len(x)):\n",
    "        if x[i]>=0:\n",
    "            d[i]=x[i]\n",
    "    return d"
   ]
  },
  {
   "cell_type": "code",
   "execution_count": 5,
   "metadata": {},
   "outputs": [
    {
     "data": {
      "image/png": "[encoded data removed]",
      "text/plain": [
       "<Figure size 432x288 with 1 Axes>"
      ]
     },
     "metadata": {
      "needs_background": "light"
     },
     "output_type": "display_data"
    }
   ],
   "source": [
    "y=relu(u)\n",
    "plt.plot(u,y)\n",
    "plt.title('Función RELU')\n",
    "plt.xlabel('x')\n",
    "plt.xlabel('y')\n",
    "plt.grid()\n",
    "plt.show()"
   ]
  },
  {
   "cell_type": "markdown",
   "metadata": {},
   "source": [
    "# El Perceptrón"
   ]
  },
  {
   "cell_type": "markdown",
   "metadata": {},
   "source": [
    "En los años 50, F.Rosenblatt desarrolló por primera vez la idea de Perceptrón basándose en la regla de aprendizaje de Hebb y en los modelos de neuronas biológicas de McCulloch y Pitts. Uno de las características que más interés despertó de este modelo fue su capacidad para aprender a reconocer patrones.\n",
    "\n",
    "El perceptrón se basa en una arquitectura monocapa. Está constituido por un conjunto de células de entrada, que reciben los patrones a reconocer o clasificar, y una o varias células de salida que se ocupan de clasificar estos patrones de entrada en clases. Cada célula de entrada está conectada con todas las células de salida. En la figura siguiente se puede observar la arquitectura de un perceptrón simple con 4 entradas y 1 salida.\n",
    "\n",
    "<img src=\"imagenes/perceptron.jpg\" alt=\"logo\" style=\"width: 500px;\"/>\n",
    "\n",
    "El umbral ($\\theta$) es un parámetro utilizado como factor de comparación a la hora de generar la salida de una neurona. En esta arquitectura, la salida de la neurona se calcula multiplicando los valores de las entradas, por los pesos de las conexiones:\n",
    "### $$a=\\sum_{i=0}^{n} w_ix_i$$\n",
    "\n",
    "Sin embargo, la salida definitiva depende del umbral, por lo que se obtiene aplicándole la función de salida al nivel de activación de la célula, es decir:\n",
    "### $$y=F(a,\\theta)$$"
   ]
  },
  {
   "cell_type": "markdown",
   "metadata": {},
   "source": [
    "## Aprendizaje\n",
    "El perceptrón es un tipo de red basado en aprendizaje supervisado, es decir, necesita conocer los valores esperados para cada una de las entradas antes de construir el modelo. Este proceso se lleva a cabo mediante la inserción de patrones de entrada del dataset con el que que se quiere entrenar la red.\n",
    "\n",
    "Entrenar la red no es más que encontrar los pesos sinápticos y el umbral que mejor haga predecir a nuestra red los resultados esperados. Para la determinación de estas variables, se sigue un proceso adaptativo. Se comienza con unos valores aleatorios, y se van modificando según la diferencia entre los valores deseados y los obtenidos por la red.\n",
    "\n",
    "En resumen, el perceptrón simple aprende iterativamente siguiendo estos pasos:\n",
    "\n",
    "### Algoritmo\n",
    "\n",
    "   1. Comenzar con valores aleatorios para los pesos y umbrales.\n",
    "   2. Seleccionar un vector de entrada $x$ del conjunto de ejemplos de entrenamiento.\n",
    "   3. Si $y\\neq \\hat{y(x)}$, la red da una respuesta incorrecta. En tal caso se modifican los pesos de acuerdo con:\n",
    "   $$\\Delta(w_i)=\\hat{y(x)}x_i$$\n",
    "   4. Si no se ha cumplido el criterio de finalización, volver a 2"
   ]
  },
  {
   "cell_type": "markdown",
   "metadata": {},
   "source": [
    "# Ejemplo Perceptrón Simple"
   ]
  },
  {
   "cell_type": "markdown",
   "metadata": {},
   "source": [
    "Se desea crear un perceptrón simple de aprenda la función lógica AND. En este caso tendremos el siguiente conjunto de datos de entrada y salida"
   ]
  },
  {
   "cell_type": "markdown",
   "metadata": {},
   "source": [
    "## Datos de entrenamiento"
   ]
  },
  {
   "cell_type": "code",
   "execution_count": 1,
   "metadata": {},
   "outputs": [],
   "source": [
    "import pandas as pd"
   ]
  },
  {
   "cell_type": "code",
   "execution_count": 5,
   "metadata": {},
   "outputs": [],
   "source": [
    "data = {'x1': [1,1,-1,-1],'x2': [1,-1,1,-1],'AND':[1,-1,-1,-1]}\n",
    "df = pd.DataFrame(data,columns=['x1', 'x2', 'AND'])"
   ]
  },
  {
   "cell_type": "code",
   "execution_count": 6,
   "metadata": {},
   "outputs": [
    {
     "data": {
      "text/html": [
       "<div>\n",
       "<style scoped>\n",
       "    .dataframe tbody tr th:only-of-type {\n",
       "        vertical-align: middle;\n",
       "    }\n",
       "\n",
       "    .dataframe tbody tr th {\n",
       "        vertical-align: top;\n",
       "    }\n",
       "\n",
       "    .dataframe thead th {\n",
       "        text-align: right;\n",
       "    }\n",
       "</style>\n",
       "<table border=\"1\" class=\"dataframe\">\n",
       "  <thead>\n",
       "    <tr style=\"text-align: right;\">\n",
       "      <th></th>\n",
       "      <th>x1</th>\n",
       "      <th>x2</th>\n",
       "      <th>AND</th>\n",
       "    </tr>\n",
       "  </thead>\n",
       "  <tbody>\n",
       "    <tr>\n",
       "      <th>0</th>\n",
       "      <td>1</td>\n",
       "      <td>1</td>\n",
       "      <td>1</td>\n",
       "    </tr>\n",
       "    <tr>\n",
       "      <th>1</th>\n",
       "      <td>1</td>\n",
       "      <td>-1</td>\n",
       "      <td>-1</td>\n",
       "    </tr>\n",
       "    <tr>\n",
       "      <th>2</th>\n",
       "      <td>-1</td>\n",
       "      <td>1</td>\n",
       "      <td>-1</td>\n",
       "    </tr>\n",
       "    <tr>\n",
       "      <th>3</th>\n",
       "      <td>-1</td>\n",
       "      <td>-1</td>\n",
       "      <td>-1</td>\n",
       "    </tr>\n",
       "  </tbody>\n",
       "</table>\n",
       "</div>"
      ],
      "text/plain": [
       "   x1  x2  AND\n",
       "0   1   1    1\n",
       "1   1  -1   -1\n",
       "2  -1   1   -1\n",
       "3  -1  -1   -1"
      ]
     },
     "execution_count": 6,
     "metadata": {},
     "output_type": "execute_result"
    }
   ],
   "source": [
    "df.head()"
   ]
  },
  {
   "cell_type": "markdown",
   "metadata": {},
   "source": [
    "#### Datos de entrada"
   ]
  },
  {
   "cell_type": "code",
   "execution_count": 10,
   "metadata": {},
   "outputs": [],
   "source": [
    "X=df.drop(columns='AND')"
   ]
  },
  {
   "cell_type": "code",
   "execution_count": 11,
   "metadata": {},
   "outputs": [
    {
     "data": {
      "text/html": [
       "<div>\n",
       "<style scoped>\n",
       "    .dataframe tbody tr th:only-of-type {\n",
       "        vertical-align: middle;\n",
       "    }\n",
       "\n",
       "    .dataframe tbody tr th {\n",
       "        vertical-align: top;\n",
       "    }\n",
       "\n",
       "    .dataframe thead th {\n",
       "        text-align: right;\n",
       "    }\n",
       "</style>\n",
       "<table border=\"1\" class=\"dataframe\">\n",
       "  <thead>\n",
       "    <tr style=\"text-align: right;\">\n",
       "      <th></th>\n",
       "      <th>x1</th>\n",
       "      <th>x2</th>\n",
       "    </tr>\n",
       "  </thead>\n",
       "  <tbody>\n",
       "    <tr>\n",
       "      <th>0</th>\n",
       "      <td>1</td>\n",
       "      <td>1</td>\n",
       "    </tr>\n",
       "    <tr>\n",
       "      <th>1</th>\n",
       "      <td>1</td>\n",
       "      <td>-1</td>\n",
       "    </tr>\n",
       "    <tr>\n",
       "      <th>2</th>\n",
       "      <td>-1</td>\n",
       "      <td>1</td>\n",
       "    </tr>\n",
       "    <tr>\n",
       "      <th>3</th>\n",
       "      <td>-1</td>\n",
       "      <td>-1</td>\n",
       "    </tr>\n",
       "  </tbody>\n",
       "</table>\n",
       "</div>"
      ],
      "text/plain": [
       "   x1  x2\n",
       "0   1   1\n",
       "1   1  -1\n",
       "2  -1   1\n",
       "3  -1  -1"
      ]
     },
     "execution_count": 11,
     "metadata": {},
     "output_type": "execute_result"
    }
   ],
   "source": [
    "X"
   ]
  },
  {
   "cell_type": "markdown",
   "metadata": {},
   "source": [
    "En este caso agregamos una columna de unos para que el término independiente sea considerado como un peso más del modelo"
   ]
  },
  {
   "cell_type": "code",
   "execution_count": 12,
   "metadata": {},
   "outputs": [],
   "source": [
    "X.insert(2,'bias',[1,1,1,1])"
   ]
  },
  {
   "cell_type": "code",
   "execution_count": 13,
   "metadata": {},
   "outputs": [
    {
     "data": {
      "text/html": [
       "<div>\n",
       "<style scoped>\n",
       "    .dataframe tbody tr th:only-of-type {\n",
       "        vertical-align: middle;\n",
       "    }\n",
       "\n",
       "    .dataframe tbody tr th {\n",
       "        vertical-align: top;\n",
       "    }\n",
       "\n",
       "    .dataframe thead th {\n",
       "        text-align: right;\n",
       "    }\n",
       "</style>\n",
       "<table border=\"1\" class=\"dataframe\">\n",
       "  <thead>\n",
       "    <tr style=\"text-align: right;\">\n",
       "      <th></th>\n",
       "      <th>x1</th>\n",
       "      <th>x2</th>\n",
       "      <th>bias</th>\n",
       "    </tr>\n",
       "  </thead>\n",
       "  <tbody>\n",
       "    <tr>\n",
       "      <th>0</th>\n",
       "      <td>1</td>\n",
       "      <td>1</td>\n",
       "      <td>1</td>\n",
       "    </tr>\n",
       "    <tr>\n",
       "      <th>1</th>\n",
       "      <td>1</td>\n",
       "      <td>-1</td>\n",
       "      <td>1</td>\n",
       "    </tr>\n",
       "    <tr>\n",
       "      <th>2</th>\n",
       "      <td>-1</td>\n",
       "      <td>1</td>\n",
       "      <td>1</td>\n",
       "    </tr>\n",
       "    <tr>\n",
       "      <th>3</th>\n",
       "      <td>-1</td>\n",
       "      <td>-1</td>\n",
       "      <td>1</td>\n",
       "    </tr>\n",
       "  </tbody>\n",
       "</table>\n",
       "</div>"
      ],
      "text/plain": [
       "   x1  x2  bias\n",
       "0   1   1     1\n",
       "1   1  -1     1\n",
       "2  -1   1     1\n",
       "3  -1  -1     1"
      ]
     },
     "execution_count": 13,
     "metadata": {},
     "output_type": "execute_result"
    }
   ],
   "source": [
    "X"
   ]
  },
  {
   "cell_type": "markdown",
   "metadata": {},
   "source": [
    "#### Datos de salida, Target o función objetivo"
   ]
  },
  {
   "cell_type": "code",
   "execution_count": 19,
   "metadata": {},
   "outputs": [],
   "source": [
    "Y=df[['AND']]"
   ]
  },
  {
   "cell_type": "code",
   "execution_count": 20,
   "metadata": {},
   "outputs": [
    {
     "data": {
      "text/html": [
       "<div>\n",
       "<style scoped>\n",
       "    .dataframe tbody tr th:only-of-type {\n",
       "        vertical-align: middle;\n",
       "    }\n",
       "\n",
       "    .dataframe tbody tr th {\n",
       "        vertical-align: top;\n",
       "    }\n",
       "\n",
       "    .dataframe thead th {\n",
       "        text-align: right;\n",
       "    }\n",
       "</style>\n",
       "<table border=\"1\" class=\"dataframe\">\n",
       "  <thead>\n",
       "    <tr style=\"text-align: right;\">\n",
       "      <th></th>\n",
       "      <th>AND</th>\n",
       "    </tr>\n",
       "  </thead>\n",
       "  <tbody>\n",
       "    <tr>\n",
       "      <th>0</th>\n",
       "      <td>1</td>\n",
       "    </tr>\n",
       "    <tr>\n",
       "      <th>1</th>\n",
       "      <td>-1</td>\n",
       "    </tr>\n",
       "    <tr>\n",
       "      <th>2</th>\n",
       "      <td>-1</td>\n",
       "    </tr>\n",
       "    <tr>\n",
       "      <th>3</th>\n",
       "      <td>-1</td>\n",
       "    </tr>\n",
       "  </tbody>\n",
       "</table>\n",
       "</div>"
      ],
      "text/plain": [
       "   AND\n",
       "0    1\n",
       "1   -1\n",
       "2   -1\n",
       "3   -1"
      ]
     },
     "execution_count": 20,
     "metadata": {},
     "output_type": "execute_result"
    }
   ],
   "source": [
    "Y.head()"
   ]
  },
  {
   "cell_type": "code",
   "execution_count": 23,
   "metadata": {},
   "outputs": [],
   "source": [
    "X=np.array(X)\n",
    "Y=np.array(Y)"
   ]
  },
  {
   "cell_type": "code",
   "execution_count": 24,
   "metadata": {},
   "outputs": [
    {
     "data": {
      "image/png": "[encoded data removed]",
      "text/plain": [
       "<Figure size 720x360 with 1 Axes>"
      ]
     },
     "metadata": {
      "needs_background": "light"
     },
     "output_type": "display_data"
    }
   ],
   "source": [
    "plt.scatter(X[:,0],X[:,1],c=Y)\n",
    "plt.show()"
   ]
  },
  {
   "cell_type": "markdown",
   "metadata": {},
   "source": [
    "## Se define la clase Perceptrón"
   ]
  },
  {
   "cell_type": "code",
   "execution_count": 25,
   "metadata": {},
   "outputs": [],
   "source": [
    "class perceptron():\n",
    "    def __init__(self,dim_entrada):\n",
    "        self.W=np.random.rand(1,dim_entrada)\n",
    "    \n",
    "    def activacion(self,a):\n",
    "        return np.where(a>=0,1,-1) \n",
    "    \n",
    "    def entrenamiento(self,x,y,entrenar=True):\n",
    "        salida=self.activacion(self.W@x.T)\n",
    "        if entrenar:\n",
    "            continuar=True            \n",
    "            if np.any(salida!=y):\n",
    "                for i in range(len(y)):\n",
    "                    if salida[0,i]!=y[i]:\n",
    "                        self.W+=y[i]*x[i]\n",
    "                salida=self.activacion(self.W@x.T)\n",
    "        \n",
    "        return salida, self.W          \n",
    "    "
   ]
  },
  {
   "cell_type": "markdown",
   "metadata": {},
   "source": [
    "## Entrenamiento de la red"
   ]
  },
  {
   "cell_type": "code",
   "execution_count": 26,
   "metadata": {},
   "outputs": [],
   "source": [
    "# Se crea la red\n",
    "red = perceptron(3)"
   ]
  },
  {
   "cell_type": "code",
   "execution_count": 27,
   "metadata": {},
   "outputs": [
    {
     "data": {
      "text/plain": [
       "array([[0.78305504, 0.74935966, 0.36757765]])"
      ]
     },
     "execution_count": 27,
     "metadata": {},
     "output_type": "execute_result"
    }
   ],
   "source": [
    "# Pesos iniciales generados aleatoriamente\n",
    "red.W"
   ]
  },
  {
   "cell_type": "code",
   "execution_count": 31,
   "metadata": {},
   "outputs": [
    {
     "name": "stdout",
     "output_type": "stream",
     "text": [
      "Pesos(W)=[[0.78305504 0.74935966 0.36757765]]\n",
      "Salida=[[ 1  1  1 -1]]\n",
      "Ecuación de la recta: y=-1.045x+-0.491\n"
     ]
    },
    {
     "data": {
      "image/png": "[encoded data removed]",
      "text/plain": [
       "<Figure size 720x360 with 1 Axes>"
      ]
     },
     "metadata": {
      "needs_background": "light"
     },
     "output_type": "display_data"
    }
   ],
   "source": [
    "# Estado inicial de la red\n",
    "salida = red.entrenamiento(X,Y,False)[0]\n",
    "x = np.linspace(-1.5,1.5,50)\n",
    "y = -(red.W[0,0]/red.W[0,1])*x-red.W[0,2]/red.W[0,1]\n",
    "print('Pesos(W)={}'.format(red.W))\n",
    "print('Salida={}'.format(salida))\n",
    "print('Ecuación de la recta: y={0:4.3f}x+{1:4.3f}'.format(-red.W[0,0]/red.W[0,1],-red.W[0,2]/red.W[0,1]))\n",
    "plt.scatter(X[:,0],X[:,1],c=Y)\n",
    "plt.axis([-1.5,1.5,-1.5,1.5])\n",
    "plt.plot(x,y,'r')\n",
    "plt.grid()\n",
    "plt.show()"
   ]
  },
  {
   "cell_type": "code",
   "execution_count": 33,
   "metadata": {},
   "outputs": [
    {
     "name": "stdout",
     "output_type": "stream",
     "text": [
      "Pesos(W)=[[ 1.78305504  1.74935966 -0.63242235]]\n",
      "Salida=[[ 1 -1 -1 -1]]\n",
      "Ecuación de la recta:y=-1.019x+0.362\n"
     ]
    },
    {
     "data": {
      "image/png": "[encoded data removed]",
      "text/plain": [
       "<Figure size 720x360 with 1 Axes>"
      ]
     },
     "metadata": {
      "needs_background": "light"
     },
     "output_type": "display_data"
    }
   ],
   "source": [
    "# Se grafica la recta clasificación\n",
    "salida=red.entrenamiento(X,Y)[0]\n",
    "y=-(red.W[0,1]/red.W[0,0])*x-red.W[0,2]/red.W[0,0]\n",
    "\n",
    "# Se imprimen los valores de los pesos, salida de la red y ecuación de la recta de clasificación\n",
    "print('Pesos(W)={}'.format(red.W))\n",
    "print('Salida={}'.format(salida))\n",
    "print('Ecuación de la recta:y={0:4.3f}x+{1:4.3f}'.format(-red.W[0,0]/red.W[0,1],-red.W[0,2]/red.W[0,1]))\n",
    "plt.scatter(X[:,0],X[:,1],c = Y)\n",
    "plt.axis([-1.5,1.5,-1.5,1.5])\n",
    "plt.plot(x,y,'r')\n",
    "plt.grid()\n",
    "plt.show()"
   ]
  },
  {
   "cell_type": "code",
   "execution_count": 34,
   "metadata": {},
   "outputs": [],
   "source": [
    "u=np.array([0,0,1])"
   ]
  },
  {
   "cell_type": "code",
   "execution_count": 35,
   "metadata": {},
   "outputs": [
    {
     "name": "stdout",
     "output_type": "stream",
     "text": [
      "[-1]\n"
     ]
    }
   ],
   "source": [
    "print(red.activacion(red.W@u.T))"
   ]
  },
  {
   "cell_type": "markdown",
   "metadata": {},
   "source": [
    "## Ejemplo de clasificación de datos sintéticos"
   ]
  },
  {
   "cell_type": "code",
   "execution_count": 36,
   "metadata": {},
   "outputs": [],
   "source": [
    "from sklearn.datasets import make_classification"
   ]
  },
  {
   "cell_type": "code",
   "execution_count": 78,
   "metadata": {},
   "outputs": [],
   "source": [
    "# Se crear dos cluster con distribución normal linealmente separable\n",
    "\n",
    "# Total de patrones\n",
    "n_datos = 100\n",
    "X,Y = make_classification(n_samples=n_datos,n_features=2,n_informative=2,n_repeated=0,n_clusters_per_class=1,n_redundant=0,class_sep=2)"
   ]
  },
  {
   "cell_type": "code",
   "execution_count": 79,
   "metadata": {},
   "outputs": [
    {
     "data": {
      "image/png": "[encoded data removed]",
      "text/plain": [
       "<Figure size 720x360 with 1 Axes>"
      ]
     },
     "metadata": {
      "needs_background": "light"
     },
     "output_type": "display_data"
    }
   ],
   "source": [
    "plt.scatter(X[:,0],X[:,1],c=Y)\n",
    "plt.axis('equal')\n",
    "plt.show()"
   ]
  },
  {
   "cell_type": "code",
   "execution_count": 80,
   "metadata": {},
   "outputs": [],
   "source": [
    "d=np.ones((n_datos,1))"
   ]
  },
  {
   "cell_type": "code",
   "execution_count": 81,
   "metadata": {},
   "outputs": [],
   "source": [
    "X=np.hstack((X,d))"
   ]
  },
  {
   "cell_type": "code",
   "execution_count": 82,
   "metadata": {},
   "outputs": [
    {
     "data": {
      "text/plain": [
       "(100, 3)"
      ]
     },
     "execution_count": 82,
     "metadata": {},
     "output_type": "execute_result"
    }
   ],
   "source": [
    "X.shape"
   ]
  },
  {
   "cell_type": "code",
   "execution_count": 83,
   "metadata": {},
   "outputs": [],
   "source": [
    "Y=np.where(Y==0,-1,1)"
   ]
  },
  {
   "cell_type": "code",
   "execution_count": 84,
   "metadata": {},
   "outputs": [],
   "source": [
    "net = perceptron(3)"
   ]
  },
  {
   "cell_type": "markdown",
   "metadata": {},
   "source": [
    "### Estado inicial de la red"
   ]
  },
  {
   "cell_type": "code",
   "execution_count": 85,
   "metadata": {},
   "outputs": [
    {
     "name": "stdout",
     "output_type": "stream",
     "text": [
      "Pesos(W)=[[0.01919843 0.86641672 0.74538553]]\n",
      "Salida=[[ 1 -1 -1  1 -1 -1 -1 -1  1  1  1 -1 -1 -1  1  1  1  1 -1  1 -1  1  1  1\n",
      "  -1  1  1 -1 -1 -1  1 -1  1  1  1  1  1 -1  1  1  1  1 -1 -1  1 -1 -1  1\n",
      "   1  1 -1  1  1  1 -1  1  1 -1  1 -1  1  1  1  1  1  1  1 -1 -1 -1  1  1\n",
      "   1 -1  1  1 -1 -1 -1 -1 -1  1  1  1  1 -1  1  1 -1 -1  1  1  1  1  1  1\n",
      "  -1  1 -1  1]]\n",
      "Ecuación de la recta:y=-0.022x+-0.860\n"
     ]
    },
    {
     "data": {
      "image/png": "[encoded data removed]",
      "text/plain": [
       "<Figure size 720x360 with 1 Axes>"
      ]
     },
     "metadata": {
      "needs_background": "light"
     },
     "output_type": "display_data"
    }
   ],
   "source": [
    "salida=net.entrenamiento(X,Y,False)[0]\n",
    "x = np.linspace(-4,4,100)\n",
    "y=-(net.W[0,0]/net.W[0,1])*x-net.W[0,2]/net.W[0,1]\n",
    "print('Pesos(W)={}'.format(net.W))\n",
    "print('Salida={}'.format(salida))\n",
    "print('Ecuación de la recta:y={0:4.3f}x+{1:4.3f}'.format(-net.W[0,0]/net.W[0,1],-net.W[0,2]/net.W[0,1]))\n",
    "plt.scatter(X[:,0],X[:,1],c=Y)\n",
    "plt.axis([-4.5,4.5,-4.5,4.5])\n",
    "plt.plot(x,y,'r')\n",
    "plt.grid()\n",
    "plt.show()"
   ]
  },
  {
   "cell_type": "code",
   "execution_count": 86,
   "metadata": {},
   "outputs": [
    {
     "name": "stdout",
     "output_type": "stream",
     "text": [
      "Pesos(W)=[[-11.37813051   0.17611296  -8.25461447]]\n",
      "Salida=[[ 1 -1 -1  1 -1 -1 -1 -1  1  1  1 -1 -1 -1  1  1 -1  1 -1 -1 -1  1  1  1\n",
      "  -1 -1  1 -1 -1 -1  1 -1  1  1  1  1  1 -1  1  1  1 -1 -1 -1  1 -1 -1 -1\n",
      "   1 -1 -1 -1  1  1 -1  1 -1 -1 -1 -1 -1  1  1  1  1  1  1 -1 -1 -1  1  1\n",
      "  -1 -1  1  1 -1 -1 -1 -1 -1  1  1  1  1 -1  1  1 -1 -1  1 -1  1  1  1  1\n",
      "  -1  1 -1  1]]\n",
      "Ecuación de la recta:y=64.607x+46.871\n"
     ]
    },
    {
     "data": {
      "image/png": "[encoded data removed]",
      "text/plain": [
       "<Figure size 720x360 with 1 Axes>"
      ]
     },
     "metadata": {
      "needs_background": "light"
     },
     "output_type": "display_data"
    }
   ],
   "source": [
    "salida=net.entrenamiento(X,Y)[0]\n",
    "y=-(net.W[0,0]/net.W[0,1])*x-net.W[0,2]/net.W[0,1]\n",
    "print('Pesos(W)={}'.format(net.W))\n",
    "print('Salida={}'.format(salida))\n",
    "print('Ecuación de la recta:y={0:4.3f}x+{1:4.3f}'.format(-net.W[0,0]/net.W[0,1],-net.W[0,2]/net.W[0,1]))\n",
    "plt.scatter(X[:,0],X[:,1],c=Y)\n",
    "plt.axis([-4.5,4.5,-4.5,4.5])\n",
    "plt.plot(x,y,'r')\n",
    "plt.grid()\n",
    "plt.show()"
   ]
  },
  {
   "cell_type": "code",
   "execution_count": 87,
   "metadata": {},
   "outputs": [
    {
     "data": {
      "text/plain": [
       "97"
      ]
     },
     "execution_count": 87,
     "metadata": {},
     "output_type": "execute_result"
    }
   ],
   "source": [
    "#Número de patrones bien clasificados\n",
    "np.sum(np.where(salida==Y,1,0))"
   ]
  }
 ],
 "metadata": {
  "kernelspec": {
   "display_name": "Python 3",
   "language": "python",
   "name": "python3"
  },
  "language_info": {
   "codemirror_mode": {
    "name": "ipython",
    "version": 3
   },
   "file_extension": ".py",
   "mimetype": "text/x-python",
   "name": "python",
   "nbconvert_exporter": "python",
   "pygments_lexer": "ipython3",
   "version": "3.8.5"
  }
 },
 "nbformat": 4,
 "nbformat_minor": 4
}
